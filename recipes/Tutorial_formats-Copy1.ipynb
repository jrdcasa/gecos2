{
 "cells": [
  {
   "cell_type": "markdown",
   "metadata": {
    "collapsed": true,
    "pycharm": {
     "name": "#%% md\n"
    }
   },
   "source": [
    "## Tutorial: Input file formats for Gecos_Rdkit\n",
    "\n",
    "This tutorial shows how to check if the input file to generate the conformer set is correctly conformed."
   ]
  },
  {
   "cell_type": "markdown",
   "metadata": {},
   "source": [
    "### PET\n",
    "    1.PDB from Materials Studio(MS).\n",
    "    2.MOL2 from Materials Studio.\n",
    "    3.MOL2 from openbabel using as input the MOL2 from MS.\n",
    "\n",
    "Be careful with the Atom name field assigned by MS.You may make changes by hand in these fields to work correctly."
   ]
  },
  {
   "cell_type": "markdown",
   "metadata": {},
   "source": [
    "The first step is to import the library ``gecos``. After that, you may define the path to the input files."
   ]
  },
  {
   "cell_type": "code",
   "execution_count": 1,
   "metadata": {
    "pycharm": {
     "name": "#%%\n"
    }
   },
   "outputs": [],
   "source": [
    "import gecos\n",
    "pdbfile_ms=\"/home/jramos/PycharmProjects/GeCos/data/PET.pdb\"\n"
   ]
  },
  {
   "cell_type": "markdown",
   "metadata": {},
   "source": [
    "Next step is to create the GecosRdkit objects for each file. Take care of the warning raises by the second object.\n",
    "This means that the file ``m̀ol2file_ms`` is not correctly conformed."
   ]
  },
  {
   "cell_type": "code",
   "execution_count": 2,
   "metadata": {
    "pycharm": {
     "name": "#%%\n"
    }
   },
   "outputs": [
    {
     "name": "stdout",
     "output_type": "stream",
     "text": [
      "\n",
      "        ***********************************************************************\n",
      "                           Generation of Conformers (GeCoS)\n",
      "                         -----------------------------------\n",
      "                         \n",
      "                                    Version 0.1\n",
      "                         \n",
      "                                  Dr. Javier Ramos\n",
      "                          Macromolecular Physics Department\n",
      "                    Instituto de Estructura de la Materia (IEM-CSIC)\n",
      "                                   Madrid (Spain)\n",
      "                                   \n",
      "                GeCoS is an open-source python library to quickly generate\n",
      "                conformers of small molecules or polymer segments \n",
      "                using RdKit and OpenBabel libraries. Once, the\n",
      "                conformers are generated, QM optimizations and subsequent \n",
      "                clustering can be done.\n",
      "                \n",
      "                This software is distributed under the terms of the\n",
      "                GNU General Public License v3.0 (GNU GPLv3). A copy of \n",
      "                the license (LICENSE.txt) is included with this distribution. \n",
      "                \n",
      "        ***********************************************************************\n",
      "                     \n",
      "        \n",
      "\t\t******** CREATION OF THE GECOS RDKIT OBJECT ********\n",
      "\n",
      "\t\tConformers will be generated with RdKit library (https://www.rdkit.org/docs/GettingStartedInPython.html)\n",
      "\n",
      "\t\tMolecular file seed  : /home/jramos/PycharmProjects/GeCos/data/PET.pdb\n",
      "\t\tBond Perception: True\n",
      "\n",
      "\t\t******** CREATION OF THE GECOS RDKIT OBJECT ********\n",
      "\n",
      "\n"
     ]
    }
   ],
   "source": [
    "g1_pdb_ms = gecos.GecosRdkit(filename=pdbfile_ms, bond_perception=True, logger=None)\n"
   ]
  },
  {
   "cell_type": "markdown",
   "metadata": {
    "pycharm": {
     "name": "#%% md\n"
    }
   },
   "source": [
    "Visualize the molecules:"
   ]
  },
  {
   "cell_type": "code",
   "execution_count": 8,
   "metadata": {
    "pycharm": {
     "name": "#%%\n"
    }
   },
   "outputs": [],
   "source": [
    "from rdkit.Chem.Draw import IPythonConsole\n",
    "from rdkit.Chem import Draw\n",
    "IPythonConsole.ipython_useSVG=True\n",
    "m1 = g1_pdb_ms.mol_rdkit\n",
    "Draw.ShowMol(m1)"
   ]
  },
  {
   "cell_type": "markdown",
   "metadata": {},
   "source": [
    "Note the warning when the bond perception is not used in a PDB file. This is due to in PDB files, information for\n",
    "bond orders are not available. As you can see, below the representation of this molecule is not correct.\n",
    "On the other hand, in the case of ``MOL2`` and ``SDF`` formats, as the bond information is available in the files,\n",
    "the ``bond_perception flag`` should be ``False``"
   ]
  },
  {
   "cell_type": "code",
   "execution_count": 5,
   "metadata": {
    "pycharm": {
     "name": "#%%\n"
    }
   },
   "outputs": [
    {
     "name": "stdout",
     "output_type": "stream",
     "text": [
      "\tBond_perception is FALSE for PDB file\n",
      "\t\tPDB file does not contain info for bond orders.\n",
      "\n"
     ]
    }
   ],
   "source": [
    "g1_pdb_ms = gecos.GecosRdkit(filename=pdbfile_ms, bond_perception=True, logger=None)\n",
    "g1_pdb_ms_nobp = gecos.GecosRdkit(filename=pdbfile_ms, bond_perception=False, logger=None)\n",
    "g1_mol2_ms_nobp = gecos.GecosRdkit(filename=mol2file_ms, bond_perception=False, logger=None)"
   ]
  },
  {
   "cell_type": "markdown",
   "metadata": {
    "pycharm": {
     "name": "#%% md\n"
    }
   },
   "source": [
    "Create a ``sdf`` file from ``pdb``"
   ]
  },
  {
   "cell_type": "code",
   "execution_count": 6,
   "metadata": {
    "pycharm": {
     "name": "#%%\n"
    }
   },
   "outputs": [],
   "source": [
    "import utils\n",
    "utils.pdbtosdf(pdbfile_ms)\n",
    "sdffile_ms=\"/home/jramos/PycharmProjects/GeCos/data/nitrobenzene_ms_frompdb.sdf\"\n",
    "g1_sdf_ms = gecos.GecosRdkit(filename=sdffile_ms, bond_perception=False, logger=None)"
   ]
  },
  {
   "cell_type": "markdown",
   "metadata": {},
   "source": [
    "Draw 2D structures"
   ]
  },
  {
   "cell_type": "code",
   "execution_count": 7,
   "metadata": {
    "pycharm": {
     "name": "#%%\n"
    }
   },
   "outputs": [
    {
     "data": {
      "image/svg+xml": [
       "<svg xmlns=\"http://www.w3.org/2000/svg\" xmlns:rdkit=\"http://www.rdkit.org/xml\" xmlns:xlink=\"http://www.w3.org/1999/xlink\" version=\"1.1\" baseProfile=\"full\" xml:space=\"preserve\" width=\"500px\" height=\"500px\" viewBox=\"0 0 500 500\">\n",
       "<!-- END OF HEADER -->\n",
       "<rect style=\"opacity:1.0;fill:#FFFFFF;stroke:none\" width=\"500\" height=\"500\" x=\"0\" y=\"0\"> </rect>\n",
       "<rect style=\"opacity:1.0;fill:#FFFFFF;stroke:none\" width=\"500\" height=\"500\" x=\"0\" y=\"0\"> </rect>\n",
       "<rect style=\"opacity:1.0;fill:#FFFFFF;stroke:none\" width=\"500\" height=\"500\" x=\"0\" y=\"0\"> </rect>\n",
       "<rect style=\"opacity:1.0;fill:#FFFFFF;stroke:none\" width=\"500\" height=\"500\" x=\"0\" y=\"0\"> </rect>\n",
       "<rect style=\"opacity:1.0;fill:#FFFFFF;stroke:none\" width=\"500\" height=\"500\" x=\"0\" y=\"0\"> </rect>\n",
       "<path class=\"bond-0 atom-0 atom-1\" d=\"M 195.664,125 L 171.641,83.4412\" style=\"fill:none;fill-rule:evenodd;stroke:#000000;stroke-width:2.0px;stroke-linecap:butt;stroke-linejoin:miter;stroke-opacity:1\"/>\n",
       "<path class=\"bond-0 atom-0 atom-1\" d=\"M 183.147,123.918 L 166.331,94.8273\" style=\"fill:none;fill-rule:evenodd;stroke:#000000;stroke-width:2.0px;stroke-linecap:butt;stroke-linejoin:miter;stroke-opacity:1\"/>\n",
       "<path class=\"bond-1 atom-0 atom-5\" d=\"M 195.664,125 L 171.641,166.559\" style=\"fill:none;fill-rule:evenodd;stroke:#000000;stroke-width:2.0px;stroke-linecap:butt;stroke-linejoin:miter;stroke-opacity:1\"/>\n",
       "<path class=\"bond-2 atom-0 atom-6\" d=\"M 195.664,125 L 226.297,125\" style=\"fill:none;fill-rule:evenodd;stroke:#000000;stroke-width:2.0px;stroke-linecap:butt;stroke-linejoin:miter;stroke-opacity:1\"/>\n",
       "<path class=\"bond-3 atom-1 atom-2\" d=\"M 171.641,83.4412 L 123.665,83.0294\" style=\"fill:none;fill-rule:evenodd;stroke:#000000;stroke-width:2.0px;stroke-linecap:butt;stroke-linejoin:miter;stroke-opacity:1\"/>\n",
       "<path class=\"bond-4 atom-1 atom-7\" d=\"M 171.641,83.4412 L 185.486,59.335\" style=\"fill:none;fill-rule:evenodd;stroke:#000000;stroke-width:2.0px;stroke-linecap:butt;stroke-linejoin:miter;stroke-opacity:1\"/>\n",
       "<path class=\"bond-5 atom-2 atom-3\" d=\"M 123.665,83.0294 L 100.706,125\" style=\"fill:none;fill-rule:evenodd;stroke:#000000;stroke-width:2.0px;stroke-linecap:butt;stroke-linejoin:miter;stroke-opacity:1\"/>\n",
       "<path class=\"bond-5 atom-2 atom-3\" d=\"M 129.254,94.2658 L 113.183,123.645\" style=\"fill:none;fill-rule:evenodd;stroke:#000000;stroke-width:2.0px;stroke-linecap:butt;stroke-linejoin:miter;stroke-opacity:1\"/>\n",
       "<path class=\"bond-6 atom-2 atom-8\" d=\"M 123.665,83.0294 L 109.255,59.5726\" style=\"fill:none;fill-rule:evenodd;stroke:#000000;stroke-width:2.0px;stroke-linecap:butt;stroke-linejoin:miter;stroke-opacity:1\"/>\n",
       "<path class=\"bond-7 atom-3 atom-4\" d=\"M 100.706,125 L 123.665,166.971\" style=\"fill:none;fill-rule:evenodd;stroke:#000000;stroke-width:2.0px;stroke-linecap:butt;stroke-linejoin:miter;stroke-opacity:1\"/>\n",
       "<path class=\"bond-8 atom-3 atom-11\" d=\"M 100.706,125 L 82.4953,125\" style=\"fill:none;fill-rule:evenodd;stroke:#000000;stroke-width:2.0px;stroke-linecap:butt;stroke-linejoin:miter;stroke-opacity:1\"/>\n",
       "<path class=\"bond-8 atom-3 atom-11\" d=\"M 82.4953,125 L 64.2841,125\" style=\"fill:none;fill-rule:evenodd;stroke:#0000FF;stroke-width:2.0px;stroke-linecap:butt;stroke-linejoin:miter;stroke-opacity:1\"/>\n",
       "<path class=\"bond-9 atom-4 atom-5\" d=\"M 123.665,166.971 L 171.641,166.559\" style=\"fill:none;fill-rule:evenodd;stroke:#000000;stroke-width:2.0px;stroke-linecap:butt;stroke-linejoin:miter;stroke-opacity:1\"/>\n",
       "<path class=\"bond-9 atom-4 atom-5\" d=\"M 130.773,156.614 L 164.356,156.326\" style=\"fill:none;fill-rule:evenodd;stroke:#000000;stroke-width:2.0px;stroke-linecap:butt;stroke-linejoin:miter;stroke-opacity:1\"/>\n",
       "<path class=\"bond-10 atom-4 atom-9\" d=\"M 123.665,166.971 L 109.255,190.427\" style=\"fill:none;fill-rule:evenodd;stroke:#000000;stroke-width:2.0px;stroke-linecap:butt;stroke-linejoin:miter;stroke-opacity:1\"/>\n",
       "<path class=\"bond-11 atom-5 atom-10\" d=\"M 171.641,166.559 L 185.486,190.665\" style=\"fill:none;fill-rule:evenodd;stroke:#000000;stroke-width:2.0px;stroke-linecap:butt;stroke-linejoin:miter;stroke-opacity:1\"/>\n",
       "<path class=\"bond-12 atom-11 atom-12\" d=\"M 45.5876,133.344 L 40.1647,143.797\" style=\"fill:none;fill-rule:evenodd;stroke:#0000FF;stroke-width:2.0px;stroke-linecap:butt;stroke-linejoin:miter;stroke-opacity:1\"/>\n",
       "<path class=\"bond-12 atom-11 atom-12\" d=\"M 40.1647,143.797 L 34.7417,154.25\" style=\"fill:none;fill-rule:evenodd;stroke:#FF0000;stroke-width:2.0px;stroke-linecap:butt;stroke-linejoin:miter;stroke-opacity:1\"/>\n",
       "<path class=\"bond-13 atom-11 atom-13\" d=\"M 50.157,114.286 L 44.7928,103.946\" style=\"fill:none;fill-rule:evenodd;stroke:#0000FF;stroke-width:2.0px;stroke-linecap:butt;stroke-linejoin:miter;stroke-opacity:1\"/>\n",
       "<path class=\"bond-13 atom-11 atom-13\" d=\"M 44.7928,103.946 L 39.4286,93.6062\" style=\"fill:none;fill-rule:evenodd;stroke:#FF0000;stroke-width:2.0px;stroke-linecap:butt;stroke-linejoin:miter;stroke-opacity:1\"/>\n",
       "<path class=\"bond-13 atom-11 atom-13\" d=\"M 41.0183,119.027 L 35.6541,108.687\" style=\"fill:none;fill-rule:evenodd;stroke:#0000FF;stroke-width:2.0px;stroke-linecap:butt;stroke-linejoin:miter;stroke-opacity:1\"/>\n",
       "<path class=\"bond-13 atom-11 atom-13\" d=\"M 35.6541,108.687 L 30.2899,98.3473\" style=\"fill:none;fill-rule:evenodd;stroke:#FF0000;stroke-width:2.0px;stroke-linecap:butt;stroke-linejoin:miter;stroke-opacity:1\"/>\n",
       "<path class=\"atom-6\" d=\"M 227.229 117.711 L 229.206 117.711 L 229.206 123.909 L 236.66 123.909 L 236.66 117.711 L 238.636 117.711 L 238.636 132.289 L 236.66 132.289 L 236.66 125.556 L 229.206 125.556 L 229.206 132.289 L 227.229 132.289 L 227.229 117.711 \" fill=\"#000000\"/>\n",
       "<path class=\"atom-7\" d=\"M 184.504 43.8248 L 186.48 43.8248 L 186.48 50.0226 L 193.934 50.0226 L 193.934 43.8248 L 195.911 43.8248 L 195.911 58.403 L 193.934 58.403 L 193.934 51.6698 L 186.48 51.6698 L 186.48 58.403 L 184.504 58.403 L 184.504 43.8248 \" fill=\"#000000\"/>\n",
       "<path class=\"atom-8\" d=\"M 98.5033 44.065 L 100.48 44.065 L 100.48 50.2628 L 107.934 50.2628 L 107.934 44.065 L 109.91 44.065 L 109.91 58.6432 L 107.934 58.6432 L 107.934 51.9101 L 100.48 51.9101 L 100.48 58.6432 L 98.5033 58.6432 L 98.5033 44.065 \" fill=\"#000000\"/>\n",
       "<path class=\"atom-9\" d=\"M 98.5033 191.357 L 100.48 191.357 L 100.48 197.555 L 107.934 197.555 L 107.934 191.357 L 109.91 191.357 L 109.91 205.935 L 107.934 205.935 L 107.934 199.202 L 100.48 199.202 L 100.48 205.935 L 98.5033 205.935 L 98.5033 191.357 \" fill=\"#000000\"/>\n",
       "<path class=\"atom-10\" d=\"M 184.504 191.597 L 186.48 191.597 L 186.48 197.795 L 193.934 197.795 L 193.934 191.597 L 195.911 191.597 L 195.911 206.175 L 193.934 206.175 L 193.934 199.442 L 186.48 199.442 L 186.48 206.175 L 184.504 206.175 L 184.504 191.597 \" fill=\"#000000\"/>\n",
       "<path class=\"atom-11\" d=\"M 46.6938 117.711 L 51.4708 125.432 Q 51.9444 126.194, 52.7062 127.574 Q 53.4681 128.953, 53.5093 129.036 L 53.5093 117.711 L 55.4448 117.711 L 55.4448 132.289 L 53.4475 132.289 L 48.3204 123.847 Q 47.7233 122.859, 47.085 121.726 Q 46.4673 120.594, 46.2819 120.244 L 46.2819 132.289 L 44.3876 132.289 L 44.3876 117.711 L 46.6938 117.711 \" fill=\"#0000FF\"/>\n",
       "<path class=\"atom-11\" d=\"M 56.6679 120.339 L 59.2363 120.339 L 59.2363 117.634 L 60.3779 117.634 L 60.3779 120.339 L 63.0143 120.339 L 63.0143 121.317 L 60.3779 121.317 L 60.3779 124.035 L 59.2363 124.035 L 59.2363 121.317 L 56.6679 121.317 L 56.6679 120.339 \" fill=\"#0000FF\"/>\n",
       "<path class=\"atom-12\" d=\"M 23.8004 162.482 Q 23.8004 158.981, 25.53 157.025 Q 27.2596 155.069, 30.4923 155.069 Q 33.7251 155.069, 35.4547 157.025 Q 37.1843 158.981, 37.1843 162.482 Q 37.1843 166.023, 35.4341 168.041 Q 33.6839 170.039, 30.4923 170.039 Q 27.2802 170.039, 25.53 168.041 Q 23.8004 166.044, 23.8004 162.482 M 30.4923 168.391 Q 32.7161 168.391, 33.9104 166.909 Q 35.1252 165.406, 35.1252 162.482 Q 35.1252 159.62, 33.9104 158.178 Q 32.7161 156.716, 30.4923 156.716 Q 28.2686 156.716, 27.0537 158.158 Q 25.8595 159.599, 25.8595 162.482 Q 25.8595 165.426, 27.0537 166.909 Q 28.2686 168.391, 30.4923 168.391 \" fill=\"#FF0000\"/>\n",
       "<path class=\"atom-12\" d=\"M 37.8638 157.449 L 42.8513 157.449 L 42.8513 158.536 L 37.8638 158.536 L 37.8638 157.449 \" fill=\"#FF0000\"/>\n",
       "<path class=\"atom-13\" d=\"M 23.8004 87.6005 Q 23.8004 84.1001, 25.53 82.144 Q 27.2596 80.1879, 30.4923 80.1879 Q 33.7251 80.1879, 35.4547 82.144 Q 37.1843 84.1001, 37.1843 87.6005 Q 37.1843 91.1421, 35.4341 93.16 Q 33.6839 95.1573, 30.4923 95.1573 Q 27.2802 95.1573, 25.53 93.16 Q 23.8004 91.1627, 23.8004 87.6005 M 30.4923 93.51 Q 32.7161 93.51, 33.9104 92.0275 Q 35.1252 90.5244, 35.1252 87.6005 Q 35.1252 84.7384, 33.9104 83.2971 Q 32.7161 81.8351, 30.4923 81.8351 Q 28.2686 81.8351, 27.0537 83.2765 Q 25.8595 84.7178, 25.8595 87.6005 Q 25.8595 90.545, 27.0537 92.0275 Q 28.2686 93.51, 30.4923 93.51 \" fill=\"#FF0000\"/>\n",
       "<path class=\"bond-0 atom-0 atom-1\" d=\"M 445.664,125 L 421.641,83.4412\" style=\"fill:none;fill-rule:evenodd;stroke:#000000;stroke-width:2.0px;stroke-linecap:butt;stroke-linejoin:miter;stroke-opacity:1\"/>\n",
       "<path class=\"bond-1 atom-0 atom-5\" d=\"M 445.664,125 L 421.641,166.559\" style=\"fill:none;fill-rule:evenodd;stroke:#000000;stroke-width:2.0px;stroke-linecap:butt;stroke-linejoin:miter;stroke-opacity:1\"/>\n",
       "<path class=\"bond-2 atom-0 atom-6\" d=\"M 445.664,125 L 476.297,125\" style=\"fill:none;fill-rule:evenodd;stroke:#000000;stroke-width:2.0px;stroke-linecap:butt;stroke-linejoin:miter;stroke-opacity:1\"/>\n",
       "<path class=\"bond-3 atom-1 atom-2\" d=\"M 421.641,83.4412 L 373.665,83.0294\" style=\"fill:none;fill-rule:evenodd;stroke:#000000;stroke-width:2.0px;stroke-linecap:butt;stroke-linejoin:miter;stroke-opacity:1\"/>\n",
       "<path class=\"bond-4 atom-1 atom-7\" d=\"M 421.641,83.4412 L 435.486,59.335\" style=\"fill:none;fill-rule:evenodd;stroke:#000000;stroke-width:2.0px;stroke-linecap:butt;stroke-linejoin:miter;stroke-opacity:1\"/>\n",
       "<path class=\"bond-5 atom-2 atom-3\" d=\"M 373.665,83.0294 L 350.706,125\" style=\"fill:none;fill-rule:evenodd;stroke:#000000;stroke-width:2.0px;stroke-linecap:butt;stroke-linejoin:miter;stroke-opacity:1\"/>\n",
       "<path class=\"bond-6 atom-2 atom-8\" d=\"M 373.665,83.0294 L 359.255,59.5726\" style=\"fill:none;fill-rule:evenodd;stroke:#000000;stroke-width:2.0px;stroke-linecap:butt;stroke-linejoin:miter;stroke-opacity:1\"/>\n",
       "<path class=\"bond-7 atom-3 atom-4\" d=\"M 350.706,125 L 373.665,166.971\" style=\"fill:none;fill-rule:evenodd;stroke:#000000;stroke-width:2.0px;stroke-linecap:butt;stroke-linejoin:miter;stroke-opacity:1\"/>\n",
       "<path class=\"bond-8 atom-3 atom-11\" d=\"M 350.706,125 L 332.495,125\" style=\"fill:none;fill-rule:evenodd;stroke:#000000;stroke-width:2.0px;stroke-linecap:butt;stroke-linejoin:miter;stroke-opacity:1\"/>\n",
       "<path class=\"bond-8 atom-3 atom-11\" d=\"M 332.495,125 L 314.284,125\" style=\"fill:none;fill-rule:evenodd;stroke:#0000FF;stroke-width:2.0px;stroke-linecap:butt;stroke-linejoin:miter;stroke-opacity:1\"/>\n",
       "<path class=\"bond-9 atom-4 atom-5\" d=\"M 373.665,166.971 L 421.641,166.559\" style=\"fill:none;fill-rule:evenodd;stroke:#000000;stroke-width:2.0px;stroke-linecap:butt;stroke-linejoin:miter;stroke-opacity:1\"/>\n",
       "<path class=\"bond-10 atom-4 atom-9\" d=\"M 373.665,166.971 L 359.255,190.427\" style=\"fill:none;fill-rule:evenodd;stroke:#000000;stroke-width:2.0px;stroke-linecap:butt;stroke-linejoin:miter;stroke-opacity:1\"/>\n",
       "<path class=\"bond-11 atom-5 atom-10\" d=\"M 421.641,166.559 L 435.486,190.665\" style=\"fill:none;fill-rule:evenodd;stroke:#000000;stroke-width:2.0px;stroke-linecap:butt;stroke-linejoin:miter;stroke-opacity:1\"/>\n",
       "<path class=\"bond-12 atom-11 atom-12\" d=\"M 295.588,133.344 L 290.165,143.797\" style=\"fill:none;fill-rule:evenodd;stroke:#0000FF;stroke-width:2.0px;stroke-linecap:butt;stroke-linejoin:miter;stroke-opacity:1\"/>\n",
       "<path class=\"bond-12 atom-11 atom-12\" d=\"M 290.165,143.797 L 284.742,154.25\" style=\"fill:none;fill-rule:evenodd;stroke:#FF0000;stroke-width:2.0px;stroke-linecap:butt;stroke-linejoin:miter;stroke-opacity:1\"/>\n",
       "<path class=\"bond-13 atom-11 atom-13\" d=\"M 295.588,116.656 L 290.223,106.317\" style=\"fill:none;fill-rule:evenodd;stroke:#0000FF;stroke-width:2.0px;stroke-linecap:butt;stroke-linejoin:miter;stroke-opacity:1\"/>\n",
       "<path class=\"bond-13 atom-11 atom-13\" d=\"M 290.223,106.317 L 284.859,95.9768\" style=\"fill:none;fill-rule:evenodd;stroke:#FF0000;stroke-width:2.0px;stroke-linecap:butt;stroke-linejoin:miter;stroke-opacity:1\"/>\n",
       "<path class=\"atom-6\" d=\"M 477.229 117.711 L 479.206 117.711 L 479.206 123.909 L 486.66 123.909 L 486.66 117.711 L 488.636 117.711 L 488.636 132.289 L 486.66 132.289 L 486.66 125.556 L 479.206 125.556 L 479.206 132.289 L 477.229 132.289 L 477.229 117.711 \" fill=\"#000000\"/>\n",
       "<path class=\"atom-7\" d=\"M 434.504 43.8248 L 436.48 43.8248 L 436.48 50.0226 L 443.934 50.0226 L 443.934 43.8248 L 445.911 43.8248 L 445.911 58.403 L 443.934 58.403 L 443.934 51.6698 L 436.48 51.6698 L 436.48 58.403 L 434.504 58.403 L 434.504 43.8248 \" fill=\"#000000\"/>\n",
       "<path class=\"atom-8\" d=\"M 348.503 44.065 L 350.48 44.065 L 350.48 50.2628 L 357.934 50.2628 L 357.934 44.065 L 359.91 44.065 L 359.91 58.6432 L 357.934 58.6432 L 357.934 51.9101 L 350.48 51.9101 L 350.48 58.6432 L 348.503 58.6432 L 348.503 44.065 \" fill=\"#000000\"/>\n",
       "<path class=\"atom-9\" d=\"M 348.503 191.357 L 350.48 191.357 L 350.48 197.555 L 357.934 197.555 L 357.934 191.357 L 359.91 191.357 L 359.91 205.935 L 357.934 205.935 L 357.934 199.202 L 350.48 199.202 L 350.48 205.935 L 348.503 205.935 L 348.503 191.357 \" fill=\"#000000\"/>\n",
       "<path class=\"atom-10\" d=\"M 434.504 191.597 L 436.48 191.597 L 436.48 197.795 L 443.934 197.795 L 443.934 191.597 L 445.911 191.597 L 445.911 206.175 L 443.934 206.175 L 443.934 199.442 L 436.48 199.442 L 436.48 206.175 L 434.504 206.175 L 434.504 191.597 \" fill=\"#000000\"/>\n",
       "<path class=\"atom-11\" d=\"M 281.271 117.711 L 283.248 117.711 L 283.248 123.909 L 290.702 123.909 L 290.702 117.711 L 292.679 117.711 L 292.679 132.289 L 290.702 132.289 L 290.702 125.556 L 283.248 125.556 L 283.248 132.289 L 281.271 132.289 L 281.271 117.711 \" fill=\"#0000FF\"/>\n",
       "<path class=\"atom-11\" d=\"M 296.694 117.711 L 301.471 125.432 Q 301.944 126.194, 302.706 127.574 Q 303.468 128.953, 303.509 129.036 L 303.509 117.711 L 305.445 117.711 L 305.445 132.289 L 303.447 132.289 L 298.32 123.847 Q 297.723 122.859, 297.085 121.726 Q 296.467 120.594, 296.282 120.244 L 296.282 132.289 L 294.388 132.289 L 294.388 117.711 L 296.694 117.711 \" fill=\"#0000FF\"/>\n",
       "<path class=\"atom-11\" d=\"M 306.668 120.339 L 309.236 120.339 L 309.236 117.634 L 310.378 117.634 L 310.378 120.339 L 313.014 120.339 L 313.014 121.317 L 310.378 121.317 L 310.378 124.035 L 309.236 124.035 L 309.236 121.317 L 306.668 121.317 L 306.668 120.339 \" fill=\"#0000FF\"/>\n",
       "<path class=\"atom-12\" d=\"M 273.8 162.482 Q 273.8 158.981, 275.53 157.025 Q 277.26 155.069, 280.492 155.069 Q 283.725 155.069, 285.455 157.025 Q 287.184 158.981, 287.184 162.482 Q 287.184 166.023, 285.434 168.041 Q 283.684 170.039, 280.492 170.039 Q 277.28 170.039, 275.53 168.041 Q 273.8 166.044, 273.8 162.482 M 280.492 168.391 Q 282.716 168.391, 283.91 166.909 Q 285.125 165.406, 285.125 162.482 Q 285.125 159.62, 283.91 158.178 Q 282.716 156.716, 280.492 156.716 Q 278.269 156.716, 277.054 158.158 Q 275.859 159.599, 275.859 162.482 Q 275.859 165.426, 277.054 166.909 Q 278.269 168.391, 280.492 168.391 \" fill=\"#FF0000\"/>\n",
       "<path class=\"atom-12\" d=\"M 287.864 157.449 L 292.851 157.449 L 292.851 158.536 L 287.864 158.536 L 287.864 157.449 \" fill=\"#FF0000\"/>\n",
       "<path class=\"atom-13\" d=\"M 261.364 80.3526 L 263.34 80.3526 L 263.34 86.5504 L 270.794 86.5504 L 270.794 80.3526 L 272.771 80.3526 L 272.771 94.9308 L 270.794 94.9308 L 270.794 88.1976 L 263.34 88.1976 L 263.34 94.9308 L 261.364 94.9308 L 261.364 80.3526 \" fill=\"#FF0000\"/>\n",
       "<path class=\"atom-13\" d=\"M 273.8 87.6005 Q 273.8 84.1001, 275.53 82.144 Q 277.26 80.1879, 280.492 80.1879 Q 283.725 80.1879, 285.455 82.144 Q 287.184 84.1001, 287.184 87.6005 Q 287.184 91.1421, 285.434 93.16 Q 283.684 95.1573, 280.492 95.1573 Q 277.28 95.1573, 275.53 93.16 Q 273.8 91.1627, 273.8 87.6005 M 280.492 93.51 Q 282.716 93.51, 283.91 92.0275 Q 285.125 90.5244, 285.125 87.6005 Q 285.125 84.7384, 283.91 83.2971 Q 282.716 81.8351, 280.492 81.8351 Q 278.269 81.8351, 277.054 83.2765 Q 275.859 84.7178, 275.859 87.6005 Q 275.859 90.545, 277.054 92.0275 Q 278.269 93.51, 280.492 93.51 \" fill=\"#FF0000\"/>\n",
       "<path class=\"bond-0 atom-0 atom-1\" d=\"M 195.664,375 L 171.641,333.441\" style=\"fill:none;fill-rule:evenodd;stroke:#000000;stroke-width:2.0px;stroke-linecap:butt;stroke-linejoin:miter;stroke-opacity:1\"/>\n",
       "<path class=\"bond-0 atom-0 atom-1\" d=\"M 183.147,373.918 L 166.331,344.827\" style=\"fill:none;fill-rule:evenodd;stroke:#000000;stroke-width:2.0px;stroke-linecap:butt;stroke-linejoin:miter;stroke-opacity:1\"/>\n",
       "<path class=\"bond-1 atom-0 atom-5\" d=\"M 195.664,375 L 171.641,416.559\" style=\"fill:none;fill-rule:evenodd;stroke:#000000;stroke-width:2.0px;stroke-linecap:butt;stroke-linejoin:miter;stroke-opacity:1\"/>\n",
       "<path class=\"bond-2 atom-0 atom-6\" d=\"M 195.664,375 L 226.297,375\" style=\"fill:none;fill-rule:evenodd;stroke:#000000;stroke-width:2.0px;stroke-linecap:butt;stroke-linejoin:miter;stroke-opacity:1\"/>\n",
       "<path class=\"bond-3 atom-1 atom-2\" d=\"M 171.641,333.441 L 123.665,333.029\" style=\"fill:none;fill-rule:evenodd;stroke:#000000;stroke-width:2.0px;stroke-linecap:butt;stroke-linejoin:miter;stroke-opacity:1\"/>\n",
       "<path class=\"bond-4 atom-1 atom-7\" d=\"M 171.641,333.441 L 185.486,309.335\" style=\"fill:none;fill-rule:evenodd;stroke:#000000;stroke-width:2.0px;stroke-linecap:butt;stroke-linejoin:miter;stroke-opacity:1\"/>\n",
       "<path class=\"bond-5 atom-2 atom-3\" d=\"M 123.665,333.029 L 100.706,375\" style=\"fill:none;fill-rule:evenodd;stroke:#000000;stroke-width:2.0px;stroke-linecap:butt;stroke-linejoin:miter;stroke-opacity:1\"/>\n",
       "<path class=\"bond-5 atom-2 atom-3\" d=\"M 129.254,344.266 L 113.183,373.645\" style=\"fill:none;fill-rule:evenodd;stroke:#000000;stroke-width:2.0px;stroke-linecap:butt;stroke-linejoin:miter;stroke-opacity:1\"/>\n",
       "<path class=\"bond-6 atom-2 atom-8\" d=\"M 123.665,333.029 L 109.255,309.573\" style=\"fill:none;fill-rule:evenodd;stroke:#000000;stroke-width:2.0px;stroke-linecap:butt;stroke-linejoin:miter;stroke-opacity:1\"/>\n",
       "<path class=\"bond-7 atom-3 atom-4\" d=\"M 100.706,375 L 123.665,416.971\" style=\"fill:none;fill-rule:evenodd;stroke:#000000;stroke-width:2.0px;stroke-linecap:butt;stroke-linejoin:miter;stroke-opacity:1\"/>\n",
       "<path class=\"bond-8 atom-3 atom-11\" d=\"M 100.706,375 L 82.4953,375\" style=\"fill:none;fill-rule:evenodd;stroke:#000000;stroke-width:2.0px;stroke-linecap:butt;stroke-linejoin:miter;stroke-opacity:1\"/>\n",
       "<path class=\"bond-8 atom-3 atom-11\" d=\"M 82.4953,375 L 64.2841,375\" style=\"fill:none;fill-rule:evenodd;stroke:#0000FF;stroke-width:2.0px;stroke-linecap:butt;stroke-linejoin:miter;stroke-opacity:1\"/>\n",
       "<path class=\"bond-9 atom-4 atom-5\" d=\"M 123.665,416.971 L 171.641,416.559\" style=\"fill:none;fill-rule:evenodd;stroke:#000000;stroke-width:2.0px;stroke-linecap:butt;stroke-linejoin:miter;stroke-opacity:1\"/>\n",
       "<path class=\"bond-9 atom-4 atom-5\" d=\"M 130.773,406.614 L 164.356,406.326\" style=\"fill:none;fill-rule:evenodd;stroke:#000000;stroke-width:2.0px;stroke-linecap:butt;stroke-linejoin:miter;stroke-opacity:1\"/>\n",
       "<path class=\"bond-10 atom-4 atom-9\" d=\"M 123.665,416.971 L 109.255,440.427\" style=\"fill:none;fill-rule:evenodd;stroke:#000000;stroke-width:2.0px;stroke-linecap:butt;stroke-linejoin:miter;stroke-opacity:1\"/>\n",
       "<path class=\"bond-11 atom-5 atom-10\" d=\"M 171.641,416.559 L 185.486,440.665\" style=\"fill:none;fill-rule:evenodd;stroke:#000000;stroke-width:2.0px;stroke-linecap:butt;stroke-linejoin:miter;stroke-opacity:1\"/>\n",
       "<path class=\"bond-12 atom-11 atom-12\" d=\"M 45.5876,383.344 L 40.1647,393.797\" style=\"fill:none;fill-rule:evenodd;stroke:#0000FF;stroke-width:2.0px;stroke-linecap:butt;stroke-linejoin:miter;stroke-opacity:1\"/>\n",
       "<path class=\"bond-12 atom-11 atom-12\" d=\"M 40.1647,393.797 L 34.7417,404.25\" style=\"fill:none;fill-rule:evenodd;stroke:#FF0000;stroke-width:2.0px;stroke-linecap:butt;stroke-linejoin:miter;stroke-opacity:1\"/>\n",
       "<path class=\"bond-13 atom-11 atom-13\" d=\"M 50.157,364.286 L 44.7928,353.946\" style=\"fill:none;fill-rule:evenodd;stroke:#0000FF;stroke-width:2.0px;stroke-linecap:butt;stroke-linejoin:miter;stroke-opacity:1\"/>\n",
       "<path class=\"bond-13 atom-11 atom-13\" d=\"M 44.7928,353.946 L 39.4286,343.606\" style=\"fill:none;fill-rule:evenodd;stroke:#FF0000;stroke-width:2.0px;stroke-linecap:butt;stroke-linejoin:miter;stroke-opacity:1\"/>\n",
       "<path class=\"bond-13 atom-11 atom-13\" d=\"M 41.0183,369.027 L 35.6541,358.687\" style=\"fill:none;fill-rule:evenodd;stroke:#0000FF;stroke-width:2.0px;stroke-linecap:butt;stroke-linejoin:miter;stroke-opacity:1\"/>\n",
       "<path class=\"bond-13 atom-11 atom-13\" d=\"M 35.6541,358.687 L 30.2899,348.347\" style=\"fill:none;fill-rule:evenodd;stroke:#FF0000;stroke-width:2.0px;stroke-linecap:butt;stroke-linejoin:miter;stroke-opacity:1\"/>\n",
       "<path class=\"atom-6\" d=\"M 227.229 367.711 L 229.206 367.711 L 229.206 373.909 L 236.66 373.909 L 236.66 367.711 L 238.636 367.711 L 238.636 382.289 L 236.66 382.289 L 236.66 375.556 L 229.206 375.556 L 229.206 382.289 L 227.229 382.289 L 227.229 367.711 \" fill=\"#000000\"/>\n",
       "<path class=\"atom-7\" d=\"M 184.504 293.825 L 186.48 293.825 L 186.48 300.023 L 193.934 300.023 L 193.934 293.825 L 195.911 293.825 L 195.911 308.403 L 193.934 308.403 L 193.934 301.67 L 186.48 301.67 L 186.48 308.403 L 184.504 308.403 L 184.504 293.825 \" fill=\"#000000\"/>\n",
       "<path class=\"atom-8\" d=\"M 98.5033 294.065 L 100.48 294.065 L 100.48 300.263 L 107.934 300.263 L 107.934 294.065 L 109.91 294.065 L 109.91 308.643 L 107.934 308.643 L 107.934 301.91 L 100.48 301.91 L 100.48 308.643 L 98.5033 308.643 L 98.5033 294.065 \" fill=\"#000000\"/>\n",
       "<path class=\"atom-9\" d=\"M 98.5033 441.357 L 100.48 441.357 L 100.48 447.555 L 107.934 447.555 L 107.934 441.357 L 109.91 441.357 L 109.91 455.935 L 107.934 455.935 L 107.934 449.202 L 100.48 449.202 L 100.48 455.935 L 98.5033 455.935 L 98.5033 441.357 \" fill=\"#000000\"/>\n",
       "<path class=\"atom-10\" d=\"M 184.504 441.597 L 186.48 441.597 L 186.48 447.795 L 193.934 447.795 L 193.934 441.597 L 195.911 441.597 L 195.911 456.175 L 193.934 456.175 L 193.934 449.442 L 186.48 449.442 L 186.48 456.175 L 184.504 456.175 L 184.504 441.597 \" fill=\"#000000\"/>\n",
       "<path class=\"atom-11\" d=\"M 46.6938 367.711 L 51.4708 375.432 Q 51.9444 376.194, 52.7062 377.574 Q 53.4681 378.953, 53.5093 379.036 L 53.5093 367.711 L 55.4448 367.711 L 55.4448 382.289 L 53.4475 382.289 L 48.3204 373.847 Q 47.7233 372.859, 47.085 371.726 Q 46.4673 370.594, 46.2819 370.244 L 46.2819 382.289 L 44.3876 382.289 L 44.3876 367.711 L 46.6938 367.711 \" fill=\"#0000FF\"/>\n",
       "<path class=\"atom-11\" d=\"M 56.6679 370.339 L 59.2363 370.339 L 59.2363 367.634 L 60.3779 367.634 L 60.3779 370.339 L 63.0143 370.339 L 63.0143 371.317 L 60.3779 371.317 L 60.3779 374.035 L 59.2363 374.035 L 59.2363 371.317 L 56.6679 371.317 L 56.6679 370.339 \" fill=\"#0000FF\"/>\n",
       "<path class=\"atom-12\" d=\"M 23.8004 412.482 Q 23.8004 408.981, 25.53 407.025 Q 27.2596 405.069, 30.4923 405.069 Q 33.7251 405.069, 35.4547 407.025 Q 37.1843 408.981, 37.1843 412.482 Q 37.1843 416.023, 35.4341 418.041 Q 33.6839 420.039, 30.4923 420.039 Q 27.2802 420.039, 25.53 418.041 Q 23.8004 416.044, 23.8004 412.482 M 30.4923 418.391 Q 32.7161 418.391, 33.9104 416.909 Q 35.1252 415.406, 35.1252 412.482 Q 35.1252 409.62, 33.9104 408.178 Q 32.7161 406.716, 30.4923 406.716 Q 28.2686 406.716, 27.0537 408.158 Q 25.8595 409.599, 25.8595 412.482 Q 25.8595 415.426, 27.0537 416.909 Q 28.2686 418.391, 30.4923 418.391 \" fill=\"#FF0000\"/>\n",
       "<path class=\"atom-12\" d=\"M 37.8638 407.449 L 42.8513 407.449 L 42.8513 408.536 L 37.8638 408.536 L 37.8638 407.449 \" fill=\"#FF0000\"/>\n",
       "<path class=\"atom-13\" d=\"M 23.8004 337.601 Q 23.8004 334.1, 25.53 332.144 Q 27.2596 330.188, 30.4923 330.188 Q 33.7251 330.188, 35.4547 332.144 Q 37.1843 334.1, 37.1843 337.601 Q 37.1843 341.142, 35.4341 343.16 Q 33.6839 345.157, 30.4923 345.157 Q 27.2802 345.157, 25.53 343.16 Q 23.8004 341.163, 23.8004 337.601 M 30.4923 343.51 Q 32.7161 343.51, 33.9104 342.028 Q 35.1252 340.524, 35.1252 337.601 Q 35.1252 334.738, 33.9104 333.297 Q 32.7161 331.835, 30.4923 331.835 Q 28.2686 331.835, 27.0537 333.276 Q 25.8595 334.718, 25.8595 337.601 Q 25.8595 340.545, 27.0537 342.028 Q 28.2686 343.51, 30.4923 343.51 \" fill=\"#FF0000\"/>\n",
       "<path class=\"bond-0 atom-0 atom-1\" d=\"M 445.664,375 L 421.641,333.441\" style=\"fill:none;fill-rule:evenodd;stroke:#000000;stroke-width:2.0px;stroke-linecap:butt;stroke-linejoin:miter;stroke-opacity:1\"/>\n",
       "<path class=\"bond-0 atom-0 atom-1\" d=\"M 433.147,373.918 L 416.331,344.827\" style=\"fill:none;fill-rule:evenodd;stroke:#000000;stroke-width:2.0px;stroke-linecap:butt;stroke-linejoin:miter;stroke-opacity:1\"/>\n",
       "<path class=\"bond-1 atom-0 atom-5\" d=\"M 445.664,375 L 421.641,416.559\" style=\"fill:none;fill-rule:evenodd;stroke:#000000;stroke-width:2.0px;stroke-linecap:butt;stroke-linejoin:miter;stroke-opacity:1\"/>\n",
       "<path class=\"bond-2 atom-0 atom-6\" d=\"M 445.664,375 L 476.297,375\" style=\"fill:none;fill-rule:evenodd;stroke:#000000;stroke-width:2.0px;stroke-linecap:butt;stroke-linejoin:miter;stroke-opacity:1\"/>\n",
       "<path class=\"bond-3 atom-1 atom-2\" d=\"M 421.641,333.441 L 373.665,333.029\" style=\"fill:none;fill-rule:evenodd;stroke:#000000;stroke-width:2.0px;stroke-linecap:butt;stroke-linejoin:miter;stroke-opacity:1\"/>\n",
       "<path class=\"bond-4 atom-1 atom-7\" d=\"M 421.641,333.441 L 435.486,309.335\" style=\"fill:none;fill-rule:evenodd;stroke:#000000;stroke-width:2.0px;stroke-linecap:butt;stroke-linejoin:miter;stroke-opacity:1\"/>\n",
       "<path class=\"bond-5 atom-2 atom-3\" d=\"M 373.665,333.029 L 350.706,375\" style=\"fill:none;fill-rule:evenodd;stroke:#000000;stroke-width:2.0px;stroke-linecap:butt;stroke-linejoin:miter;stroke-opacity:1\"/>\n",
       "<path class=\"bond-5 atom-2 atom-3\" d=\"M 379.254,344.266 L 363.183,373.645\" style=\"fill:none;fill-rule:evenodd;stroke:#000000;stroke-width:2.0px;stroke-linecap:butt;stroke-linejoin:miter;stroke-opacity:1\"/>\n",
       "<path class=\"bond-6 atom-2 atom-8\" d=\"M 373.665,333.029 L 359.255,309.573\" style=\"fill:none;fill-rule:evenodd;stroke:#000000;stroke-width:2.0px;stroke-linecap:butt;stroke-linejoin:miter;stroke-opacity:1\"/>\n",
       "<path class=\"bond-7 atom-3 atom-4\" d=\"M 350.706,375 L 373.665,416.971\" style=\"fill:none;fill-rule:evenodd;stroke:#000000;stroke-width:2.0px;stroke-linecap:butt;stroke-linejoin:miter;stroke-opacity:1\"/>\n",
       "<path class=\"bond-8 atom-3 atom-11\" d=\"M 350.706,375 L 332.495,375\" style=\"fill:none;fill-rule:evenodd;stroke:#000000;stroke-width:2.0px;stroke-linecap:butt;stroke-linejoin:miter;stroke-opacity:1\"/>\n",
       "<path class=\"bond-8 atom-3 atom-11\" d=\"M 332.495,375 L 314.284,375\" style=\"fill:none;fill-rule:evenodd;stroke:#0000FF;stroke-width:2.0px;stroke-linecap:butt;stroke-linejoin:miter;stroke-opacity:1\"/>\n",
       "<path class=\"bond-9 atom-4 atom-5\" d=\"M 373.665,416.971 L 421.641,416.559\" style=\"fill:none;fill-rule:evenodd;stroke:#000000;stroke-width:2.0px;stroke-linecap:butt;stroke-linejoin:miter;stroke-opacity:1\"/>\n",
       "<path class=\"bond-9 atom-4 atom-5\" d=\"M 380.773,406.614 L 414.356,406.326\" style=\"fill:none;fill-rule:evenodd;stroke:#000000;stroke-width:2.0px;stroke-linecap:butt;stroke-linejoin:miter;stroke-opacity:1\"/>\n",
       "<path class=\"bond-10 atom-4 atom-9\" d=\"M 373.665,416.971 L 359.255,440.427\" style=\"fill:none;fill-rule:evenodd;stroke:#000000;stroke-width:2.0px;stroke-linecap:butt;stroke-linejoin:miter;stroke-opacity:1\"/>\n",
       "<path class=\"bond-11 atom-5 atom-10\" d=\"M 421.641,416.559 L 435.486,440.665\" style=\"fill:none;fill-rule:evenodd;stroke:#000000;stroke-width:2.0px;stroke-linecap:butt;stroke-linejoin:miter;stroke-opacity:1\"/>\n",
       "<path class=\"bond-12 atom-11 atom-12\" d=\"M 295.588,383.344 L 290.165,393.797\" style=\"fill:none;fill-rule:evenodd;stroke:#0000FF;stroke-width:2.0px;stroke-linecap:butt;stroke-linejoin:miter;stroke-opacity:1\"/>\n",
       "<path class=\"bond-12 atom-11 atom-12\" d=\"M 290.165,393.797 L 284.742,404.25\" style=\"fill:none;fill-rule:evenodd;stroke:#FF0000;stroke-width:2.0px;stroke-linecap:butt;stroke-linejoin:miter;stroke-opacity:1\"/>\n",
       "<path class=\"bond-13 atom-11 atom-13\" d=\"M 300.157,364.286 L 294.793,353.946\" style=\"fill:none;fill-rule:evenodd;stroke:#0000FF;stroke-width:2.0px;stroke-linecap:butt;stroke-linejoin:miter;stroke-opacity:1\"/>\n",
       "<path class=\"bond-13 atom-11 atom-13\" d=\"M 294.793,353.946 L 289.429,343.606\" style=\"fill:none;fill-rule:evenodd;stroke:#FF0000;stroke-width:2.0px;stroke-linecap:butt;stroke-linejoin:miter;stroke-opacity:1\"/>\n",
       "<path class=\"bond-13 atom-11 atom-13\" d=\"M 291.018,369.027 L 285.654,358.687\" style=\"fill:none;fill-rule:evenodd;stroke:#0000FF;stroke-width:2.0px;stroke-linecap:butt;stroke-linejoin:miter;stroke-opacity:1\"/>\n",
       "<path class=\"bond-13 atom-11 atom-13\" d=\"M 285.654,358.687 L 280.29,348.347\" style=\"fill:none;fill-rule:evenodd;stroke:#FF0000;stroke-width:2.0px;stroke-linecap:butt;stroke-linejoin:miter;stroke-opacity:1\"/>\n",
       "<path class=\"atom-6\" d=\"M 477.229 367.711 L 479.206 367.711 L 479.206 373.909 L 486.66 373.909 L 486.66 367.711 L 488.636 367.711 L 488.636 382.289 L 486.66 382.289 L 486.66 375.556 L 479.206 375.556 L 479.206 382.289 L 477.229 382.289 L 477.229 367.711 \" fill=\"#000000\"/>\n",
       "<path class=\"atom-7\" d=\"M 434.504 293.825 L 436.48 293.825 L 436.48 300.023 L 443.934 300.023 L 443.934 293.825 L 445.911 293.825 L 445.911 308.403 L 443.934 308.403 L 443.934 301.67 L 436.48 301.67 L 436.48 308.403 L 434.504 308.403 L 434.504 293.825 \" fill=\"#000000\"/>\n",
       "<path class=\"atom-8\" d=\"M 348.503 294.065 L 350.48 294.065 L 350.48 300.263 L 357.934 300.263 L 357.934 294.065 L 359.91 294.065 L 359.91 308.643 L 357.934 308.643 L 357.934 301.91 L 350.48 301.91 L 350.48 308.643 L 348.503 308.643 L 348.503 294.065 \" fill=\"#000000\"/>\n",
       "<path class=\"atom-9\" d=\"M 348.503 441.357 L 350.48 441.357 L 350.48 447.555 L 357.934 447.555 L 357.934 441.357 L 359.91 441.357 L 359.91 455.935 L 357.934 455.935 L 357.934 449.202 L 350.48 449.202 L 350.48 455.935 L 348.503 455.935 L 348.503 441.357 \" fill=\"#000000\"/>\n",
       "<path class=\"atom-10\" d=\"M 434.504 441.597 L 436.48 441.597 L 436.48 447.795 L 443.934 447.795 L 443.934 441.597 L 445.911 441.597 L 445.911 456.175 L 443.934 456.175 L 443.934 449.442 L 436.48 449.442 L 436.48 456.175 L 434.504 456.175 L 434.504 441.597 \" fill=\"#000000\"/>\n",
       "<path class=\"atom-11\" d=\"M 296.694 367.711 L 301.471 375.432 Q 301.944 376.194, 302.706 377.574 Q 303.468 378.953, 303.509 379.036 L 303.509 367.711 L 305.445 367.711 L 305.445 382.289 L 303.447 382.289 L 298.32 373.847 Q 297.723 372.859, 297.085 371.726 Q 296.467 370.594, 296.282 370.244 L 296.282 382.289 L 294.388 382.289 L 294.388 367.711 L 296.694 367.711 \" fill=\"#0000FF\"/>\n",
       "<path class=\"atom-11\" d=\"M 306.668 370.339 L 309.236 370.339 L 309.236 367.634 L 310.378 367.634 L 310.378 370.339 L 313.014 370.339 L 313.014 371.317 L 310.378 371.317 L 310.378 374.035 L 309.236 374.035 L 309.236 371.317 L 306.668 371.317 L 306.668 370.339 \" fill=\"#0000FF\"/>\n",
       "<path class=\"atom-12\" d=\"M 273.8 412.482 Q 273.8 408.981, 275.53 407.025 Q 277.26 405.069, 280.492 405.069 Q 283.725 405.069, 285.455 407.025 Q 287.184 408.981, 287.184 412.482 Q 287.184 416.023, 285.434 418.041 Q 283.684 420.039, 280.492 420.039 Q 277.28 420.039, 275.53 418.041 Q 273.8 416.044, 273.8 412.482 M 280.492 418.391 Q 282.716 418.391, 283.91 416.909 Q 285.125 415.406, 285.125 412.482 Q 285.125 409.62, 283.91 408.178 Q 282.716 406.716, 280.492 406.716 Q 278.269 406.716, 277.054 408.158 Q 275.859 409.599, 275.859 412.482 Q 275.859 415.426, 277.054 416.909 Q 278.269 418.391, 280.492 418.391 \" fill=\"#FF0000\"/>\n",
       "<path class=\"atom-12\" d=\"M 287.864 407.449 L 292.851 407.449 L 292.851 408.536 L 287.864 408.536 L 287.864 407.449 \" fill=\"#FF0000\"/>\n",
       "<path class=\"atom-13\" d=\"M 273.8 337.601 Q 273.8 334.1, 275.53 332.144 Q 277.26 330.188, 280.492 330.188 Q 283.725 330.188, 285.455 332.144 Q 287.184 334.1, 287.184 337.601 Q 287.184 341.142, 285.434 343.16 Q 283.684 345.157, 280.492 345.157 Q 277.28 345.157, 275.53 343.16 Q 273.8 341.163, 273.8 337.601 M 280.492 343.51 Q 282.716 343.51, 283.91 342.028 Q 285.125 340.524, 285.125 337.601 Q 285.125 334.738, 283.91 333.297 Q 282.716 331.835, 280.492 331.835 Q 278.269 331.835, 277.054 333.276 Q 275.859 334.718, 275.859 337.601 Q 275.859 340.545, 277.054 342.028 Q 278.269 343.51, 280.492 343.51 \" fill=\"#FF0000\"/>\n",
       "</svg>"
      ],
      "text/plain": [
       "<IPython.core.display.SVG object>"
      ]
     },
     "execution_count": 7,
     "metadata": {},
     "output_type": "execute_result"
    }
   ],
   "source": [
    "from rdkit.Chem.Draw import IPythonConsole\n",
    "from rdkit.Chem import Draw\n",
    "IPythonConsole.ipython_useSVG=True\n",
    "m1 = g1_pdb_ms.mol_rdkit\n",
    "m2 = g1_pdb_ms_nobp.mol_rdkit\n",
    "m3 = g1_mol2_ms_nobp.mol_rdkit\n",
    "m4 = g1_sdf_ms.mol_rdkit\n",
    "Draw.MolsToGridImage((m1, m2, m3, m4), subImgSize=(250,250), molsPerRow=2)"
   ]
  },
  {
   "cell_type": "markdown",
   "metadata": {},
   "source": [
    "The PDB structure without ``bond_perception`` is not correct."
   ]
  }
 ],
 "metadata": {
  "kernelspec": {
   "display_name": "Python 3 (ipykernel)",
   "language": "python",
   "name": "python3"
  },
  "language_info": {
   "codemirror_mode": {
    "name": "ipython",
    "version": 3
   },
   "file_extension": ".py",
   "mimetype": "text/x-python",
   "name": "python",
   "nbconvert_exporter": "python",
   "pygments_lexer": "ipython3",
   "version": "3.8.10"
  }
 },
 "nbformat": 4,
 "nbformat_minor": 1
}
