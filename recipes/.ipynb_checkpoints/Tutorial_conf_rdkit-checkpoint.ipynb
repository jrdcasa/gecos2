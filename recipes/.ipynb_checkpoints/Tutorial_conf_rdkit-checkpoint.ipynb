{
 "cells": [
  {
   "cell_type": "markdown",
   "metadata": {
    "pycharm": {
     "name": "#%% md\n"
    }
   },
   "source": [
    "## Tutorial: Conformers with rdkit\n",
    "\n",
    "Import `gecos` library and create a variable for the molecule file path"
   ]
  },
  {
   "cell_type": "code",
   "execution_count": 1,
   "metadata": {},
   "outputs": [],
   "source": [
    "import gecos\n",
    "pdbfile=\"/home/jramos/PycharmProjects/GeCos/data/IsoP.pdb\""
   ]
  },
  {
   "cell_type": "markdown",
   "metadata": {
    "pycharm": {
     "name": "#%% md\n"
    }
   },
   "source": [
    "In the first example a pdb file for a dimer of polyisoprene molecule will be used:"
   ]
  },
  {
   "cell_type": "code",
   "execution_count": 2,
   "metadata": {
    "pycharm": {
     "name": "#%%\n"
    }
   },
   "outputs": [
    {
     "data": {
      "application/vnd.jupyter.widget-view+json": {
       "model_id": "277f6afed2a24cf8b6ee5b399827d82f",
       "version_major": 2,
       "version_minor": 0
      },
      "text/plain": []
     },
     "metadata": {},
     "output_type": "display_data"
    },
    {
     "data": {
      "application/vnd.jupyter.widget-view+json": {
       "model_id": "c773019cdb814deca3f66a421bf32044",
       "version_major": 2,
       "version_minor": 0
      },
      "text/plain": [
       "NGLWidget()"
      ]
     },
     "metadata": {},
     "output_type": "display_data"
    }
   ],
   "source": [
    "import nglview\n",
    "view = nglview.show_structure_file(pdbfile)\n",
    "view.clear_representations()\n",
    "view.add_representation(repr_type='licorice', selection='all')\n",
    "view._remote_call('setSize', target='Widget', args=['','500px'])\n",
    "view"
   ]
  },
  {
   "cell_type": "markdown",
   "metadata": {
    "pycharm": {
     "name": "#%% md\n"
    }
   },
   "source": [
    "Setup molecule to generate the conformers. As the pdb file does not contain information about the bond orders,\n",
    "the bond order flag should be ``True`` for a correct assignation of bonds (see picture below)."
   ]
  },
  {
   "cell_type": "code",
   "execution_count": 3,
   "metadata": {},
   "outputs": [
    {
     "name": "stdout",
     "output_type": "stream",
     "text": [
      "\tBond_perception is FALSE for PDB file\n",
      "\t\tPDB file does not contain info for bond orders.\n",
      "\n"
     ]
    }
   ],
   "source": [
    "g1_pdb_ms = gecos.GecosRdkit(filename=pdbfile, bond_perception=True, logger=None)\n",
    "g1_pdb_ms_nobo = gecos.GecosRdkit(filename=pdbfile, bond_perception=False, logger=None)\n"
   ]
  },
  {
   "cell_type": "code",
   "execution_count": 4,
   "metadata": {},
   "outputs": [
    {
     "data": {
      "image/svg+xml": [
       "<svg xmlns=\"http://www.w3.org/2000/svg\" xmlns:rdkit=\"http://www.rdkit.org/xml\" xmlns:xlink=\"http://www.w3.org/1999/xlink\" version=\"1.1\" baseProfile=\"full\" xml:space=\"preserve\" width=\"750px\" height=\"250px\" viewBox=\"0 0 750 250\">\n",
       "<!-- END OF HEADER -->\n",
       "<rect style=\"opacity:1.0;fill:#FFFFFF;stroke:none\" width=\"750\" height=\"250\" x=\"0\" y=\"0\"> </rect>\n",
       "<rect style=\"opacity:1.0;fill:#FFFFFF;stroke:none\" width=\"750\" height=\"250\" x=\"0\" y=\"0\"> </rect>\n",
       "<rect style=\"opacity:1.0;fill:#FFFFFF;stroke:none\" width=\"750\" height=\"250\" x=\"0\" y=\"0\"> </rect>\n",
       "<path class=\"bond-0 atom-0 atom-3\" d=\"M 134.964,145.537 L 169.637,145.044\" style=\"fill:none;fill-rule:evenodd;stroke:#000000;stroke-width:2.0px;stroke-linecap:butt;stroke-linejoin:miter;stroke-opacity:1\"/>\n",
       "<path class=\"bond-1 atom-0 atom-1\" d=\"M 134.964,145.537 L 129.73,163.436\" style=\"fill:none;fill-rule:evenodd;stroke:#000000;stroke-width:2.0px;stroke-linecap:butt;stroke-linejoin:miter;stroke-opacity:1\"/>\n",
       "<path class=\"bond-2 atom-0 atom-2\" d=\"M 134.964,145.537 L 132.703,136.241\" style=\"fill:none;fill-rule:evenodd;stroke:#000000;stroke-width:2.0px;stroke-linecap:butt;stroke-linejoin:miter;stroke-opacity:1\"/>\n",
       "<path class=\"bond-3 atom-0 atom-25\" d=\"M 134.964,145.537 L 115.036,133.323\" style=\"fill:none;fill-rule:evenodd;stroke:#000000;stroke-width:2.0px;stroke-linecap:butt;stroke-linejoin:miter;stroke-opacity:1\"/>\n",
       "<path class=\"bond-4 atom-3 atom-8\" d=\"M 169.637,145.044 L 186.235,171.723\" style=\"fill:none;fill-rule:evenodd;stroke:#000000;stroke-width:2.0px;stroke-linecap:butt;stroke-linejoin:miter;stroke-opacity:1\"/>\n",
       "<path class=\"bond-4 atom-3 atom-8\" d=\"M 166.155,152.761 L 177.774,171.437\" style=\"fill:none;fill-rule:evenodd;stroke:#000000;stroke-width:2.0px;stroke-linecap:butt;stroke-linejoin:miter;stroke-opacity:1\"/>\n",
       "<path class=\"bond-5 atom-3 atom-4\" d=\"M 169.637,145.044 L 185.485,113.888\" style=\"fill:none;fill-rule:evenodd;stroke:#000000;stroke-width:2.0px;stroke-linecap:butt;stroke-linejoin:miter;stroke-opacity:1\"/>\n",
       "<path class=\"bond-6 atom-4 atom-5\" d=\"M 185.485,113.888 L 205.497,114.309\" style=\"fill:none;fill-rule:evenodd;stroke:#000000;stroke-width:2.0px;stroke-linecap:butt;stroke-linejoin:miter;stroke-opacity:1\"/>\n",
       "<path class=\"bond-7 atom-4 atom-6\" d=\"M 185.485,113.888 L 176.991,100.094\" style=\"fill:none;fill-rule:evenodd;stroke:#000000;stroke-width:2.0px;stroke-linecap:butt;stroke-linejoin:miter;stroke-opacity:1\"/>\n",
       "<path class=\"bond-8 atom-4 atom-7\" d=\"M 185.485,113.888 L 184.055,110.652\" style=\"fill:none;fill-rule:evenodd;stroke:#000000;stroke-width:2.0px;stroke-linecap:butt;stroke-linejoin:miter;stroke-opacity:1\"/>\n",
       "<path class=\"bond-9 atom-8 atom-10\" d=\"M 186.235,171.723 L 220.885,171.231\" style=\"fill:none;fill-rule:evenodd;stroke:#000000;stroke-width:2.0px;stroke-linecap:butt;stroke-linejoin:miter;stroke-opacity:1\"/>\n",
       "<path class=\"bond-10 atom-8 atom-9\" d=\"M 186.235,171.723 L 178.061,187.775\" style=\"fill:none;fill-rule:evenodd;stroke:#000000;stroke-width:2.0px;stroke-linecap:butt;stroke-linejoin:miter;stroke-opacity:1\"/>\n",
       "<path class=\"bond-11 atom-10 atom-11\" d=\"M 220.885,171.231 L 226.137,153.332\" style=\"fill:none;fill-rule:evenodd;stroke:#000000;stroke-width:2.0px;stroke-linecap:butt;stroke-linejoin:miter;stroke-opacity:1\"/>\n",
       "<path class=\"bond-12 atom-10 atom-12\" d=\"M 220.885,171.231 L 223.146,180.527\" style=\"fill:none;fill-rule:evenodd;stroke:#000000;stroke-width:2.0px;stroke-linecap:butt;stroke-linejoin:miter;stroke-opacity:1\"/>\n",
       "<path class=\"bond-13 atom-10 atom-13\" d=\"M 220.885,171.231 L 230.437,177.082\" style=\"fill:none;fill-rule:evenodd;stroke:#000000;stroke-width:2.0px;stroke-linecap:butt;stroke-linejoin:miter;stroke-opacity:1\"/>\n",
       "<path class=\"bond-14 atom-14 atom-18\" d=\"M 29.1152,107.628 L 63.7885,107.136\" style=\"fill:none;fill-rule:evenodd;stroke:#000000;stroke-width:2.0px;stroke-linecap:butt;stroke-linejoin:miter;stroke-opacity:1\"/>\n",
       "<path class=\"bond-15 atom-14 atom-15\" d=\"M 29.1152,107.628 L 23.8812,125.528\" style=\"fill:none;fill-rule:evenodd;stroke:#000000;stroke-width:2.0px;stroke-linecap:butt;stroke-linejoin:miter;stroke-opacity:1\"/>\n",
       "<path class=\"bond-16 atom-14 atom-16\" d=\"M 29.1152,107.628 L 19.5628,101.761\" style=\"fill:none;fill-rule:evenodd;stroke:#000000;stroke-width:2.0px;stroke-linecap:butt;stroke-linejoin:miter;stroke-opacity:1\"/>\n",
       "<path class=\"bond-17 atom-14 atom-17\" d=\"M 29.1152,107.628 L 26.8525,98.3094\" style=\"fill:none;fill-rule:evenodd;stroke:#000000;stroke-width:2.0px;stroke-linecap:butt;stroke-linejoin:miter;stroke-opacity:1\"/>\n",
       "<path class=\"bond-18 atom-18 atom-23\" d=\"M 63.7885,107.136 L 80.3632,133.815\" style=\"fill:none;fill-rule:evenodd;stroke:#000000;stroke-width:2.0px;stroke-linecap:butt;stroke-linejoin:miter;stroke-opacity:1\"/>\n",
       "<path class=\"bond-18 atom-18 atom-23\" d=\"M 60.3006,114.849 L 71.9029,133.524\" style=\"fill:none;fill-rule:evenodd;stroke:#000000;stroke-width:2.0px;stroke-linecap:butt;stroke-linejoin:miter;stroke-opacity:1\"/>\n",
       "<path class=\"bond-19 atom-18 atom-19\" d=\"M 63.7885,107.136 L 79.613,75.9792\" style=\"fill:none;fill-rule:evenodd;stroke:#000000;stroke-width:2.0px;stroke-linecap:butt;stroke-linejoin:miter;stroke-opacity:1\"/>\n",
       "<path class=\"bond-20 atom-19 atom-20\" d=\"M 79.613,75.9792 L 99.6484,76.3811\" style=\"fill:none;fill-rule:evenodd;stroke:#000000;stroke-width:2.0px;stroke-linecap:butt;stroke-linejoin:miter;stroke-opacity:1\"/>\n",
       "<path class=\"bond-21 atom-19 atom-21\" d=\"M 79.613,75.9792 L 71.1359,62.1851\" style=\"fill:none;fill-rule:evenodd;stroke:#000000;stroke-width:2.0px;stroke-linecap:butt;stroke-linejoin:miter;stroke-opacity:1\"/>\n",
       "<path class=\"bond-22 atom-19 atom-22\" d=\"M 79.613,75.9792 L 78.2063,72.744\" style=\"fill:none;fill-rule:evenodd;stroke:#000000;stroke-width:2.0px;stroke-linecap:butt;stroke-linejoin:miter;stroke-opacity:1\"/>\n",
       "<path class=\"bond-23 atom-23 atom-25\" d=\"M 80.3632,133.815 L 115.036,133.323\" style=\"fill:none;fill-rule:evenodd;stroke:#000000;stroke-width:2.0px;stroke-linecap:butt;stroke-linejoin:miter;stroke-opacity:1\"/>\n",
       "<path class=\"bond-24 atom-23 atom-24\" d=\"M 80.3632,133.815 L 72.2066,149.867\" style=\"fill:none;fill-rule:evenodd;stroke:#000000;stroke-width:2.0px;stroke-linecap:butt;stroke-linejoin:miter;stroke-opacity:1\"/>\n",
       "<path class=\"bond-25 atom-25 atom-26\" d=\"M 115.036,133.323 L 120.27,115.423\" style=\"fill:none;fill-rule:evenodd;stroke:#000000;stroke-width:2.0px;stroke-linecap:butt;stroke-linejoin:miter;stroke-opacity:1\"/>\n",
       "<path class=\"bond-26 atom-25 atom-27\" d=\"M 115.036,133.323 L 117.297,142.618\" style=\"fill:none;fill-rule:evenodd;stroke:#000000;stroke-width:2.0px;stroke-linecap:butt;stroke-linejoin:miter;stroke-opacity:1\"/>\n",
       "<path class=\"atom-1\" d=\"M 124.198 164.048 L 125.549 164.048 L 125.549 168.282 L 130.641 168.282 L 130.641 164.048 L 131.991 164.048 L 131.991 174.007 L 130.641 174.007 L 130.641 169.407 L 125.549 169.407 L 125.549 174.007 L 124.198 174.007 L 124.198 164.048 \" fill=\"#000000\"/>\n",
       "<path class=\"atom-2\" d=\"M 127.504 125.905 L 128.854 125.905 L 128.854 130.139 L 133.946 130.139 L 133.946 125.905 L 135.296 125.905 L 135.296 135.864 L 133.946 135.864 L 133.946 131.264 L 128.854 131.264 L 128.854 135.864 L 127.504 135.864 L 127.504 125.905 \" fill=\"#000000\"/>\n",
       "<path class=\"atom-5\" d=\"M 206.111 109.424 L 207.461 109.424 L 207.461 113.658 L 212.553 113.658 L 212.553 109.424 L 213.903 109.424 L 213.903 119.383 L 212.553 119.383 L 212.553 114.783 L 207.461 114.783 L 207.461 119.383 L 206.111 119.383 L 206.111 109.424 \" fill=\"#000000\"/>\n",
       "<path class=\"atom-6\" d=\"M 169.679 89.5672 L 171.029 89.5672 L 171.029 93.8011 L 176.121 93.8011 L 176.121 89.5672 L 177.472 89.5672 L 177.472 99.5261 L 176.121 99.5261 L 176.121 94.9264 L 171.029 94.9264 L 171.029 99.5261 L 169.679 99.5261 L 169.679 89.5672 \" fill=\"#000000\"/>\n",
       "<path class=\"atom-7\" d=\"M 180.158 105.673 L 181.509 105.673 L 181.509 109.907 L 186.601 109.907 L 186.601 105.673 L 187.951 105.673 L 187.951 115.632 L 186.601 115.632 L 186.601 111.032 L 181.509 111.032 L 181.509 115.632 L 180.158 115.632 L 180.158 105.673 \" fill=\"#000000\"/>\n",
       "<path class=\"atom-9\" d=\"M 171.32 188.382 L 172.67 188.382 L 172.67 192.616 L 177.762 192.616 L 177.762 188.382 L 179.113 188.382 L 179.113 198.341 L 177.762 198.341 L 177.762 193.742 L 172.67 193.742 L 172.67 198.341 L 171.32 198.341 L 171.32 188.382 \" fill=\"#000000\"/>\n",
       "<path class=\"atom-11\" d=\"M 223.881 142.761 L 225.231 142.761 L 225.231 146.995 L 230.323 146.995 L 230.323 142.761 L 231.674 142.761 L 231.674 152.72 L 230.323 152.72 L 230.323 148.12 L 225.231 148.12 L 225.231 152.72 L 223.881 152.72 L 223.881 142.761 \" fill=\"#000000\"/>\n",
       "<path class=\"atom-12\" d=\"M 220.552 180.904 L 221.902 180.904 L 221.902 185.138 L 226.994 185.138 L 226.994 180.904 L 228.345 180.904 L 228.345 190.863 L 226.994 190.863 L 226.994 186.263 L 221.902 186.263 L 221.902 190.863 L 220.552 190.863 L 220.552 180.904 \" fill=\"#000000\"/>\n",
       "<path class=\"atom-13\" d=\"M 230.844 174.738 L 232.194 174.738 L 232.194 178.972 L 237.286 178.972 L 237.286 174.738 L 238.636 174.738 L 238.636 184.697 L 237.286 184.697 L 237.286 180.097 L 232.194 180.097 L 232.194 184.697 L 230.844 184.697 L 230.844 174.738 \" fill=\"#000000\"/>\n",
       "<path class=\"atom-15\" d=\"M 18.3499 126.139 L 19.7002 126.139 L 19.7002 130.373 L 24.7922 130.373 L 24.7922 126.139 L 26.1426 126.139 L 26.1426 136.098 L 24.7922 136.098 L 24.7922 131.499 L 19.7002 131.499 L 19.7002 136.098 L 18.3499 136.098 L 18.3499 126.139 \" fill=\"#000000\"/>\n",
       "<path class=\"atom-16\" d=\"M 11.3636 94.1387 L 12.714 94.1387 L 12.714 98.3726 L 17.806 98.3726 L 17.806 94.1387 L 19.1563 94.1387 L 19.1563 104.098 L 17.806 104.098 L 17.806 99.4979 L 12.714 99.4979 L 12.714 104.098 L 11.3636 104.098 L 11.3636 94.1387 \" fill=\"#000000\"/>\n",
       "<path class=\"atom-17\" d=\"M 21.6554 87.973 L 23.0058 87.973 L 23.0058 92.2069 L 28.0978 92.2069 L 28.0978 87.973 L 29.4481 87.973 L 29.4481 97.9319 L 28.0978 97.9319 L 28.0978 93.3322 L 23.0058 93.3322 L 23.0058 97.9319 L 21.6554 97.9319 L 21.6554 87.973 \" fill=\"#000000\"/>\n",
       "<path class=\"atom-20\" d=\"M 100.262 71.4921 L 101.613 71.4921 L 101.613 75.726 L 106.705 75.726 L 106.705 71.4921 L 108.055 71.4921 L 108.055 81.451 L 106.705 81.451 L 106.705 76.8513 L 101.613 76.8513 L 101.613 81.451 L 100.262 81.451 L 100.262 71.4921 \" fill=\"#000000\"/>\n",
       "<path class=\"atom-21\" d=\"M 63.8307 51.6587 L 65.181 51.6587 L 65.181 55.8926 L 70.273 55.8926 L 70.273 51.6587 L 71.6234 51.6587 L 71.6234 61.6176 L 70.273 61.6176 L 70.273 57.0179 L 65.181 57.0179 L 65.181 61.6176 L 63.8307 61.6176 L 63.8307 51.6587 \" fill=\"#000000\"/>\n",
       "<path class=\"atom-22\" d=\"M 74.31 67.7645 L 75.6604 67.7645 L 75.6604 71.9985 L 80.7523 71.9985 L 80.7523 67.7645 L 82.1027 67.7645 L 82.1027 77.7234 L 80.7523 77.7234 L 80.7523 73.1238 L 75.6604 73.1238 L 75.6604 77.7234 L 74.31 77.7234 L 74.31 67.7645 \" fill=\"#000000\"/>\n",
       "<path class=\"atom-24\" d=\"M 65.4717 150.474 L 66.8221 150.474 L 66.8221 154.708 L 71.9141 154.708 L 71.9141 150.474 L 73.2644 150.474 L 73.2644 160.433 L 71.9141 160.433 L 71.9141 155.833 L 66.8221 155.833 L 66.8221 160.433 L 65.4717 160.433 L 65.4717 150.474 \" fill=\"#000000\"/>\n",
       "<path class=\"atom-26\" d=\"M 118.009 104.852 L 119.359 104.852 L 119.359 109.086 L 124.451 109.086 L 124.451 104.852 L 125.802 104.852 L 125.802 114.811 L 124.451 114.811 L 124.451 110.212 L 119.359 110.212 L 119.359 114.811 L 118.009 114.811 L 118.009 104.852 \" fill=\"#000000\"/>\n",
       "<path class=\"atom-27\" d=\"M 114.704 142.995 L 116.054 142.995 L 116.054 147.229 L 121.146 147.229 L 121.146 142.995 L 122.496 142.995 L 122.496 152.954 L 121.146 152.954 L 121.146 148.355 L 116.054 148.355 L 116.054 152.954 L 114.704 152.954 L 114.704 142.995 \" fill=\"#000000\"/>\n",
       "<path class=\"bond-0 atom-0 atom-3\" d=\"M 384.964,145.537 L 419.637,145.044\" style=\"fill:none;fill-rule:evenodd;stroke:#000000;stroke-width:2.0px;stroke-linecap:butt;stroke-linejoin:miter;stroke-opacity:1\"/>\n",
       "<path class=\"bond-1 atom-0 atom-1\" d=\"M 384.964,145.537 L 379.73,163.436\" style=\"fill:none;fill-rule:evenodd;stroke:#000000;stroke-width:2.0px;stroke-linecap:butt;stroke-linejoin:miter;stroke-opacity:1\"/>\n",
       "<path class=\"bond-2 atom-0 atom-2\" d=\"M 384.964,145.537 L 382.703,136.241\" style=\"fill:none;fill-rule:evenodd;stroke:#000000;stroke-width:2.0px;stroke-linecap:butt;stroke-linejoin:miter;stroke-opacity:1\"/>\n",
       "<path class=\"bond-3 atom-0 atom-25\" d=\"M 384.964,145.537 L 365.036,133.323\" style=\"fill:none;fill-rule:evenodd;stroke:#000000;stroke-width:2.0px;stroke-linecap:butt;stroke-linejoin:miter;stroke-opacity:1\"/>\n",
       "<path class=\"bond-4 atom-3 atom-8\" d=\"M 419.637,145.044 L 436.235,171.723\" style=\"fill:none;fill-rule:evenodd;stroke:#000000;stroke-width:2.0px;stroke-linecap:butt;stroke-linejoin:miter;stroke-opacity:1\"/>\n",
       "<path class=\"bond-5 atom-3 atom-4\" d=\"M 419.637,145.044 L 435.485,113.888\" style=\"fill:none;fill-rule:evenodd;stroke:#000000;stroke-width:2.0px;stroke-linecap:butt;stroke-linejoin:miter;stroke-opacity:1\"/>\n",
       "<path class=\"bond-6 atom-4 atom-5\" d=\"M 435.485,113.888 L 455.497,114.309\" style=\"fill:none;fill-rule:evenodd;stroke:#000000;stroke-width:2.0px;stroke-linecap:butt;stroke-linejoin:miter;stroke-opacity:1\"/>\n",
       "<path class=\"bond-7 atom-4 atom-6\" d=\"M 435.485,113.888 L 426.991,100.094\" style=\"fill:none;fill-rule:evenodd;stroke:#000000;stroke-width:2.0px;stroke-linecap:butt;stroke-linejoin:miter;stroke-opacity:1\"/>\n",
       "<path class=\"bond-8 atom-4 atom-7\" d=\"M 435.485,113.888 L 434.055,110.652\" style=\"fill:none;fill-rule:evenodd;stroke:#000000;stroke-width:2.0px;stroke-linecap:butt;stroke-linejoin:miter;stroke-opacity:1\"/>\n",
       "<path class=\"bond-9 atom-8 atom-10\" d=\"M 436.235,171.723 L 470.885,171.231\" style=\"fill:none;fill-rule:evenodd;stroke:#000000;stroke-width:2.0px;stroke-linecap:butt;stroke-linejoin:miter;stroke-opacity:1\"/>\n",
       "<path class=\"bond-10 atom-8 atom-9\" d=\"M 436.235,171.723 L 428.061,187.775\" style=\"fill:none;fill-rule:evenodd;stroke:#000000;stroke-width:2.0px;stroke-linecap:butt;stroke-linejoin:miter;stroke-opacity:1\"/>\n",
       "<path class=\"bond-11 atom-10 atom-11\" d=\"M 470.885,171.231 L 476.137,153.332\" style=\"fill:none;fill-rule:evenodd;stroke:#000000;stroke-width:2.0px;stroke-linecap:butt;stroke-linejoin:miter;stroke-opacity:1\"/>\n",
       "<path class=\"bond-12 atom-10 atom-12\" d=\"M 470.885,171.231 L 473.146,180.527\" style=\"fill:none;fill-rule:evenodd;stroke:#000000;stroke-width:2.0px;stroke-linecap:butt;stroke-linejoin:miter;stroke-opacity:1\"/>\n",
       "<path class=\"bond-13 atom-10 atom-13\" d=\"M 470.885,171.231 L 480.437,177.082\" style=\"fill:none;fill-rule:evenodd;stroke:#000000;stroke-width:2.0px;stroke-linecap:butt;stroke-linejoin:miter;stroke-opacity:1\"/>\n",
       "<path class=\"bond-14 atom-14 atom-18\" d=\"M 279.115,107.628 L 313.788,107.136\" style=\"fill:none;fill-rule:evenodd;stroke:#000000;stroke-width:2.0px;stroke-linecap:butt;stroke-linejoin:miter;stroke-opacity:1\"/>\n",
       "<path class=\"bond-15 atom-14 atom-15\" d=\"M 279.115,107.628 L 273.881,125.528\" style=\"fill:none;fill-rule:evenodd;stroke:#000000;stroke-width:2.0px;stroke-linecap:butt;stroke-linejoin:miter;stroke-opacity:1\"/>\n",
       "<path class=\"bond-16 atom-14 atom-16\" d=\"M 279.115,107.628 L 269.563,101.761\" style=\"fill:none;fill-rule:evenodd;stroke:#000000;stroke-width:2.0px;stroke-linecap:butt;stroke-linejoin:miter;stroke-opacity:1\"/>\n",
       "<path class=\"bond-17 atom-14 atom-17\" d=\"M 279.115,107.628 L 276.853,98.3094\" style=\"fill:none;fill-rule:evenodd;stroke:#000000;stroke-width:2.0px;stroke-linecap:butt;stroke-linejoin:miter;stroke-opacity:1\"/>\n",
       "<path class=\"bond-18 atom-18 atom-23\" d=\"M 313.788,107.136 L 330.363,133.815\" style=\"fill:none;fill-rule:evenodd;stroke:#000000;stroke-width:2.0px;stroke-linecap:butt;stroke-linejoin:miter;stroke-opacity:1\"/>\n",
       "<path class=\"bond-19 atom-18 atom-19\" d=\"M 313.788,107.136 L 329.613,75.9792\" style=\"fill:none;fill-rule:evenodd;stroke:#000000;stroke-width:2.0px;stroke-linecap:butt;stroke-linejoin:miter;stroke-opacity:1\"/>\n",
       "<path class=\"bond-20 atom-19 atom-20\" d=\"M 329.613,75.9792 L 349.648,76.3811\" style=\"fill:none;fill-rule:evenodd;stroke:#000000;stroke-width:2.0px;stroke-linecap:butt;stroke-linejoin:miter;stroke-opacity:1\"/>\n",
       "<path class=\"bond-21 atom-19 atom-21\" d=\"M 329.613,75.9792 L 321.136,62.1851\" style=\"fill:none;fill-rule:evenodd;stroke:#000000;stroke-width:2.0px;stroke-linecap:butt;stroke-linejoin:miter;stroke-opacity:1\"/>\n",
       "<path class=\"bond-22 atom-19 atom-22\" d=\"M 329.613,75.9792 L 328.206,72.744\" style=\"fill:none;fill-rule:evenodd;stroke:#000000;stroke-width:2.0px;stroke-linecap:butt;stroke-linejoin:miter;stroke-opacity:1\"/>\n",
       "<path class=\"bond-23 atom-23 atom-25\" d=\"M 330.363,133.815 L 365.036,133.323\" style=\"fill:none;fill-rule:evenodd;stroke:#000000;stroke-width:2.0px;stroke-linecap:butt;stroke-linejoin:miter;stroke-opacity:1\"/>\n",
       "<path class=\"bond-24 atom-23 atom-24\" d=\"M 330.363,133.815 L 322.207,149.867\" style=\"fill:none;fill-rule:evenodd;stroke:#000000;stroke-width:2.0px;stroke-linecap:butt;stroke-linejoin:miter;stroke-opacity:1\"/>\n",
       "<path class=\"bond-25 atom-25 atom-26\" d=\"M 365.036,133.323 L 370.27,115.423\" style=\"fill:none;fill-rule:evenodd;stroke:#000000;stroke-width:2.0px;stroke-linecap:butt;stroke-linejoin:miter;stroke-opacity:1\"/>\n",
       "<path class=\"bond-26 atom-25 atom-27\" d=\"M 365.036,133.323 L 367.297,142.618\" style=\"fill:none;fill-rule:evenodd;stroke:#000000;stroke-width:2.0px;stroke-linecap:butt;stroke-linejoin:miter;stroke-opacity:1\"/>\n",
       "<path class=\"atom-1\" d=\"M 374.198 164.048 L 375.549 164.048 L 375.549 168.282 L 380.641 168.282 L 380.641 164.048 L 381.991 164.048 L 381.991 174.007 L 380.641 174.007 L 380.641 169.407 L 375.549 169.407 L 375.549 174.007 L 374.198 174.007 L 374.198 164.048 \" fill=\"#000000\"/>\n",
       "<path class=\"atom-2\" d=\"M 377.504 125.905 L 378.854 125.905 L 378.854 130.139 L 383.946 130.139 L 383.946 125.905 L 385.296 125.905 L 385.296 135.864 L 383.946 135.864 L 383.946 131.264 L 378.854 131.264 L 378.854 135.864 L 377.504 135.864 L 377.504 125.905 \" fill=\"#000000\"/>\n",
       "<path class=\"atom-5\" d=\"M 456.111 109.424 L 457.461 109.424 L 457.461 113.658 L 462.553 113.658 L 462.553 109.424 L 463.903 109.424 L 463.903 119.383 L 462.553 119.383 L 462.553 114.783 L 457.461 114.783 L 457.461 119.383 L 456.111 119.383 L 456.111 109.424 \" fill=\"#000000\"/>\n",
       "<path class=\"atom-6\" d=\"M 419.679 89.5672 L 421.029 89.5672 L 421.029 93.8011 L 426.121 93.8011 L 426.121 89.5672 L 427.472 89.5672 L 427.472 99.5261 L 426.121 99.5261 L 426.121 94.9264 L 421.029 94.9264 L 421.029 99.5261 L 419.679 99.5261 L 419.679 89.5672 \" fill=\"#000000\"/>\n",
       "<path class=\"atom-7\" d=\"M 430.158 105.673 L 431.509 105.673 L 431.509 109.907 L 436.601 109.907 L 436.601 105.673 L 437.951 105.673 L 437.951 115.632 L 436.601 115.632 L 436.601 111.032 L 431.509 111.032 L 431.509 115.632 L 430.158 115.632 L 430.158 105.673 \" fill=\"#000000\"/>\n",
       "<path class=\"atom-9\" d=\"M 421.32 188.382 L 422.67 188.382 L 422.67 192.616 L 427.762 192.616 L 427.762 188.382 L 429.113 188.382 L 429.113 198.341 L 427.762 198.341 L 427.762 193.742 L 422.67 193.742 L 422.67 198.341 L 421.32 198.341 L 421.32 188.382 \" fill=\"#000000\"/>\n",
       "<path class=\"atom-11\" d=\"M 473.881 142.761 L 475.231 142.761 L 475.231 146.995 L 480.323 146.995 L 480.323 142.761 L 481.674 142.761 L 481.674 152.72 L 480.323 152.72 L 480.323 148.12 L 475.231 148.12 L 475.231 152.72 L 473.881 152.72 L 473.881 142.761 \" fill=\"#000000\"/>\n",
       "<path class=\"atom-12\" d=\"M 470.552 180.904 L 471.902 180.904 L 471.902 185.138 L 476.994 185.138 L 476.994 180.904 L 478.345 180.904 L 478.345 190.863 L 476.994 190.863 L 476.994 186.263 L 471.902 186.263 L 471.902 190.863 L 470.552 190.863 L 470.552 180.904 \" fill=\"#000000\"/>\n",
       "<path class=\"atom-13\" d=\"M 480.844 174.738 L 482.194 174.738 L 482.194 178.972 L 487.286 178.972 L 487.286 174.738 L 488.636 174.738 L 488.636 184.697 L 487.286 184.697 L 487.286 180.097 L 482.194 180.097 L 482.194 184.697 L 480.844 184.697 L 480.844 174.738 \" fill=\"#000000\"/>\n",
       "<path class=\"atom-15\" d=\"M 268.35 126.139 L 269.7 126.139 L 269.7 130.373 L 274.792 130.373 L 274.792 126.139 L 276.143 126.139 L 276.143 136.098 L 274.792 136.098 L 274.792 131.499 L 269.7 131.499 L 269.7 136.098 L 268.35 136.098 L 268.35 126.139 \" fill=\"#000000\"/>\n",
       "<path class=\"atom-16\" d=\"M 261.364 94.1387 L 262.714 94.1387 L 262.714 98.3726 L 267.806 98.3726 L 267.806 94.1387 L 269.156 94.1387 L 269.156 104.098 L 267.806 104.098 L 267.806 99.4979 L 262.714 99.4979 L 262.714 104.098 L 261.364 104.098 L 261.364 94.1387 \" fill=\"#000000\"/>\n",
       "<path class=\"atom-17\" d=\"M 271.655 87.973 L 273.006 87.973 L 273.006 92.2069 L 278.098 92.2069 L 278.098 87.973 L 279.448 87.973 L 279.448 97.9319 L 278.098 97.9319 L 278.098 93.3322 L 273.006 93.3322 L 273.006 97.9319 L 271.655 97.9319 L 271.655 87.973 \" fill=\"#000000\"/>\n",
       "<path class=\"atom-20\" d=\"M 350.262 71.4921 L 351.613 71.4921 L 351.613 75.726 L 356.705 75.726 L 356.705 71.4921 L 358.055 71.4921 L 358.055 81.451 L 356.705 81.451 L 356.705 76.8513 L 351.613 76.8513 L 351.613 81.451 L 350.262 81.451 L 350.262 71.4921 \" fill=\"#000000\"/>\n",
       "<path class=\"atom-21\" d=\"M 313.831 51.6587 L 315.181 51.6587 L 315.181 55.8926 L 320.273 55.8926 L 320.273 51.6587 L 321.623 51.6587 L 321.623 61.6176 L 320.273 61.6176 L 320.273 57.0179 L 315.181 57.0179 L 315.181 61.6176 L 313.831 61.6176 L 313.831 51.6587 \" fill=\"#000000\"/>\n",
       "<path class=\"atom-22\" d=\"M 324.31 67.7645 L 325.66 67.7645 L 325.66 71.9985 L 330.752 71.9985 L 330.752 67.7645 L 332.103 67.7645 L 332.103 77.7234 L 330.752 77.7234 L 330.752 73.1238 L 325.66 73.1238 L 325.66 77.7234 L 324.31 77.7234 L 324.31 67.7645 \" fill=\"#000000\"/>\n",
       "<path class=\"atom-24\" d=\"M 315.472 150.474 L 316.822 150.474 L 316.822 154.708 L 321.914 154.708 L 321.914 150.474 L 323.264 150.474 L 323.264 160.433 L 321.914 160.433 L 321.914 155.833 L 316.822 155.833 L 316.822 160.433 L 315.472 160.433 L 315.472 150.474 \" fill=\"#000000\"/>\n",
       "<path class=\"atom-26\" d=\"M 368.009 104.852 L 369.359 104.852 L 369.359 109.086 L 374.451 109.086 L 374.451 104.852 L 375.802 104.852 L 375.802 114.811 L 374.451 114.811 L 374.451 110.212 L 369.359 110.212 L 369.359 114.811 L 368.009 114.811 L 368.009 104.852 \" fill=\"#000000\"/>\n",
       "<path class=\"atom-27\" d=\"M 364.704 142.995 L 366.054 142.995 L 366.054 147.229 L 371.146 147.229 L 371.146 142.995 L 372.496 142.995 L 372.496 152.954 L 371.146 152.954 L 371.146 148.355 L 366.054 148.355 L 366.054 152.954 L 364.704 152.954 L 364.704 142.995 \" fill=\"#000000\"/>\n",
       "</svg>"
      ],
      "text/plain": [
       "<IPython.core.display.SVG object>"
      ]
     },
     "execution_count": 4,
     "metadata": {},
     "output_type": "execute_result"
    }
   ],
   "source": [
    "from rdkit.Chem.Draw import IPythonConsole\n",
    "from rdkit.Chem import Draw\n",
    "IPythonConsole.ipython_useSVG=True\n",
    "m1 = g1_pdb_ms.mol_rdkit\n",
    "m2 = g1_pdb_ms_nobo.mol_rdkit\n",
    "Draw.MolsToGridImage((m1,m2), subImgSize=(250,250))"
   ]
  },
  {
   "cell_type": "markdown",
   "metadata": {
    "pycharm": {
     "name": "#%% md\n"
    }
   },
   "source": [
    "As you can see, the molecule on the right has not correctly assigned the double bonds.\n",
    "Now, the conformers will be generated:"
   ]
  },
  {
   "cell_type": "code",
   "execution_count": 5,
   "metadata": {
    "pycharm": {
     "name": "#%%\n"
    }
   },
   "outputs": [
    {
     "name": "stdout",
     "output_type": "stream",
     "text": [
      "\n",
      "\t\t ======== GENERATE CONFORMERS ========\n",
      "\t\t 1. Generating 50 conformers (13-06-2021 16:12:27)\n",
      "\t\t 2. Minimizing 50 conformers. Max_iters = 3000, threshold = 2.0 A (13-06-2021 16:12:28)\n",
      "\t\t\t Using MMFF forcefield\n",
      "Minimizing[########################################] 50/50\n",
      "\t\t 3. Cluster Conformers (13-06-2021 16:12:28)\n",
      "\t\t\tGenerated: 50 conformers and 8 clusters\n",
      "\t\t 4. Get structure of minimum energy for each cluster (13-06-2021 16:12:28)\n",
      "\t\t 5. Write Conformers to PDB (13-06-2021 16:12:28)\n",
      "\t\t 6. Write Conformers to Gaussian16 (13-06-2021 16:12:28)\n"
     ]
    }
   ],
   "source": [
    "g1_pdb_ms.generate_conformers(nconfs=50, minimize_iterations=3000, pattern=\"IsoP\")\n"
   ]
  }
 ],
 "metadata": {
  "kernelspec": {
   "display_name": "Python 3",
   "language": "python",
   "name": "python3"
  },
  "language_info": {
   "codemirror_mode": {
    "name": "ipython",
    "version": 3
   },
   "file_extension": ".py",
   "mimetype": "text/x-python",
   "name": "python",
   "nbconvert_exporter": "python",
   "pygments_lexer": "ipython3",
   "version": "3.8.5"
  }
 },
 "nbformat": 4,
 "nbformat_minor": 1
}
