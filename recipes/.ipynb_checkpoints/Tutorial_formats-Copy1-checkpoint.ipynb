{
 "cells": [
  {
   "cell_type": "markdown",
   "metadata": {
    "collapsed": true,
    "pycharm": {
     "name": "#%% md\n"
    }
   },
   "source": [
    "## Tutorial: Input file formats for Gecos_Rdkit\n",
    "\n",
    "This tutorial shows how to check if the input file to generate the conformer set is correctly conformed."
   ]
  },
  {
   "cell_type": "markdown",
   "metadata": {},
   "source": [
    "### PET\n",
    "    1.PDB from Materials Studio(MS).\n",
    "    2.MOL2 from Materials Studio.\n",
    "    3.MOL2 from openbabel using as input the MOL2 from MS.\n",
    "\n",
    "Be careful with the Atom name field assigned by MS.You may make changes by hand in these fields to work correctly."
   ]
  },
  {
   "cell_type": "markdown",
   "metadata": {},
   "source": [
    "The first step is to import the library ``gecos``. After that, you may define the path to the input files."
   ]
  },
  {
   "cell_type": "code",
   "execution_count": 3,
   "metadata": {
    "pycharm": {
     "name": "#%%\n"
    }
   },
   "outputs": [],
   "source": [
    "import gecos\n",
    "pdbfile_ms=\"/home/jramos/PycharmProjects/GeCos/data/PET_ms.pdb\"\n",
    "mol2file_ms=\"/home/jramos/PycharmProjects/GeCos/data/PET_ms.mol2\"\n",
    "mol2file_ob=\"/home/jramos/PycharmProjects/GeCos/data/PET_ob.mol2\""
   ]
  },
  {
   "cell_type": "markdown",
   "metadata": {},
   "source": [
    "Next step is to create the GecosRdkit objects for each file. Take care of the warning raises by the second object.\n",
    "This means that the file ``m̀ol2file_ms`` is not correctly conformed."
   ]
  },
  {
   "cell_type": "code",
   "execution_count": 4,
   "metadata": {
    "pycharm": {
     "name": "#%%\n"
    }
   },
   "outputs": [
    {
     "name": "stdout",
     "output_type": "stream",
     "text": [
      "\n",
      "        ***********************************************************************\n",
      "                           Generation of Conformers (GeCoS)\n",
      "                         -----------------------------------\n",
      "                         \n",
      "                                    Version 0.1\n",
      "                         \n",
      "                                  Dr. Javier Ramos\n",
      "                          Macromolecular Physics Department\n",
      "                    Instituto de Estructura de la Materia (IEM-CSIC)\n",
      "                                   Madrid (Spain)\n",
      "                                   \n",
      "                GeCoS is an open-source python library to quickly generate\n",
      "                conformers of small molecules or polymer segments \n",
      "                using RdKit and OpenBabel libraries. Once, the\n",
      "                conformers are generated, QM optimizations and subsequent \n",
      "                clustering can be done.\n",
      "                \n",
      "                This software is distributed under the terms of the\n",
      "                GNU General Public License v3.0 (GNU GPLv3). A copy of \n",
      "                the license (LICENSE.txt) is included with this distribution. \n",
      "                \n",
      "        ***********************************************************************\n",
      "                     \n",
      "        \n",
      "\t\t******** CREATION OF THE GECOS RDKIT OBJECT ********\n",
      "\n",
      "\t\tConformers will be generated with RdKit library (https://www.rdkit.org/docs/GettingStartedInPython.html)\n",
      "\n",
      "\t\tMolecular file seed  : /home/jramos/PycharmProjects/GeCos/data/PET.pdb\n",
      "\t\tBond Perception: True\n",
      "\n",
      "\t\t******** CREATION OF THE GECOS RDKIT OBJECT ********\n",
      "\n",
      "\n",
      "\n",
      "        ***********************************************************************\n",
      "                           Generation of Conformers (GeCoS)\n",
      "                         -----------------------------------\n",
      "                         \n",
      "                                    Version 0.1\n",
      "                         \n",
      "                                  Dr. Javier Ramos\n",
      "                          Macromolecular Physics Department\n",
      "                    Instituto de Estructura de la Materia (IEM-CSIC)\n",
      "                                   Madrid (Spain)\n",
      "                                   \n",
      "                GeCoS is an open-source python library to quickly generate\n",
      "                conformers of small molecules or polymer segments \n",
      "                using RdKit and OpenBabel libraries. Once, the\n",
      "                conformers are generated, QM optimizations and subsequent \n",
      "                clustering can be done.\n",
      "                \n",
      "                This software is distributed under the terms of the\n",
      "                GNU General Public License v3.0 (GNU GPLv3). A copy of \n",
      "                the license (LICENSE.txt) is included with this distribution. \n",
      "                \n",
      "        ***********************************************************************\n",
      "                     \n",
      "        \n",
      "\t\t******** CREATION OF THE GECOS RDKIT OBJECT ********\n",
      "\n",
      "\t\tConformers will be generated with RdKit library (https://www.rdkit.org/docs/GettingStartedInPython.html)\n",
      "\n",
      "\t\t\t WARNING!!!! Molecule might not be correctly setup.\n",
      "\t\t\t WARNING!!!! RdKit molecule seems to be empty (self.mol_rdkit is None).\n",
      "\t\t\t WARNING!!!! conformers cannot be generated.\n",
      "\t\t\t WARNING!!!! Revise both input parameters and/or /home/jramos/PycharmProjects/GeCos/data/PET_ms.mol2 inputfile .\n",
      "\t\t******** CREATION OF THE GECOS RDKIT OBJECT ********\n",
      "\n",
      "\n",
      "\n",
      "        ***********************************************************************\n",
      "                           Generation of Conformers (GeCoS)\n",
      "                         -----------------------------------\n",
      "                         \n",
      "                                    Version 0.1\n",
      "                         \n",
      "                                  Dr. Javier Ramos\n",
      "                          Macromolecular Physics Department\n",
      "                    Instituto de Estructura de la Materia (IEM-CSIC)\n",
      "                                   Madrid (Spain)\n",
      "                                   \n",
      "                GeCoS is an open-source python library to quickly generate\n",
      "                conformers of small molecules or polymer segments \n",
      "                using RdKit and OpenBabel libraries. Once, the\n",
      "                conformers are generated, QM optimizations and subsequent \n",
      "                clustering can be done.\n",
      "                \n",
      "                This software is distributed under the terms of the\n",
      "                GNU General Public License v3.0 (GNU GPLv3). A copy of \n",
      "                the license (LICENSE.txt) is included with this distribution. \n",
      "                \n",
      "        ***********************************************************************\n",
      "                     \n",
      "        \n",
      "\t\t******** CREATION OF THE GECOS RDKIT OBJECT ********\n",
      "\n",
      "\t\tConformers will be generated with RdKit library (https://www.rdkit.org/docs/GettingStartedInPython.html)\n",
      "\n",
      "\t\tMolecular file seed  : /home/jramos/PycharmProjects/GeCos/data/PET_ob.mol2\n",
      "\t\tBond Perception: True\n",
      "\t\t******** CREATION OF THE GECOS RDKIT OBJECT ********\n",
      "\n",
      "\n"
     ]
    },
    {
     "name": "stderr",
     "output_type": "stream",
     "text": [
      "RDKit WARNING: [14:19:54] Warning - O.co2 with degree >1.\n",
      "[14:19:54] Warning - O.co2 with degree >1.\n"
     ]
    }
   ],
   "source": [
    "g1_pdb_ms = gecos.GecosRdkit(filename=pdbfile_ms, bond_perception=True, logger=None)\n",
    "g1_mol2_ms_nobp = gecos.GecosRdkit(filename=mol2file_ms, bond_perception=False, logger=None)\n",
    "g1_mol2_ob_nobp = gecos.GecosRdkit(filename=mol2file_ob, bond_perception=True, logger=None)"
   ]
  },
  {
   "cell_type": "markdown",
   "metadata": {
    "pycharm": {
     "name": "#%% md\n"
    }
   },
   "source": [
    "Visualize the molecules:"
   ]
  },
  {
   "cell_type": "code",
   "execution_count": 9,
   "metadata": {
    "pycharm": {
     "name": "#%%\n"
    }
   },
   "outputs": [
    {
     "data": {
      "image/svg+xml": [
       "<svg xmlns=\"http://www.w3.org/2000/svg\" xmlns:rdkit=\"http://www.rdkit.org/xml\" xmlns:xlink=\"http://www.w3.org/1999/xlink\" version=\"1.1\" baseProfile=\"full\" xml:space=\"preserve\" width=\"750px\" height=\"250px\" viewBox=\"0 0 750 250\">\n",
       "<!-- END OF HEADER -->\n",
       "<rect style=\"opacity:1.0;fill:#FFFFFF;stroke:none\" width=\"750\" height=\"250\" x=\"0\" y=\"0\"> </rect>\n",
       "<rect style=\"opacity:1.0;fill:#FFFFFF;stroke:none\" width=\"750\" height=\"250\" x=\"0\" y=\"0\"> </rect>\n",
       "<path class=\"bond-0 atom-0 atom-15\" d=\"M 39.8462,171.064 L 30.3536,178.608\" style=\"fill:none;fill-rule:evenodd;stroke:#000000;stroke-width:2.0px;stroke-linecap:butt;stroke-linejoin:miter;stroke-opacity:1\"/>\n",
       "<path class=\"bond-0 atom-0 atom-15\" d=\"M 30.3536,178.608 L 20.8609,186.152\" style=\"fill:none;fill-rule:evenodd;stroke:#FF0000;stroke-width:2.0px;stroke-linecap:butt;stroke-linejoin:miter;stroke-opacity:1\"/>\n",
       "<path class=\"bond-0 atom-0 atom-15\" d=\"M 44.465,176.875 L 34.9723,184.419\" style=\"fill:none;fill-rule:evenodd;stroke:#000000;stroke-width:2.0px;stroke-linecap:butt;stroke-linejoin:miter;stroke-opacity:1\"/>\n",
       "<path class=\"bond-0 atom-0 atom-15\" d=\"M 34.9723,184.419 L 25.4796,191.964\" style=\"fill:none;fill-rule:evenodd;stroke:#FF0000;stroke-width:2.0px;stroke-linecap:butt;stroke-linejoin:miter;stroke-opacity:1\"/>\n",
       "<path class=\"bond-1 atom-0 atom-5\" d=\"M 42.1556,173.969 L 59.3777,177.062\" style=\"fill:none;fill-rule:evenodd;stroke:#000000;stroke-width:2.0px;stroke-linecap:butt;stroke-linejoin:miter;stroke-opacity:1\"/>\n",
       "<path class=\"bond-2 atom-0 atom-14\" d=\"M 42.1556,173.969 L 45.3506,165.582\" style=\"fill:none;fill-rule:evenodd;stroke:#000000;stroke-width:2.0px;stroke-linecap:butt;stroke-linejoin:miter;stroke-opacity:1\"/>\n",
       "<path class=\"bond-2 atom-0 atom-14\" d=\"M 45.3506,165.582 L 48.5456,157.195\" style=\"fill:none;fill-rule:evenodd;stroke:#FF0000;stroke-width:2.0px;stroke-linecap:butt;stroke-linejoin:miter;stroke-opacity:1\"/>\n",
       "<path class=\"bond-3 atom-1 atom-10\" d=\"M 104.437,159.172 L 95.183,182.729\" style=\"fill:none;fill-rule:evenodd;stroke:#000000;stroke-width:2.0px;stroke-linecap:butt;stroke-linejoin:miter;stroke-opacity:1\"/>\n",
       "<path class=\"bond-3 atom-1 atom-10\" d=\"M 98.9036,161.077 L 92.4255,177.567\" style=\"fill:none;fill-rule:evenodd;stroke:#000000;stroke-width:2.0px;stroke-linecap:butt;stroke-linejoin:miter;stroke-opacity:1\"/>\n",
       "<path class=\"bond-4 atom-1 atom-3\" d=\"M 104.437,159.172 L 86.2007,155.98\" style=\"fill:none;fill-rule:evenodd;stroke:#000000;stroke-width:2.0px;stroke-linecap:butt;stroke-linejoin:miter;stroke-opacity:1\"/>\n",
       "<path class=\"bond-5 atom-1 atom-2\" d=\"M 104.437,159.172 L 118.031,148.576\" style=\"fill:none;fill-rule:evenodd;stroke:#000000;stroke-width:2.0px;stroke-linecap:butt;stroke-linejoin:miter;stroke-opacity:1\"/>\n",
       "<path class=\"bond-6 atom-3 atom-5\" d=\"M 86.2007,155.98 L 59.3777,177.062\" style=\"fill:none;fill-rule:evenodd;stroke:#000000;stroke-width:2.0px;stroke-linecap:butt;stroke-linejoin:miter;stroke-opacity:1\"/>\n",
       "<path class=\"bond-6 atom-3 atom-5\" d=\"M 86.7645,164.979 L 67.9884,179.736\" style=\"fill:none;fill-rule:evenodd;stroke:#000000;stroke-width:2.0px;stroke-linecap:butt;stroke-linejoin:miter;stroke-opacity:1\"/>\n",
       "<path class=\"bond-7 atom-3 atom-4\" d=\"M 86.2007,155.98 L 90.0032,145.362\" style=\"fill:none;fill-rule:evenodd;stroke:#000000;stroke-width:2.0px;stroke-linecap:butt;stroke-linejoin:miter;stroke-opacity:1\"/>\n",
       "<path class=\"bond-8 atom-5 atom-6\" d=\"M 59.3777,177.062 L 49.9749,200.594\" style=\"fill:none;fill-rule:evenodd;stroke:#000000;stroke-width:2.0px;stroke-linecap:butt;stroke-linejoin:miter;stroke-opacity:1\"/>\n",
       "<path class=\"bond-9 atom-6 atom-8\" d=\"M 49.9749,200.594 L 67.3702,202.797\" style=\"fill:none;fill-rule:evenodd;stroke:#000000;stroke-width:2.0px;stroke-linecap:butt;stroke-linejoin:miter;stroke-opacity:1\"/>\n",
       "<path class=\"bond-9 atom-6 atom-8\" d=\"M 53.1436,196.506 L 65.3203,198.047\" style=\"fill:none;fill-rule:evenodd;stroke:#000000;stroke-width:2.0px;stroke-linecap:butt;stroke-linejoin:miter;stroke-opacity:1\"/>\n",
       "<path class=\"bond-10 atom-6 atom-7\" d=\"M 49.9749,200.594 L 36.4028,211.077\" style=\"fill:none;fill-rule:evenodd;stroke:#000000;stroke-width:2.0px;stroke-linecap:butt;stroke-linejoin:miter;stroke-opacity:1\"/>\n",
       "<path class=\"bond-11 atom-8 atom-10\" d=\"M 67.3702,202.797 L 95.183,182.729\" style=\"fill:none;fill-rule:evenodd;stroke:#000000;stroke-width:2.0px;stroke-linecap:butt;stroke-linejoin:miter;stroke-opacity:1\"/>\n",
       "<path class=\"bond-12 atom-8 atom-9\" d=\"M 67.3702,202.797 L 62.9242,212.678\" style=\"fill:none;fill-rule:evenodd;stroke:#000000;stroke-width:2.0px;stroke-linecap:butt;stroke-linejoin:miter;stroke-opacity:1\"/>\n",
       "<path class=\"bond-13 atom-10 atom-12\" d=\"M 95.183,182.729 L 111.811,185.104\" style=\"fill:none;fill-rule:evenodd;stroke:#000000;stroke-width:2.0px;stroke-linecap:butt;stroke-linejoin:miter;stroke-opacity:1\"/>\n",
       "<path class=\"bond-14 atom-11 atom-12\" d=\"M 99.7056,189.626 L 105.962,188.46\" style=\"fill:none;fill-rule:evenodd;stroke:#FF0000;stroke-width:2.0px;stroke-linecap:butt;stroke-linejoin:miter;stroke-opacity:1\"/>\n",
       "<path class=\"bond-14 atom-11 atom-12\" d=\"M 105.962,188.46 L 112.219,187.294\" style=\"fill:none;fill-rule:evenodd;stroke:#000000;stroke-width:2.0px;stroke-linecap:butt;stroke-linejoin:miter;stroke-opacity:1\"/>\n",
       "<path class=\"bond-14 atom-11 atom-12\" d=\"M 98.8895,185.247 L 105.146,184.081\" style=\"fill:none;fill-rule:evenodd;stroke:#FF0000;stroke-width:2.0px;stroke-linecap:butt;stroke-linejoin:miter;stroke-opacity:1\"/>\n",
       "<path class=\"bond-14 atom-11 atom-12\" d=\"M 105.146,184.081 L 111.403,182.915\" style=\"fill:none;fill-rule:evenodd;stroke:#000000;stroke-width:2.0px;stroke-linecap:butt;stroke-linejoin:miter;stroke-opacity:1\"/>\n",
       "<path class=\"bond-15 atom-12 atom-13\" d=\"M 111.811,185.104 L 125.418,185.155\" style=\"fill:none;fill-rule:evenodd;stroke:#000000;stroke-width:2.0px;stroke-linecap:butt;stroke-linejoin:miter;stroke-opacity:1\"/>\n",
       "<path class=\"bond-15 atom-12 atom-13\" d=\"M 125.418,185.155 L 139.025,185.207\" style=\"fill:none;fill-rule:evenodd;stroke:#FF0000;stroke-width:2.0px;stroke-linecap:butt;stroke-linejoin:miter;stroke-opacity:1\"/>\n",
       "<path class=\"bond-16 atom-13 atom-16\" d=\"M 150.099,185.806 L 159.349,186.791\" style=\"fill:none;fill-rule:evenodd;stroke:#FF0000;stroke-width:2.0px;stroke-linecap:butt;stroke-linejoin:miter;stroke-opacity:1\"/>\n",
       "<path class=\"bond-16 atom-13 atom-16\" d=\"M 159.349,186.791 L 168.6,187.777\" style=\"fill:none;fill-rule:evenodd;stroke:#000000;stroke-width:2.0px;stroke-linecap:butt;stroke-linejoin:miter;stroke-opacity:1\"/>\n",
       "<path class=\"bond-17 atom-14 atom-42\" d=\"M 54.291,157.034 L 57.0818,161.864\" style=\"fill:none;fill-rule:evenodd;stroke:#FF0000;stroke-width:2.0px;stroke-linecap:butt;stroke-linejoin:miter;stroke-opacity:1\"/>\n",
       "<path class=\"bond-17 atom-14 atom-42\" d=\"M 57.0818,161.864 L 59.8726,166.694\" style=\"fill:none;fill-rule:evenodd;stroke:#000000;stroke-width:2.0px;stroke-linecap:butt;stroke-linejoin:miter;stroke-opacity:1\"/>\n",
       "<path class=\"bond-18 atom-16 atom-17\" d=\"M 168.6,187.777 L 176.381,172.784\" style=\"fill:none;fill-rule:evenodd;stroke:#000000;stroke-width:2.0px;stroke-linecap:butt;stroke-linejoin:miter;stroke-opacity:1\"/>\n",
       "<path class=\"bond-19 atom-16 atom-19\" d=\"M 168.6,187.777 L 192.503,212.298\" style=\"fill:none;fill-rule:evenodd;stroke:#000000;stroke-width:2.0px;stroke-linecap:butt;stroke-linejoin:miter;stroke-opacity:1\"/>\n",
       "<path class=\"bond-20 atom-16 atom-18\" d=\"M 168.6,187.777 L 163.876,190.768\" style=\"fill:none;fill-rule:evenodd;stroke:#000000;stroke-width:2.0px;stroke-linecap:butt;stroke-linejoin:miter;stroke-opacity:1\"/>\n",
       "<path class=\"bond-21 atom-19 atom-21\" d=\"M 192.503,212.298 L 185.008,227.538\" style=\"fill:none;fill-rule:evenodd;stroke:#000000;stroke-width:2.0px;stroke-linecap:butt;stroke-linejoin:miter;stroke-opacity:1\"/>\n",
       "<path class=\"bond-22 atom-19 atom-20\" d=\"M 192.503,212.298 L 197.016,209.646\" style=\"fill:none;fill-rule:evenodd;stroke:#000000;stroke-width:2.0px;stroke-linecap:butt;stroke-linejoin:miter;stroke-opacity:1\"/>\n",
       "<path class=\"bond-23 atom-19 atom-22\" d=\"M 192.503,212.298 L 205.351,212.737\" style=\"fill:none;fill-rule:evenodd;stroke:#000000;stroke-width:2.0px;stroke-linecap:butt;stroke-linejoin:miter;stroke-opacity:1\"/>\n",
       "<path class=\"bond-24 atom-23 atom-38\" d=\"M 200.317,57.0777 L 213.141,60.0809\" style=\"fill:none;fill-rule:evenodd;stroke:#000000;stroke-width:2.0px;stroke-linecap:butt;stroke-linejoin:miter;stroke-opacity:1\"/>\n",
       "<path class=\"bond-24 atom-23 atom-38\" d=\"M 213.141,60.0809 L 225.966,63.0841\" style=\"fill:none;fill-rule:evenodd;stroke:#FF0000;stroke-width:2.0px;stroke-linecap:butt;stroke-linejoin:miter;stroke-opacity:1\"/>\n",
       "<path class=\"bond-24 atom-23 atom-38\" d=\"M 202.01,49.8499 L 214.834,52.8531\" style=\"fill:none;fill-rule:evenodd;stroke:#000000;stroke-width:2.0px;stroke-linecap:butt;stroke-linejoin:miter;stroke-opacity:1\"/>\n",
       "<path class=\"bond-24 atom-23 atom-38\" d=\"M 214.834,52.8531 L 227.658,55.8563\" style=\"fill:none;fill-rule:evenodd;stroke:#FF0000;stroke-width:2.0px;stroke-linecap:butt;stroke-linejoin:miter;stroke-opacity:1\"/>\n",
       "<path class=\"bond-25 atom-23 atom-28\" d=\"M 201.163,53.4638 L 176.666,77.7876\" style=\"fill:none;fill-rule:evenodd;stroke:#000000;stroke-width:2.0px;stroke-linecap:butt;stroke-linejoin:miter;stroke-opacity:1\"/>\n",
       "<path class=\"bond-26 atom-23 atom-37\" d=\"M 201.163,53.4638 L 197.671,41.4658\" style=\"fill:none;fill-rule:evenodd;stroke:#000000;stroke-width:2.0px;stroke-linecap:butt;stroke-linejoin:miter;stroke-opacity:1\"/>\n",
       "<path class=\"bond-26 atom-23 atom-37\" d=\"M 197.671,41.4658 L 194.178,29.4678\" style=\"fill:none;fill-rule:evenodd;stroke:#FF0000;stroke-width:2.0px;stroke-linecap:butt;stroke-linejoin:miter;stroke-opacity:1\"/>\n",
       "<path class=\"bond-27 atom-24 atom-33\" d=\"M 118.344,93.0549 L 126.608,125.866\" style=\"fill:none;fill-rule:evenodd;stroke:#000000;stroke-width:2.0px;stroke-linecap:butt;stroke-linejoin:miter;stroke-opacity:1\"/>\n",
       "<path class=\"bond-27 atom-24 atom-33\" d=\"M 126.782,96.1634 L 132.567,119.131\" style=\"fill:none;fill-rule:evenodd;stroke:#000000;stroke-width:2.0px;stroke-linecap:butt;stroke-linejoin:miter;stroke-opacity:1\"/>\n",
       "<path class=\"bond-28 atom-24 atom-26\" d=\"M 118.344,93.0549 L 143.286,69.0033\" style=\"fill:none;fill-rule:evenodd;stroke:#000000;stroke-width:2.0px;stroke-linecap:butt;stroke-linejoin:miter;stroke-opacity:1\"/>\n",
       "<path class=\"bond-29 atom-24 atom-25\" d=\"M 118.344,93.0549 L 100.523,88.1395\" style=\"fill:none;fill-rule:evenodd;stroke:#000000;stroke-width:2.0px;stroke-linecap:butt;stroke-linejoin:miter;stroke-opacity:1\"/>\n",
       "<path class=\"bond-30 atom-26 atom-28\" d=\"M 143.286,69.0033 L 176.666,77.7876\" style=\"fill:none;fill-rule:evenodd;stroke:#000000;stroke-width:2.0px;stroke-linecap:butt;stroke-linejoin:miter;stroke-opacity:1\"/>\n",
       "<path class=\"bond-30 atom-26 atom-28\" d=\"M 146.404,77.4999 L 169.77,83.6489\" style=\"fill:none;fill-rule:evenodd;stroke:#000000;stroke-width:2.0px;stroke-linecap:butt;stroke-linejoin:miter;stroke-opacity:1\"/>\n",
       "<path class=\"bond-31 atom-26 atom-27\" d=\"M 143.286,69.0033 L 139.204,52.4178\" style=\"fill:none;fill-rule:evenodd;stroke:#000000;stroke-width:2.0px;stroke-linecap:butt;stroke-linejoin:miter;stroke-opacity:1\"/>\n",
       "<path class=\"bond-32 atom-28 atom-29\" d=\"M 176.666,77.7876 L 185.055,110.574\" style=\"fill:none;fill-rule:evenodd;stroke:#000000;stroke-width:2.0px;stroke-linecap:butt;stroke-linejoin:miter;stroke-opacity:1\"/>\n",
       "<path class=\"bond-33 atom-29 atom-31\" d=\"M 185.055,110.574 L 159.989,134.329\" style=\"fill:none;fill-rule:evenodd;stroke:#000000;stroke-width:2.0px;stroke-linecap:butt;stroke-linejoin:miter;stroke-opacity:1\"/>\n",
       "<path class=\"bond-33 atom-29 atom-31\" d=\"M 176.189,108.749 L 158.642,125.377\" style=\"fill:none;fill-rule:evenodd;stroke:#000000;stroke-width:2.0px;stroke-linecap:butt;stroke-linejoin:miter;stroke-opacity:1\"/>\n",
       "<path class=\"bond-34 atom-29 atom-30\" d=\"M 185.055,110.574 L 202.975,115.201\" style=\"fill:none;fill-rule:evenodd;stroke:#000000;stroke-width:2.0px;stroke-linecap:butt;stroke-linejoin:miter;stroke-opacity:1\"/>\n",
       "<path class=\"bond-35 atom-31 atom-33\" d=\"M 159.989,134.329 L 126.608,125.866\" style=\"fill:none;fill-rule:evenodd;stroke:#000000;stroke-width:2.0px;stroke-linecap:butt;stroke-linejoin:miter;stroke-opacity:1\"/>\n",
       "<path class=\"bond-36 atom-31 atom-32\" d=\"M 159.989,134.329 L 164.285,150.55\" style=\"fill:none;fill-rule:evenodd;stroke:#000000;stroke-width:2.0px;stroke-linecap:butt;stroke-linejoin:miter;stroke-opacity:1\"/>\n",
       "<path class=\"bond-37 atom-33 atom-35\" d=\"M 126.608,125.866 L 101.889,150.165\" style=\"fill:none;fill-rule:evenodd;stroke:#000000;stroke-width:2.0px;stroke-linecap:butt;stroke-linejoin:miter;stroke-opacity:1\"/>\n",
       "<path class=\"bond-38 atom-34 atom-35\" d=\"M 106.342,164.185 L 105.215,157.003\" style=\"fill:none;fill-rule:evenodd;stroke:#FF0000;stroke-width:2.0px;stroke-linecap:butt;stroke-linejoin:miter;stroke-opacity:1\"/>\n",
       "<path class=\"bond-38 atom-34 atom-35\" d=\"M 105.215,157.003 L 104.089,149.82\" style=\"fill:none;fill-rule:evenodd;stroke:#000000;stroke-width:2.0px;stroke-linecap:butt;stroke-linejoin:miter;stroke-opacity:1\"/>\n",
       "<path class=\"bond-38 atom-34 atom-35\" d=\"M 101.942,164.876 L 100.815,157.693\" style=\"fill:none;fill-rule:evenodd;stroke:#FF0000;stroke-width:2.0px;stroke-linecap:butt;stroke-linejoin:miter;stroke-opacity:1\"/>\n",
       "<path class=\"bond-38 atom-34 atom-35\" d=\"M 100.815,157.693 L 99.6886,150.51\" style=\"fill:none;fill-rule:evenodd;stroke:#000000;stroke-width:2.0px;stroke-linecap:butt;stroke-linejoin:miter;stroke-opacity:1\"/>\n",
       "<path class=\"bond-39 atom-35 atom-36\" d=\"M 101.889,150.165 L 91.7479,151.782\" style=\"fill:none;fill-rule:evenodd;stroke:#000000;stroke-width:2.0px;stroke-linecap:butt;stroke-linejoin:miter;stroke-opacity:1\"/>\n",
       "<path class=\"bond-39 atom-35 atom-36\" d=\"M 91.7479,151.782 L 81.607,153.399\" style=\"fill:none;fill-rule:evenodd;stroke:#FF0000;stroke-width:2.0px;stroke-linecap:butt;stroke-linejoin:miter;stroke-opacity:1\"/>\n",
       "<path class=\"bond-40 atom-36 atom-39\" d=\"M 73.226,148.596 L 71.3869,145.001\" style=\"fill:none;fill-rule:evenodd;stroke:#FF0000;stroke-width:2.0px;stroke-linecap:butt;stroke-linejoin:miter;stroke-opacity:1\"/>\n",
       "<path class=\"bond-40 atom-36 atom-39\" d=\"M 71.3869,145.001 L 69.5477,141.406\" style=\"fill:none;fill-rule:evenodd;stroke:#000000;stroke-width:2.0px;stroke-linecap:butt;stroke-linejoin:miter;stroke-opacity:1\"/>\n",
       "<path class=\"bond-41 atom-37 atom-45\" d=\"M 197.453,19.3594 L 199.271,17.9894\" style=\"fill:none;fill-rule:evenodd;stroke:#FF0000;stroke-width:2.0px;stroke-linecap:butt;stroke-linejoin:miter;stroke-opacity:1\"/>\n",
       "<path class=\"bond-41 atom-37 atom-45\" d=\"M 199.271,17.9894 L 201.089,16.6194\" style=\"fill:none;fill-rule:evenodd;stroke:#000000;stroke-width:2.0px;stroke-linecap:butt;stroke-linejoin:miter;stroke-opacity:1\"/>\n",
       "<path class=\"bond-42 atom-39 atom-40\" d=\"M 69.5477,141.406 L 56.5287,130.15\" style=\"fill:none;fill-rule:evenodd;stroke:#000000;stroke-width:2.0px;stroke-linecap:butt;stroke-linejoin:miter;stroke-opacity:1\"/>\n",
       "<path class=\"bond-43 atom-39 atom-42\" d=\"M 69.5477,141.406 L 59.8726,166.694\" style=\"fill:none;fill-rule:evenodd;stroke:#000000;stroke-width:2.0px;stroke-linecap:butt;stroke-linejoin:miter;stroke-opacity:1\"/>\n",
       "<path class=\"bond-44 atom-39 atom-41\" d=\"M 69.5477,141.406 L 83.7427,133.004\" style=\"fill:none;fill-rule:evenodd;stroke:#000000;stroke-width:2.0px;stroke-linecap:butt;stroke-linejoin:miter;stroke-opacity:1\"/>\n",
       "<path class=\"bond-45 atom-42 atom-44\" d=\"M 59.8726,166.694 L 73.0675,177.718\" style=\"fill:none;fill-rule:evenodd;stroke:#000000;stroke-width:2.0px;stroke-linecap:butt;stroke-linejoin:miter;stroke-opacity:1\"/>\n",
       "<path class=\"bond-46 atom-42 atom-43\" d=\"M 59.8726,166.694 L 45.9763,175.514\" style=\"fill:none;fill-rule:evenodd;stroke:#000000;stroke-width:2.0px;stroke-linecap:butt;stroke-linejoin:miter;stroke-opacity:1\"/>\n",
       "<path class=\"atom-2\" d=\"M 118.611 139.664 L 120.036 139.664 L 120.036 144.132 L 125.411 144.132 L 125.411 139.664 L 126.836 139.664 L 126.836 150.175 L 125.411 150.175 L 125.411 145.32 L 120.036 145.32 L 120.036 150.175 L 118.611 150.175 L 118.611 139.664 \" fill=\"#000000\"/>\n",
       "<path class=\"atom-4\" d=\"M 87.9279 134.418 L 89.3532 134.418 L 89.3532 138.887 L 94.7277 138.887 L 94.7277 134.418 L 96.1529 134.418 L 96.1529 144.929 L 94.7277 144.929 L 94.7277 140.074 L 89.3532 140.074 L 89.3532 144.929 L 87.9279 144.929 L 87.9279 134.418 \" fill=\"#000000\"/>\n",
       "<path class=\"atom-7\" d=\"M 27.6009 209.443 L 29.0262 209.443 L 29.0262 213.912 L 34.4007 213.912 L 34.4007 209.443 L 35.826 209.443 L 35.826 219.954 L 34.4007 219.954 L 34.4007 215.099 L 29.0262 215.099 L 29.0262 219.954 L 27.6009 219.954 L 27.6009 209.443 \" fill=\"#000000\"/>\n",
       "<path class=\"atom-9\" d=\"M 56.255 213.105 L 57.6803 213.105 L 57.6803 217.574 L 63.0548 217.574 L 63.0548 213.105 L 64.4801 213.105 L 64.4801 223.616 L 63.0548 223.616 L 63.0548 218.762 L 57.6803 218.762 L 57.6803 223.616 L 56.255 223.616 L 56.255 213.105 \" fill=\"#000000\"/>\n",
       "<path class=\"atom-11\" d=\"M 89.1948 188.45 Q 89.1948 185.926, 90.4419 184.515 Q 91.689 183.105, 94.02 183.105 Q 96.3509 183.105, 97.598 184.515 Q 98.8451 185.926, 98.8451 188.45 Q 98.8451 191.003, 97.5832 192.458 Q 96.3212 193.898, 94.02 193.898 Q 91.7039 193.898, 90.4419 192.458 Q 89.1948 191.018, 89.1948 188.45 M 94.02 192.711 Q 95.6234 192.711, 96.4845 191.642 Q 97.3605 190.558, 97.3605 188.45 Q 97.3605 186.386, 96.4845 185.347 Q 95.6234 184.293, 94.02 184.293 Q 92.4165 184.293, 91.5406 185.332 Q 90.6795 186.371, 90.6795 188.45 Q 90.6795 190.573, 91.5406 191.642 Q 92.4165 192.711, 94.02 192.711 \" fill=\"#FF0000\"/>\n",
       "<path class=\"atom-13\" d=\"M 139.847 185.258 Q 139.847 182.734, 141.094 181.323 Q 142.341 179.913, 144.672 179.913 Q 147.003 179.913, 148.25 181.323 Q 149.497 182.734, 149.497 185.258 Q 149.497 187.811, 148.235 189.266 Q 146.973 190.706, 144.672 190.706 Q 142.356 190.706, 141.094 189.266 Q 139.847 187.826, 139.847 185.258 M 144.672 189.519 Q 146.275 189.519, 147.136 188.45 Q 148.012 187.366, 148.012 185.258 Q 148.012 183.194, 147.136 182.155 Q 146.275 181.101, 144.672 181.101 Q 143.068 181.101, 142.192 182.14 Q 141.331 183.179, 141.331 185.258 Q 141.331 187.381, 142.192 188.45 Q 143.068 189.519, 144.672 189.519 \" fill=\"#FF0000\"/>\n",
       "<path class=\"atom-14\" d=\"M 46.0405 151.135 Q 46.0405 148.611, 47.2876 147.201 Q 48.5347 145.79, 50.8657 145.79 Q 53.1966 145.79, 54.4437 147.201 Q 55.6908 148.611, 55.6908 151.135 Q 55.6908 153.689, 54.4289 155.144 Q 53.1669 156.584, 50.8657 156.584 Q 48.5496 156.584, 47.2876 155.144 Q 46.0405 153.704, 46.0405 151.135 M 50.8657 155.396 Q 52.4691 155.396, 53.3302 154.327 Q 54.2062 153.243, 54.2062 151.135 Q 54.2062 149.071, 53.3302 148.032 Q 52.4691 146.978, 50.8657 146.978 Q 49.2622 146.978, 48.3863 148.017 Q 47.5252 149.057, 47.5252 151.135 Q 47.5252 153.258, 48.3863 154.327 Q 49.2622 155.396, 50.8657 155.396 \" fill=\"#FF0000\"/>\n",
       "<path class=\"atom-15\" d=\"M 12.7345 193.547 Q 12.7345 191.023, 13.9816 189.613 Q 15.2287 188.202, 17.5596 188.202 Q 19.8906 188.202, 21.1377 189.613 Q 22.3848 191.023, 22.3848 193.547 Q 22.3848 196.101, 21.1228 197.556 Q 19.8609 198.996, 17.5596 198.996 Q 15.2436 198.996, 13.9816 197.556 Q 12.7345 196.116, 12.7345 193.547 M 17.5596 197.808 Q 19.1631 197.808, 20.0242 196.739 Q 20.9001 195.655, 20.9001 193.547 Q 20.9001 191.483, 20.0242 190.444 Q 19.1631 189.39, 17.5596 189.39 Q 15.9562 189.39, 15.0803 190.429 Q 14.2191 191.469, 14.2191 193.547 Q 14.2191 195.67, 15.0803 196.739 Q 15.9562 197.808, 17.5596 197.808 \" fill=\"#FF0000\"/>\n",
       "<path class=\"atom-17\" d=\"M 175.3 161.686 L 176.726 161.686 L 176.726 166.155 L 182.1 166.155 L 182.1 161.686 L 183.526 161.686 L 183.526 172.198 L 182.1 172.198 L 182.1 167.343 L 176.726 167.343 L 176.726 172.198 L 175.3 172.198 L 175.3 161.686 \" fill=\"#000000\"/>\n",
       "<path class=\"atom-18\" d=\"M 155.381 188.286 L 156.807 188.286 L 156.807 192.755 L 162.181 192.755 L 162.181 188.286 L 163.606 188.286 L 163.606 198.798 L 162.181 198.798 L 162.181 193.943 L 156.807 193.943 L 156.807 198.798 L 155.381 198.798 L 155.381 188.286 \" fill=\"#000000\"/>\n",
       "<path class=\"atom-20\" d=\"M 197.274 201.822 L 198.699 201.822 L 198.699 206.29 L 204.073 206.29 L 204.073 201.822 L 205.499 201.822 L 205.499 212.333 L 204.073 212.333 L 204.073 207.478 L 198.699 207.478 L 198.699 212.333 L 197.274 212.333 L 197.274 201.822 \" fill=\"#000000\"/>\n",
       "<path class=\"atom-21\" d=\"M 178.022 228.125 L 179.448 228.125 L 179.448 232.594 L 184.822 232.594 L 184.822 228.125 L 186.247 228.125 L 186.247 238.636 L 184.822 238.636 L 184.822 233.782 L 179.448 233.782 L 179.448 238.636 L 178.022 238.636 L 178.022 228.125 \" fill=\"#000000\"/>\n",
       "<path class=\"atom-22\" d=\"M 205.786 207.637 L 207.211 207.637 L 207.211 212.105 L 212.585 212.105 L 212.585 207.637 L 214.011 207.637 L 214.011 218.148 L 212.585 218.148 L 212.585 213.293 L 207.211 213.293 L 207.211 218.148 L 205.786 218.148 L 205.786 207.637 \" fill=\"#000000\"/>\n",
       "<path class=\"atom-25\" d=\"M 91.7138 81.5884 L 93.1391 81.5884 L 93.1391 86.0572 L 98.5136 86.0572 L 98.5136 81.5884 L 99.9388 81.5884 L 99.9388 92.0998 L 98.5136 92.0998 L 98.5136 87.2449 L 93.1391 87.2449 L 93.1391 92.0998 L 91.7138 92.0998 L 91.7138 81.5884 \" fill=\"#000000\"/>\n",
       "<path class=\"atom-27\" d=\"M 133.656 41.3292 L 135.081 41.3292 L 135.081 45.798 L 140.455 45.798 L 140.455 41.3292 L 141.881 41.3292 L 141.881 51.8406 L 140.455 51.8406 L 140.455 46.9857 L 135.081 46.9857 L 135.081 51.8406 L 133.656 51.8406 L 133.656 41.3292 \" fill=\"#000000\"/>\n",
       "<path class=\"atom-30\" d=\"M 203.559 111.158 L 204.984 111.158 L 204.984 115.627 L 210.358 115.627 L 210.358 111.158 L 211.784 111.158 L 211.784 121.669 L 210.358 121.669 L 210.358 116.815 L 204.984 116.815 L 204.984 121.669 L 203.559 121.669 L 203.559 111.158 \" fill=\"#000000\"/>\n",
       "<path class=\"atom-32\" d=\"M 161.716 151.12 L 163.141 151.12 L 163.141 155.589 L 168.516 155.589 L 168.516 151.12 L 169.941 151.12 L 169.941 161.632 L 168.516 161.632 L 168.516 156.777 L 163.141 156.777 L 163.141 161.632 L 161.716 161.632 L 161.716 151.12 \" fill=\"#000000\"/>\n",
       "<path class=\"atom-34\" d=\"M 100.231 170.386 Q 100.231 167.862, 101.478 166.452 Q 102.725 165.041, 105.056 165.041 Q 107.387 165.041, 108.634 166.452 Q 109.881 167.862, 109.881 170.386 Q 109.881 172.94, 108.619 174.395 Q 107.357 175.835, 105.056 175.835 Q 102.74 175.835, 101.478 174.395 Q 100.231 172.955, 100.231 170.386 M 105.056 174.647 Q 106.659 174.647, 107.521 173.578 Q 108.396 172.494, 108.396 170.386 Q 108.396 168.323, 107.521 167.283 Q 106.659 166.229, 105.056 166.229 Q 103.453 166.229, 102.577 167.268 Q 101.715 168.308, 101.715 170.386 Q 101.715 172.509, 102.577 173.578 Q 103.453 174.647, 105.056 174.647 \" fill=\"#FF0000\"/>\n",
       "<path class=\"atom-36\" d=\"M 71.3046 154.302 Q 71.3046 151.778, 72.5517 150.368 Q 73.7988 148.958, 76.1297 148.958 Q 78.4607 148.958, 79.7078 150.368 Q 80.9549 151.778, 80.9549 154.302 Q 80.9549 156.856, 79.6929 158.311 Q 78.431 159.751, 76.1297 159.751 Q 73.8137 159.751, 72.5517 158.311 Q 71.3046 156.871, 71.3046 154.302 M 76.1297 158.563 Q 77.7332 158.563, 78.5943 157.494 Q 79.4702 156.411, 79.4702 154.302 Q 79.4702 152.239, 78.5943 151.199 Q 77.7332 150.145, 76.1297 150.145 Q 74.5263 150.145, 73.6503 151.185 Q 72.7892 152.224, 72.7892 154.302 Q 72.7892 156.425, 73.6503 157.494 Q 74.5263 158.563, 76.1297 158.563 \" fill=\"#FF0000\"/>\n",
       "<path class=\"atom-37\" d=\"M 187.529 23.2311 Q 187.529 20.7071, 188.776 19.2967 Q 190.023 17.8863, 192.354 17.8863 Q 194.685 17.8863, 195.932 19.2967 Q 197.18 20.7071, 197.18 23.2311 Q 197.18 25.7847, 195.918 27.2397 Q 194.656 28.6798, 192.354 28.6798 Q 190.038 28.6798, 188.776 27.2397 Q 187.529 25.7995, 187.529 23.2311 M 192.354 27.4921 Q 193.958 27.4921, 194.819 26.4231 Q 195.695 25.3393, 195.695 23.2311 Q 195.695 21.1674, 194.819 20.1281 Q 193.958 19.074, 192.354 19.074 Q 190.751 19.074, 189.875 20.1133 Q 189.014 21.1525, 189.014 23.2311 Q 189.014 25.3541, 189.875 26.4231 Q 190.751 27.4921, 192.354 27.4921 \" fill=\"#FF0000\"/>\n",
       "<path class=\"atom-38\" d=\"M 227.615 60.8179 Q 227.615 58.2939, 228.862 56.8835 Q 230.109 55.4731, 232.44 55.4731 Q 234.771 55.4731, 236.018 56.8835 Q 237.266 58.2939, 237.266 60.8179 Q 237.266 63.3715, 236.004 64.8265 Q 234.742 66.2666, 232.44 66.2666 Q 230.124 66.2666, 228.862 64.8265 Q 227.615 63.3863, 227.615 60.8179 M 232.44 65.0789 Q 234.044 65.0789, 234.905 64.0099 Q 235.781 62.9261, 235.781 60.8179 Q 235.781 58.7542, 234.905 57.7149 Q 234.044 56.6608, 232.44 56.6608 Q 230.837 56.6608, 229.961 57.7001 Q 229.1 58.7393, 229.1 60.8179 Q 229.1 62.9409, 229.961 64.0099 Q 230.837 65.0789, 232.44 65.0789 \" fill=\"#FF0000\"/>\n",
       "<path class=\"atom-40\" d=\"M 47.7182 120.833 L 49.1434 120.833 L 49.1434 125.302 L 54.5179 125.302 L 54.5179 120.833 L 55.9432 120.833 L 55.9432 131.344 L 54.5179 131.344 L 54.5179 126.49 L 49.1434 126.49 L 49.1434 131.344 L 47.7182 131.344 L 47.7182 120.833 \" fill=\"#000000\"/>\n",
       "<path class=\"atom-41\" d=\"M 84.2904 124.99 L 85.7157 124.99 L 85.7157 129.459 L 91.0902 129.459 L 91.0902 124.99 L 92.5155 124.99 L 92.5155 135.502 L 91.0902 135.502 L 91.0902 130.647 L 85.7157 130.647 L 85.7157 135.502 L 84.2904 135.502 L 84.2904 124.99 \" fill=\"#000000\"/>\n",
       "<path class=\"atom-43\" d=\"M 37.2018 173.217 L 38.6271 173.217 L 38.6271 177.686 L 44.0016 177.686 L 44.0016 173.217 L 45.4268 173.217 L 45.4268 183.728 L 44.0016 183.728 L 44.0016 178.874 L 38.6271 178.874 L 38.6271 183.728 L 37.2018 183.728 L 37.2018 173.217 \" fill=\"#000000\"/>\n",
       "<path class=\"atom-44\" d=\"M 73.6503 176.384 L 75.0756 176.384 L 75.0756 180.853 L 80.4501 180.853 L 80.4501 176.384 L 81.8754 176.384 L 81.8754 186.896 L 80.4501 186.896 L 80.4501 182.041 L 75.0756 182.041 L 75.0756 186.896 L 73.6503 186.896 L 73.6503 176.384 \" fill=\"#000000\"/>\n",
       "<path class=\"atom-45\" d=\"M 196.977 11.3636 L 198.402 11.3636 L 198.402 15.8325 L 203.776 15.8325 L 203.776 11.3636 L 205.202 11.3636 L 205.202 21.8751 L 203.776 21.8751 L 203.776 17.0202 L 198.402 17.0202 L 198.402 21.8751 L 196.977 21.8751 L 196.977 11.3636 \" fill=\"#000000\"/>\n",
       "</svg>"
      ],
      "text/plain": [
       "<IPython.core.display.SVG object>"
      ]
     },
     "execution_count": 9,
     "metadata": {},
     "output_type": "execute_result"
    }
   ],
   "source": [
    "from rdkit.Chem.Draw import IPythonConsole\n",
    "from rdkit.Chem import Draw\n",
    "IPythonConsole.ipython_useSVG=True\n",
    "m1 = g1_pdb_ms.mol_rdkit\n",
    "m2 = g1_mol2_ms_nobp.mol_rdkit\n",
    "m3 = g1_mol2_ob_nobp.mol_rdkit\n",
    "Draw.MolsToGridImage((m1, m2), subImgSize=(250,250), molsPerRow=3)"
   ]
  },
  {
   "cell_type": "markdown",
   "metadata": {
    "pycharm": {
     "name": "#%% md\n"
    }
   },
   "source": [
    "Mol m2 is not shown due to the ``mol2file_ms`` file is not correct (see the warning above).\n",
    "\n",
    "### Nitrobenzene\n",
    "    1.PDB from Materials Studio(MS).\n",
    "    2.MOL2 from Materials Studio.\n",
    "    3.MOL2 from openbabel using as input the MOL2 from MS."
   ]
  },
  {
   "cell_type": "code",
   "execution_count": 4,
   "metadata": {
    "pycharm": {
     "name": "#%%\n"
    }
   },
   "outputs": [],
   "source": [
    "import gecos\n",
    "pdbfile_ms=\"/home/jramos/PycharmProjects/GeCos/data/nitrobenzene_ms.pdb\"\n",
    "mol2file_ms=\"/home/jramos/PycharmProjects/GeCos/data/nitrobenzene_ms.mol2\""
   ]
  },
  {
   "cell_type": "markdown",
   "metadata": {},
   "source": [
    "Note the warning when the bond perception is not used in a PDB file. This is due to in PDB files, information for\n",
    "bond orders are not available. As you can see, below the representation of this molecule is not correct.\n",
    "On the other hand, in the case of ``MOL2`` and ``SDF`` formats, as the bond information is available in the files,\n",
    "the ``bond_perception flag`` should be ``False``"
   ]
  },
  {
   "cell_type": "code",
   "execution_count": 5,
   "metadata": {
    "pycharm": {
     "name": "#%%\n"
    }
   },
   "outputs": [
    {
     "name": "stdout",
     "output_type": "stream",
     "text": [
      "\tBond_perception is FALSE for PDB file\n",
      "\t\tPDB file does not contain info for bond orders.\n",
      "\n"
     ]
    }
   ],
   "source": [
    "g1_pdb_ms = gecos.GecosRdkit(filename=pdbfile_ms, bond_perception=True, logger=None)\n",
    "g1_pdb_ms_nobp = gecos.GecosRdkit(filename=pdbfile_ms, bond_perception=False, logger=None)\n",
    "g1_mol2_ms_nobp = gecos.GecosRdkit(filename=mol2file_ms, bond_perception=False, logger=None)"
   ]
  },
  {
   "cell_type": "markdown",
   "metadata": {
    "pycharm": {
     "name": "#%% md\n"
    }
   },
   "source": [
    "Create a ``sdf`` file from ``pdb``"
   ]
  },
  {
   "cell_type": "code",
   "execution_count": 6,
   "metadata": {
    "pycharm": {
     "name": "#%%\n"
    }
   },
   "outputs": [],
   "source": [
    "import utils\n",
    "utils.pdbtosdf(pdbfile_ms)\n",
    "sdffile_ms=\"/home/jramos/PycharmProjects/GeCos/data/nitrobenzene_ms_frompdb.sdf\"\n",
    "g1_sdf_ms = gecos.GecosRdkit(filename=sdffile_ms, bond_perception=False, logger=None)"
   ]
  },
  {
   "cell_type": "markdown",
   "metadata": {},
   "source": [
    "Draw 2D structures"
   ]
  },
  {
   "cell_type": "code",
   "execution_count": 7,
   "metadata": {
    "pycharm": {
     "name": "#%%\n"
    }
   },
   "outputs": [
    {
     "data": {
      "image/svg+xml": [
       "<svg xmlns=\"http://www.w3.org/2000/svg\" xmlns:rdkit=\"http://www.rdkit.org/xml\" xmlns:xlink=\"http://www.w3.org/1999/xlink\" version=\"1.1\" baseProfile=\"full\" xml:space=\"preserve\" width=\"500px\" height=\"500px\" viewBox=\"0 0 500 500\">\n",
       "<!-- END OF HEADER -->\n",
       "<rect style=\"opacity:1.0;fill:#FFFFFF;stroke:none\" width=\"500\" height=\"500\" x=\"0\" y=\"0\"> </rect>\n",
       "<rect style=\"opacity:1.0;fill:#FFFFFF;stroke:none\" width=\"500\" height=\"500\" x=\"0\" y=\"0\"> </rect>\n",
       "<rect style=\"opacity:1.0;fill:#FFFFFF;stroke:none\" width=\"500\" height=\"500\" x=\"0\" y=\"0\"> </rect>\n",
       "<rect style=\"opacity:1.0;fill:#FFFFFF;stroke:none\" width=\"500\" height=\"500\" x=\"0\" y=\"0\"> </rect>\n",
       "<rect style=\"opacity:1.0;fill:#FFFFFF;stroke:none\" width=\"500\" height=\"500\" x=\"0\" y=\"0\"> </rect>\n",
       "<path class=\"bond-0 atom-0 atom-1\" d=\"M 195.664,125 L 171.641,83.4412\" style=\"fill:none;fill-rule:evenodd;stroke:#000000;stroke-width:2.0px;stroke-linecap:butt;stroke-linejoin:miter;stroke-opacity:1\"/>\n",
       "<path class=\"bond-0 atom-0 atom-1\" d=\"M 183.147,123.918 L 166.331,94.8273\" style=\"fill:none;fill-rule:evenodd;stroke:#000000;stroke-width:2.0px;stroke-linecap:butt;stroke-linejoin:miter;stroke-opacity:1\"/>\n",
       "<path class=\"bond-1 atom-0 atom-5\" d=\"M 195.664,125 L 171.641,166.559\" style=\"fill:none;fill-rule:evenodd;stroke:#000000;stroke-width:2.0px;stroke-linecap:butt;stroke-linejoin:miter;stroke-opacity:1\"/>\n",
       "<path class=\"bond-2 atom-0 atom-6\" d=\"M 195.664,125 L 226.297,125\" style=\"fill:none;fill-rule:evenodd;stroke:#000000;stroke-width:2.0px;stroke-linecap:butt;stroke-linejoin:miter;stroke-opacity:1\"/>\n",
       "<path class=\"bond-3 atom-1 atom-2\" d=\"M 171.641,83.4412 L 123.665,83.0294\" style=\"fill:none;fill-rule:evenodd;stroke:#000000;stroke-width:2.0px;stroke-linecap:butt;stroke-linejoin:miter;stroke-opacity:1\"/>\n",
       "<path class=\"bond-4 atom-1 atom-7\" d=\"M 171.641,83.4412 L 185.486,59.335\" style=\"fill:none;fill-rule:evenodd;stroke:#000000;stroke-width:2.0px;stroke-linecap:butt;stroke-linejoin:miter;stroke-opacity:1\"/>\n",
       "<path class=\"bond-5 atom-2 atom-3\" d=\"M 123.665,83.0294 L 100.706,125\" style=\"fill:none;fill-rule:evenodd;stroke:#000000;stroke-width:2.0px;stroke-linecap:butt;stroke-linejoin:miter;stroke-opacity:1\"/>\n",
       "<path class=\"bond-5 atom-2 atom-3\" d=\"M 129.254,94.2658 L 113.183,123.645\" style=\"fill:none;fill-rule:evenodd;stroke:#000000;stroke-width:2.0px;stroke-linecap:butt;stroke-linejoin:miter;stroke-opacity:1\"/>\n",
       "<path class=\"bond-6 atom-2 atom-8\" d=\"M 123.665,83.0294 L 109.255,59.5726\" style=\"fill:none;fill-rule:evenodd;stroke:#000000;stroke-width:2.0px;stroke-linecap:butt;stroke-linejoin:miter;stroke-opacity:1\"/>\n",
       "<path class=\"bond-7 atom-3 atom-4\" d=\"M 100.706,125 L 123.665,166.971\" style=\"fill:none;fill-rule:evenodd;stroke:#000000;stroke-width:2.0px;stroke-linecap:butt;stroke-linejoin:miter;stroke-opacity:1\"/>\n",
       "<path class=\"bond-8 atom-3 atom-11\" d=\"M 100.706,125 L 82.4953,125\" style=\"fill:none;fill-rule:evenodd;stroke:#000000;stroke-width:2.0px;stroke-linecap:butt;stroke-linejoin:miter;stroke-opacity:1\"/>\n",
       "<path class=\"bond-8 atom-3 atom-11\" d=\"M 82.4953,125 L 64.2841,125\" style=\"fill:none;fill-rule:evenodd;stroke:#0000FF;stroke-width:2.0px;stroke-linecap:butt;stroke-linejoin:miter;stroke-opacity:1\"/>\n",
       "<path class=\"bond-9 atom-4 atom-5\" d=\"M 123.665,166.971 L 171.641,166.559\" style=\"fill:none;fill-rule:evenodd;stroke:#000000;stroke-width:2.0px;stroke-linecap:butt;stroke-linejoin:miter;stroke-opacity:1\"/>\n",
       "<path class=\"bond-9 atom-4 atom-5\" d=\"M 130.773,156.614 L 164.356,156.326\" style=\"fill:none;fill-rule:evenodd;stroke:#000000;stroke-width:2.0px;stroke-linecap:butt;stroke-linejoin:miter;stroke-opacity:1\"/>\n",
       "<path class=\"bond-10 atom-4 atom-9\" d=\"M 123.665,166.971 L 109.255,190.427\" style=\"fill:none;fill-rule:evenodd;stroke:#000000;stroke-width:2.0px;stroke-linecap:butt;stroke-linejoin:miter;stroke-opacity:1\"/>\n",
       "<path class=\"bond-11 atom-5 atom-10\" d=\"M 171.641,166.559 L 185.486,190.665\" style=\"fill:none;fill-rule:evenodd;stroke:#000000;stroke-width:2.0px;stroke-linecap:butt;stroke-linejoin:miter;stroke-opacity:1\"/>\n",
       "<path class=\"bond-12 atom-11 atom-12\" d=\"M 45.5876,133.344 L 40.1647,143.797\" style=\"fill:none;fill-rule:evenodd;stroke:#0000FF;stroke-width:2.0px;stroke-linecap:butt;stroke-linejoin:miter;stroke-opacity:1\"/>\n",
       "<path class=\"bond-12 atom-11 atom-12\" d=\"M 40.1647,143.797 L 34.7417,154.25\" style=\"fill:none;fill-rule:evenodd;stroke:#FF0000;stroke-width:2.0px;stroke-linecap:butt;stroke-linejoin:miter;stroke-opacity:1\"/>\n",
       "<path class=\"bond-13 atom-11 atom-13\" d=\"M 50.157,114.286 L 44.7928,103.946\" style=\"fill:none;fill-rule:evenodd;stroke:#0000FF;stroke-width:2.0px;stroke-linecap:butt;stroke-linejoin:miter;stroke-opacity:1\"/>\n",
       "<path class=\"bond-13 atom-11 atom-13\" d=\"M 44.7928,103.946 L 39.4286,93.6062\" style=\"fill:none;fill-rule:evenodd;stroke:#FF0000;stroke-width:2.0px;stroke-linecap:butt;stroke-linejoin:miter;stroke-opacity:1\"/>\n",
       "<path class=\"bond-13 atom-11 atom-13\" d=\"M 41.0183,119.027 L 35.6541,108.687\" style=\"fill:none;fill-rule:evenodd;stroke:#0000FF;stroke-width:2.0px;stroke-linecap:butt;stroke-linejoin:miter;stroke-opacity:1\"/>\n",
       "<path class=\"bond-13 atom-11 atom-13\" d=\"M 35.6541,108.687 L 30.2899,98.3473\" style=\"fill:none;fill-rule:evenodd;stroke:#FF0000;stroke-width:2.0px;stroke-linecap:butt;stroke-linejoin:miter;stroke-opacity:1\"/>\n",
       "<path class=\"atom-6\" d=\"M 227.229 117.711 L 229.206 117.711 L 229.206 123.909 L 236.66 123.909 L 236.66 117.711 L 238.636 117.711 L 238.636 132.289 L 236.66 132.289 L 236.66 125.556 L 229.206 125.556 L 229.206 132.289 L 227.229 132.289 L 227.229 117.711 \" fill=\"#000000\"/>\n",
       "<path class=\"atom-7\" d=\"M 184.504 43.8248 L 186.48 43.8248 L 186.48 50.0226 L 193.934 50.0226 L 193.934 43.8248 L 195.911 43.8248 L 195.911 58.403 L 193.934 58.403 L 193.934 51.6698 L 186.48 51.6698 L 186.48 58.403 L 184.504 58.403 L 184.504 43.8248 \" fill=\"#000000\"/>\n",
       "<path class=\"atom-8\" d=\"M 98.5033 44.065 L 100.48 44.065 L 100.48 50.2628 L 107.934 50.2628 L 107.934 44.065 L 109.91 44.065 L 109.91 58.6432 L 107.934 58.6432 L 107.934 51.9101 L 100.48 51.9101 L 100.48 58.6432 L 98.5033 58.6432 L 98.5033 44.065 \" fill=\"#000000\"/>\n",
       "<path class=\"atom-9\" d=\"M 98.5033 191.357 L 100.48 191.357 L 100.48 197.555 L 107.934 197.555 L 107.934 191.357 L 109.91 191.357 L 109.91 205.935 L 107.934 205.935 L 107.934 199.202 L 100.48 199.202 L 100.48 205.935 L 98.5033 205.935 L 98.5033 191.357 \" fill=\"#000000\"/>\n",
       "<path class=\"atom-10\" d=\"M 184.504 191.597 L 186.48 191.597 L 186.48 197.795 L 193.934 197.795 L 193.934 191.597 L 195.911 191.597 L 195.911 206.175 L 193.934 206.175 L 193.934 199.442 L 186.48 199.442 L 186.48 206.175 L 184.504 206.175 L 184.504 191.597 \" fill=\"#000000\"/>\n",
       "<path class=\"atom-11\" d=\"M 46.6938 117.711 L 51.4708 125.432 Q 51.9444 126.194, 52.7062 127.574 Q 53.4681 128.953, 53.5093 129.036 L 53.5093 117.711 L 55.4448 117.711 L 55.4448 132.289 L 53.4475 132.289 L 48.3204 123.847 Q 47.7233 122.859, 47.085 121.726 Q 46.4673 120.594, 46.2819 120.244 L 46.2819 132.289 L 44.3876 132.289 L 44.3876 117.711 L 46.6938 117.711 \" fill=\"#0000FF\"/>\n",
       "<path class=\"atom-11\" d=\"M 56.6679 120.339 L 59.2363 120.339 L 59.2363 117.634 L 60.3779 117.634 L 60.3779 120.339 L 63.0143 120.339 L 63.0143 121.317 L 60.3779 121.317 L 60.3779 124.035 L 59.2363 124.035 L 59.2363 121.317 L 56.6679 121.317 L 56.6679 120.339 \" fill=\"#0000FF\"/>\n",
       "<path class=\"atom-12\" d=\"M 23.8004 162.482 Q 23.8004 158.981, 25.53 157.025 Q 27.2596 155.069, 30.4923 155.069 Q 33.7251 155.069, 35.4547 157.025 Q 37.1843 158.981, 37.1843 162.482 Q 37.1843 166.023, 35.4341 168.041 Q 33.6839 170.039, 30.4923 170.039 Q 27.2802 170.039, 25.53 168.041 Q 23.8004 166.044, 23.8004 162.482 M 30.4923 168.391 Q 32.7161 168.391, 33.9104 166.909 Q 35.1252 165.406, 35.1252 162.482 Q 35.1252 159.62, 33.9104 158.178 Q 32.7161 156.716, 30.4923 156.716 Q 28.2686 156.716, 27.0537 158.158 Q 25.8595 159.599, 25.8595 162.482 Q 25.8595 165.426, 27.0537 166.909 Q 28.2686 168.391, 30.4923 168.391 \" fill=\"#FF0000\"/>\n",
       "<path class=\"atom-12\" d=\"M 37.8638 157.449 L 42.8513 157.449 L 42.8513 158.536 L 37.8638 158.536 L 37.8638 157.449 \" fill=\"#FF0000\"/>\n",
       "<path class=\"atom-13\" d=\"M 23.8004 87.6005 Q 23.8004 84.1001, 25.53 82.144 Q 27.2596 80.1879, 30.4923 80.1879 Q 33.7251 80.1879, 35.4547 82.144 Q 37.1843 84.1001, 37.1843 87.6005 Q 37.1843 91.1421, 35.4341 93.16 Q 33.6839 95.1573, 30.4923 95.1573 Q 27.2802 95.1573, 25.53 93.16 Q 23.8004 91.1627, 23.8004 87.6005 M 30.4923 93.51 Q 32.7161 93.51, 33.9104 92.0275 Q 35.1252 90.5244, 35.1252 87.6005 Q 35.1252 84.7384, 33.9104 83.2971 Q 32.7161 81.8351, 30.4923 81.8351 Q 28.2686 81.8351, 27.0537 83.2765 Q 25.8595 84.7178, 25.8595 87.6005 Q 25.8595 90.545, 27.0537 92.0275 Q 28.2686 93.51, 30.4923 93.51 \" fill=\"#FF0000\"/>\n",
       "<path class=\"bond-0 atom-0 atom-1\" d=\"M 445.664,125 L 421.641,83.4412\" style=\"fill:none;fill-rule:evenodd;stroke:#000000;stroke-width:2.0px;stroke-linecap:butt;stroke-linejoin:miter;stroke-opacity:1\"/>\n",
       "<path class=\"bond-1 atom-0 atom-5\" d=\"M 445.664,125 L 421.641,166.559\" style=\"fill:none;fill-rule:evenodd;stroke:#000000;stroke-width:2.0px;stroke-linecap:butt;stroke-linejoin:miter;stroke-opacity:1\"/>\n",
       "<path class=\"bond-2 atom-0 atom-6\" d=\"M 445.664,125 L 476.297,125\" style=\"fill:none;fill-rule:evenodd;stroke:#000000;stroke-width:2.0px;stroke-linecap:butt;stroke-linejoin:miter;stroke-opacity:1\"/>\n",
       "<path class=\"bond-3 atom-1 atom-2\" d=\"M 421.641,83.4412 L 373.665,83.0294\" style=\"fill:none;fill-rule:evenodd;stroke:#000000;stroke-width:2.0px;stroke-linecap:butt;stroke-linejoin:miter;stroke-opacity:1\"/>\n",
       "<path class=\"bond-4 atom-1 atom-7\" d=\"M 421.641,83.4412 L 435.486,59.335\" style=\"fill:none;fill-rule:evenodd;stroke:#000000;stroke-width:2.0px;stroke-linecap:butt;stroke-linejoin:miter;stroke-opacity:1\"/>\n",
       "<path class=\"bond-5 atom-2 atom-3\" d=\"M 373.665,83.0294 L 350.706,125\" style=\"fill:none;fill-rule:evenodd;stroke:#000000;stroke-width:2.0px;stroke-linecap:butt;stroke-linejoin:miter;stroke-opacity:1\"/>\n",
       "<path class=\"bond-6 atom-2 atom-8\" d=\"M 373.665,83.0294 L 359.255,59.5726\" style=\"fill:none;fill-rule:evenodd;stroke:#000000;stroke-width:2.0px;stroke-linecap:butt;stroke-linejoin:miter;stroke-opacity:1\"/>\n",
       "<path class=\"bond-7 atom-3 atom-4\" d=\"M 350.706,125 L 373.665,166.971\" style=\"fill:none;fill-rule:evenodd;stroke:#000000;stroke-width:2.0px;stroke-linecap:butt;stroke-linejoin:miter;stroke-opacity:1\"/>\n",
       "<path class=\"bond-8 atom-3 atom-11\" d=\"M 350.706,125 L 332.495,125\" style=\"fill:none;fill-rule:evenodd;stroke:#000000;stroke-width:2.0px;stroke-linecap:butt;stroke-linejoin:miter;stroke-opacity:1\"/>\n",
       "<path class=\"bond-8 atom-3 atom-11\" d=\"M 332.495,125 L 314.284,125\" style=\"fill:none;fill-rule:evenodd;stroke:#0000FF;stroke-width:2.0px;stroke-linecap:butt;stroke-linejoin:miter;stroke-opacity:1\"/>\n",
       "<path class=\"bond-9 atom-4 atom-5\" d=\"M 373.665,166.971 L 421.641,166.559\" style=\"fill:none;fill-rule:evenodd;stroke:#000000;stroke-width:2.0px;stroke-linecap:butt;stroke-linejoin:miter;stroke-opacity:1\"/>\n",
       "<path class=\"bond-10 atom-4 atom-9\" d=\"M 373.665,166.971 L 359.255,190.427\" style=\"fill:none;fill-rule:evenodd;stroke:#000000;stroke-width:2.0px;stroke-linecap:butt;stroke-linejoin:miter;stroke-opacity:1\"/>\n",
       "<path class=\"bond-11 atom-5 atom-10\" d=\"M 421.641,166.559 L 435.486,190.665\" style=\"fill:none;fill-rule:evenodd;stroke:#000000;stroke-width:2.0px;stroke-linecap:butt;stroke-linejoin:miter;stroke-opacity:1\"/>\n",
       "<path class=\"bond-12 atom-11 atom-12\" d=\"M 295.588,133.344 L 290.165,143.797\" style=\"fill:none;fill-rule:evenodd;stroke:#0000FF;stroke-width:2.0px;stroke-linecap:butt;stroke-linejoin:miter;stroke-opacity:1\"/>\n",
       "<path class=\"bond-12 atom-11 atom-12\" d=\"M 290.165,143.797 L 284.742,154.25\" style=\"fill:none;fill-rule:evenodd;stroke:#FF0000;stroke-width:2.0px;stroke-linecap:butt;stroke-linejoin:miter;stroke-opacity:1\"/>\n",
       "<path class=\"bond-13 atom-11 atom-13\" d=\"M 295.588,116.656 L 290.223,106.317\" style=\"fill:none;fill-rule:evenodd;stroke:#0000FF;stroke-width:2.0px;stroke-linecap:butt;stroke-linejoin:miter;stroke-opacity:1\"/>\n",
       "<path class=\"bond-13 atom-11 atom-13\" d=\"M 290.223,106.317 L 284.859,95.9768\" style=\"fill:none;fill-rule:evenodd;stroke:#FF0000;stroke-width:2.0px;stroke-linecap:butt;stroke-linejoin:miter;stroke-opacity:1\"/>\n",
       "<path class=\"atom-6\" d=\"M 477.229 117.711 L 479.206 117.711 L 479.206 123.909 L 486.66 123.909 L 486.66 117.711 L 488.636 117.711 L 488.636 132.289 L 486.66 132.289 L 486.66 125.556 L 479.206 125.556 L 479.206 132.289 L 477.229 132.289 L 477.229 117.711 \" fill=\"#000000\"/>\n",
       "<path class=\"atom-7\" d=\"M 434.504 43.8248 L 436.48 43.8248 L 436.48 50.0226 L 443.934 50.0226 L 443.934 43.8248 L 445.911 43.8248 L 445.911 58.403 L 443.934 58.403 L 443.934 51.6698 L 436.48 51.6698 L 436.48 58.403 L 434.504 58.403 L 434.504 43.8248 \" fill=\"#000000\"/>\n",
       "<path class=\"atom-8\" d=\"M 348.503 44.065 L 350.48 44.065 L 350.48 50.2628 L 357.934 50.2628 L 357.934 44.065 L 359.91 44.065 L 359.91 58.6432 L 357.934 58.6432 L 357.934 51.9101 L 350.48 51.9101 L 350.48 58.6432 L 348.503 58.6432 L 348.503 44.065 \" fill=\"#000000\"/>\n",
       "<path class=\"atom-9\" d=\"M 348.503 191.357 L 350.48 191.357 L 350.48 197.555 L 357.934 197.555 L 357.934 191.357 L 359.91 191.357 L 359.91 205.935 L 357.934 205.935 L 357.934 199.202 L 350.48 199.202 L 350.48 205.935 L 348.503 205.935 L 348.503 191.357 \" fill=\"#000000\"/>\n",
       "<path class=\"atom-10\" d=\"M 434.504 191.597 L 436.48 191.597 L 436.48 197.795 L 443.934 197.795 L 443.934 191.597 L 445.911 191.597 L 445.911 206.175 L 443.934 206.175 L 443.934 199.442 L 436.48 199.442 L 436.48 206.175 L 434.504 206.175 L 434.504 191.597 \" fill=\"#000000\"/>\n",
       "<path class=\"atom-11\" d=\"M 281.271 117.711 L 283.248 117.711 L 283.248 123.909 L 290.702 123.909 L 290.702 117.711 L 292.679 117.711 L 292.679 132.289 L 290.702 132.289 L 290.702 125.556 L 283.248 125.556 L 283.248 132.289 L 281.271 132.289 L 281.271 117.711 \" fill=\"#0000FF\"/>\n",
       "<path class=\"atom-11\" d=\"M 296.694 117.711 L 301.471 125.432 Q 301.944 126.194, 302.706 127.574 Q 303.468 128.953, 303.509 129.036 L 303.509 117.711 L 305.445 117.711 L 305.445 132.289 L 303.447 132.289 L 298.32 123.847 Q 297.723 122.859, 297.085 121.726 Q 296.467 120.594, 296.282 120.244 L 296.282 132.289 L 294.388 132.289 L 294.388 117.711 L 296.694 117.711 \" fill=\"#0000FF\"/>\n",
       "<path class=\"atom-11\" d=\"M 306.668 120.339 L 309.236 120.339 L 309.236 117.634 L 310.378 117.634 L 310.378 120.339 L 313.014 120.339 L 313.014 121.317 L 310.378 121.317 L 310.378 124.035 L 309.236 124.035 L 309.236 121.317 L 306.668 121.317 L 306.668 120.339 \" fill=\"#0000FF\"/>\n",
       "<path class=\"atom-12\" d=\"M 273.8 162.482 Q 273.8 158.981, 275.53 157.025 Q 277.26 155.069, 280.492 155.069 Q 283.725 155.069, 285.455 157.025 Q 287.184 158.981, 287.184 162.482 Q 287.184 166.023, 285.434 168.041 Q 283.684 170.039, 280.492 170.039 Q 277.28 170.039, 275.53 168.041 Q 273.8 166.044, 273.8 162.482 M 280.492 168.391 Q 282.716 168.391, 283.91 166.909 Q 285.125 165.406, 285.125 162.482 Q 285.125 159.62, 283.91 158.178 Q 282.716 156.716, 280.492 156.716 Q 278.269 156.716, 277.054 158.158 Q 275.859 159.599, 275.859 162.482 Q 275.859 165.426, 277.054 166.909 Q 278.269 168.391, 280.492 168.391 \" fill=\"#FF0000\"/>\n",
       "<path class=\"atom-12\" d=\"M 287.864 157.449 L 292.851 157.449 L 292.851 158.536 L 287.864 158.536 L 287.864 157.449 \" fill=\"#FF0000\"/>\n",
       "<path class=\"atom-13\" d=\"M 261.364 80.3526 L 263.34 80.3526 L 263.34 86.5504 L 270.794 86.5504 L 270.794 80.3526 L 272.771 80.3526 L 272.771 94.9308 L 270.794 94.9308 L 270.794 88.1976 L 263.34 88.1976 L 263.34 94.9308 L 261.364 94.9308 L 261.364 80.3526 \" fill=\"#FF0000\"/>\n",
       "<path class=\"atom-13\" d=\"M 273.8 87.6005 Q 273.8 84.1001, 275.53 82.144 Q 277.26 80.1879, 280.492 80.1879 Q 283.725 80.1879, 285.455 82.144 Q 287.184 84.1001, 287.184 87.6005 Q 287.184 91.1421, 285.434 93.16 Q 283.684 95.1573, 280.492 95.1573 Q 277.28 95.1573, 275.53 93.16 Q 273.8 91.1627, 273.8 87.6005 M 280.492 93.51 Q 282.716 93.51, 283.91 92.0275 Q 285.125 90.5244, 285.125 87.6005 Q 285.125 84.7384, 283.91 83.2971 Q 282.716 81.8351, 280.492 81.8351 Q 278.269 81.8351, 277.054 83.2765 Q 275.859 84.7178, 275.859 87.6005 Q 275.859 90.545, 277.054 92.0275 Q 278.269 93.51, 280.492 93.51 \" fill=\"#FF0000\"/>\n",
       "<path class=\"bond-0 atom-0 atom-1\" d=\"M 195.664,375 L 171.641,333.441\" style=\"fill:none;fill-rule:evenodd;stroke:#000000;stroke-width:2.0px;stroke-linecap:butt;stroke-linejoin:miter;stroke-opacity:1\"/>\n",
       "<path class=\"bond-0 atom-0 atom-1\" d=\"M 183.147,373.918 L 166.331,344.827\" style=\"fill:none;fill-rule:evenodd;stroke:#000000;stroke-width:2.0px;stroke-linecap:butt;stroke-linejoin:miter;stroke-opacity:1\"/>\n",
       "<path class=\"bond-1 atom-0 atom-5\" d=\"M 195.664,375 L 171.641,416.559\" style=\"fill:none;fill-rule:evenodd;stroke:#000000;stroke-width:2.0px;stroke-linecap:butt;stroke-linejoin:miter;stroke-opacity:1\"/>\n",
       "<path class=\"bond-2 atom-0 atom-6\" d=\"M 195.664,375 L 226.297,375\" style=\"fill:none;fill-rule:evenodd;stroke:#000000;stroke-width:2.0px;stroke-linecap:butt;stroke-linejoin:miter;stroke-opacity:1\"/>\n",
       "<path class=\"bond-3 atom-1 atom-2\" d=\"M 171.641,333.441 L 123.665,333.029\" style=\"fill:none;fill-rule:evenodd;stroke:#000000;stroke-width:2.0px;stroke-linecap:butt;stroke-linejoin:miter;stroke-opacity:1\"/>\n",
       "<path class=\"bond-4 atom-1 atom-7\" d=\"M 171.641,333.441 L 185.486,309.335\" style=\"fill:none;fill-rule:evenodd;stroke:#000000;stroke-width:2.0px;stroke-linecap:butt;stroke-linejoin:miter;stroke-opacity:1\"/>\n",
       "<path class=\"bond-5 atom-2 atom-3\" d=\"M 123.665,333.029 L 100.706,375\" style=\"fill:none;fill-rule:evenodd;stroke:#000000;stroke-width:2.0px;stroke-linecap:butt;stroke-linejoin:miter;stroke-opacity:1\"/>\n",
       "<path class=\"bond-5 atom-2 atom-3\" d=\"M 129.254,344.266 L 113.183,373.645\" style=\"fill:none;fill-rule:evenodd;stroke:#000000;stroke-width:2.0px;stroke-linecap:butt;stroke-linejoin:miter;stroke-opacity:1\"/>\n",
       "<path class=\"bond-6 atom-2 atom-8\" d=\"M 123.665,333.029 L 109.255,309.573\" style=\"fill:none;fill-rule:evenodd;stroke:#000000;stroke-width:2.0px;stroke-linecap:butt;stroke-linejoin:miter;stroke-opacity:1\"/>\n",
       "<path class=\"bond-7 atom-3 atom-4\" d=\"M 100.706,375 L 123.665,416.971\" style=\"fill:none;fill-rule:evenodd;stroke:#000000;stroke-width:2.0px;stroke-linecap:butt;stroke-linejoin:miter;stroke-opacity:1\"/>\n",
       "<path class=\"bond-8 atom-3 atom-11\" d=\"M 100.706,375 L 82.4953,375\" style=\"fill:none;fill-rule:evenodd;stroke:#000000;stroke-width:2.0px;stroke-linecap:butt;stroke-linejoin:miter;stroke-opacity:1\"/>\n",
       "<path class=\"bond-8 atom-3 atom-11\" d=\"M 82.4953,375 L 64.2841,375\" style=\"fill:none;fill-rule:evenodd;stroke:#0000FF;stroke-width:2.0px;stroke-linecap:butt;stroke-linejoin:miter;stroke-opacity:1\"/>\n",
       "<path class=\"bond-9 atom-4 atom-5\" d=\"M 123.665,416.971 L 171.641,416.559\" style=\"fill:none;fill-rule:evenodd;stroke:#000000;stroke-width:2.0px;stroke-linecap:butt;stroke-linejoin:miter;stroke-opacity:1\"/>\n",
       "<path class=\"bond-9 atom-4 atom-5\" d=\"M 130.773,406.614 L 164.356,406.326\" style=\"fill:none;fill-rule:evenodd;stroke:#000000;stroke-width:2.0px;stroke-linecap:butt;stroke-linejoin:miter;stroke-opacity:1\"/>\n",
       "<path class=\"bond-10 atom-4 atom-9\" d=\"M 123.665,416.971 L 109.255,440.427\" style=\"fill:none;fill-rule:evenodd;stroke:#000000;stroke-width:2.0px;stroke-linecap:butt;stroke-linejoin:miter;stroke-opacity:1\"/>\n",
       "<path class=\"bond-11 atom-5 atom-10\" d=\"M 171.641,416.559 L 185.486,440.665\" style=\"fill:none;fill-rule:evenodd;stroke:#000000;stroke-width:2.0px;stroke-linecap:butt;stroke-linejoin:miter;stroke-opacity:1\"/>\n",
       "<path class=\"bond-12 atom-11 atom-12\" d=\"M 45.5876,383.344 L 40.1647,393.797\" style=\"fill:none;fill-rule:evenodd;stroke:#0000FF;stroke-width:2.0px;stroke-linecap:butt;stroke-linejoin:miter;stroke-opacity:1\"/>\n",
       "<path class=\"bond-12 atom-11 atom-12\" d=\"M 40.1647,393.797 L 34.7417,404.25\" style=\"fill:none;fill-rule:evenodd;stroke:#FF0000;stroke-width:2.0px;stroke-linecap:butt;stroke-linejoin:miter;stroke-opacity:1\"/>\n",
       "<path class=\"bond-13 atom-11 atom-13\" d=\"M 50.157,364.286 L 44.7928,353.946\" style=\"fill:none;fill-rule:evenodd;stroke:#0000FF;stroke-width:2.0px;stroke-linecap:butt;stroke-linejoin:miter;stroke-opacity:1\"/>\n",
       "<path class=\"bond-13 atom-11 atom-13\" d=\"M 44.7928,353.946 L 39.4286,343.606\" style=\"fill:none;fill-rule:evenodd;stroke:#FF0000;stroke-width:2.0px;stroke-linecap:butt;stroke-linejoin:miter;stroke-opacity:1\"/>\n",
       "<path class=\"bond-13 atom-11 atom-13\" d=\"M 41.0183,369.027 L 35.6541,358.687\" style=\"fill:none;fill-rule:evenodd;stroke:#0000FF;stroke-width:2.0px;stroke-linecap:butt;stroke-linejoin:miter;stroke-opacity:1\"/>\n",
       "<path class=\"bond-13 atom-11 atom-13\" d=\"M 35.6541,358.687 L 30.2899,348.347\" style=\"fill:none;fill-rule:evenodd;stroke:#FF0000;stroke-width:2.0px;stroke-linecap:butt;stroke-linejoin:miter;stroke-opacity:1\"/>\n",
       "<path class=\"atom-6\" d=\"M 227.229 367.711 L 229.206 367.711 L 229.206 373.909 L 236.66 373.909 L 236.66 367.711 L 238.636 367.711 L 238.636 382.289 L 236.66 382.289 L 236.66 375.556 L 229.206 375.556 L 229.206 382.289 L 227.229 382.289 L 227.229 367.711 \" fill=\"#000000\"/>\n",
       "<path class=\"atom-7\" d=\"M 184.504 293.825 L 186.48 293.825 L 186.48 300.023 L 193.934 300.023 L 193.934 293.825 L 195.911 293.825 L 195.911 308.403 L 193.934 308.403 L 193.934 301.67 L 186.48 301.67 L 186.48 308.403 L 184.504 308.403 L 184.504 293.825 \" fill=\"#000000\"/>\n",
       "<path class=\"atom-8\" d=\"M 98.5033 294.065 L 100.48 294.065 L 100.48 300.263 L 107.934 300.263 L 107.934 294.065 L 109.91 294.065 L 109.91 308.643 L 107.934 308.643 L 107.934 301.91 L 100.48 301.91 L 100.48 308.643 L 98.5033 308.643 L 98.5033 294.065 \" fill=\"#000000\"/>\n",
       "<path class=\"atom-9\" d=\"M 98.5033 441.357 L 100.48 441.357 L 100.48 447.555 L 107.934 447.555 L 107.934 441.357 L 109.91 441.357 L 109.91 455.935 L 107.934 455.935 L 107.934 449.202 L 100.48 449.202 L 100.48 455.935 L 98.5033 455.935 L 98.5033 441.357 \" fill=\"#000000\"/>\n",
       "<path class=\"atom-10\" d=\"M 184.504 441.597 L 186.48 441.597 L 186.48 447.795 L 193.934 447.795 L 193.934 441.597 L 195.911 441.597 L 195.911 456.175 L 193.934 456.175 L 193.934 449.442 L 186.48 449.442 L 186.48 456.175 L 184.504 456.175 L 184.504 441.597 \" fill=\"#000000\"/>\n",
       "<path class=\"atom-11\" d=\"M 46.6938 367.711 L 51.4708 375.432 Q 51.9444 376.194, 52.7062 377.574 Q 53.4681 378.953, 53.5093 379.036 L 53.5093 367.711 L 55.4448 367.711 L 55.4448 382.289 L 53.4475 382.289 L 48.3204 373.847 Q 47.7233 372.859, 47.085 371.726 Q 46.4673 370.594, 46.2819 370.244 L 46.2819 382.289 L 44.3876 382.289 L 44.3876 367.711 L 46.6938 367.711 \" fill=\"#0000FF\"/>\n",
       "<path class=\"atom-11\" d=\"M 56.6679 370.339 L 59.2363 370.339 L 59.2363 367.634 L 60.3779 367.634 L 60.3779 370.339 L 63.0143 370.339 L 63.0143 371.317 L 60.3779 371.317 L 60.3779 374.035 L 59.2363 374.035 L 59.2363 371.317 L 56.6679 371.317 L 56.6679 370.339 \" fill=\"#0000FF\"/>\n",
       "<path class=\"atom-12\" d=\"M 23.8004 412.482 Q 23.8004 408.981, 25.53 407.025 Q 27.2596 405.069, 30.4923 405.069 Q 33.7251 405.069, 35.4547 407.025 Q 37.1843 408.981, 37.1843 412.482 Q 37.1843 416.023, 35.4341 418.041 Q 33.6839 420.039, 30.4923 420.039 Q 27.2802 420.039, 25.53 418.041 Q 23.8004 416.044, 23.8004 412.482 M 30.4923 418.391 Q 32.7161 418.391, 33.9104 416.909 Q 35.1252 415.406, 35.1252 412.482 Q 35.1252 409.62, 33.9104 408.178 Q 32.7161 406.716, 30.4923 406.716 Q 28.2686 406.716, 27.0537 408.158 Q 25.8595 409.599, 25.8595 412.482 Q 25.8595 415.426, 27.0537 416.909 Q 28.2686 418.391, 30.4923 418.391 \" fill=\"#FF0000\"/>\n",
       "<path class=\"atom-12\" d=\"M 37.8638 407.449 L 42.8513 407.449 L 42.8513 408.536 L 37.8638 408.536 L 37.8638 407.449 \" fill=\"#FF0000\"/>\n",
       "<path class=\"atom-13\" d=\"M 23.8004 337.601 Q 23.8004 334.1, 25.53 332.144 Q 27.2596 330.188, 30.4923 330.188 Q 33.7251 330.188, 35.4547 332.144 Q 37.1843 334.1, 37.1843 337.601 Q 37.1843 341.142, 35.4341 343.16 Q 33.6839 345.157, 30.4923 345.157 Q 27.2802 345.157, 25.53 343.16 Q 23.8004 341.163, 23.8004 337.601 M 30.4923 343.51 Q 32.7161 343.51, 33.9104 342.028 Q 35.1252 340.524, 35.1252 337.601 Q 35.1252 334.738, 33.9104 333.297 Q 32.7161 331.835, 30.4923 331.835 Q 28.2686 331.835, 27.0537 333.276 Q 25.8595 334.718, 25.8595 337.601 Q 25.8595 340.545, 27.0537 342.028 Q 28.2686 343.51, 30.4923 343.51 \" fill=\"#FF0000\"/>\n",
       "<path class=\"bond-0 atom-0 atom-1\" d=\"M 445.664,375 L 421.641,333.441\" style=\"fill:none;fill-rule:evenodd;stroke:#000000;stroke-width:2.0px;stroke-linecap:butt;stroke-linejoin:miter;stroke-opacity:1\"/>\n",
       "<path class=\"bond-0 atom-0 atom-1\" d=\"M 433.147,373.918 L 416.331,344.827\" style=\"fill:none;fill-rule:evenodd;stroke:#000000;stroke-width:2.0px;stroke-linecap:butt;stroke-linejoin:miter;stroke-opacity:1\"/>\n",
       "<path class=\"bond-1 atom-0 atom-5\" d=\"M 445.664,375 L 421.641,416.559\" style=\"fill:none;fill-rule:evenodd;stroke:#000000;stroke-width:2.0px;stroke-linecap:butt;stroke-linejoin:miter;stroke-opacity:1\"/>\n",
       "<path class=\"bond-2 atom-0 atom-6\" d=\"M 445.664,375 L 476.297,375\" style=\"fill:none;fill-rule:evenodd;stroke:#000000;stroke-width:2.0px;stroke-linecap:butt;stroke-linejoin:miter;stroke-opacity:1\"/>\n",
       "<path class=\"bond-3 atom-1 atom-2\" d=\"M 421.641,333.441 L 373.665,333.029\" style=\"fill:none;fill-rule:evenodd;stroke:#000000;stroke-width:2.0px;stroke-linecap:butt;stroke-linejoin:miter;stroke-opacity:1\"/>\n",
       "<path class=\"bond-4 atom-1 atom-7\" d=\"M 421.641,333.441 L 435.486,309.335\" style=\"fill:none;fill-rule:evenodd;stroke:#000000;stroke-width:2.0px;stroke-linecap:butt;stroke-linejoin:miter;stroke-opacity:1\"/>\n",
       "<path class=\"bond-5 atom-2 atom-3\" d=\"M 373.665,333.029 L 350.706,375\" style=\"fill:none;fill-rule:evenodd;stroke:#000000;stroke-width:2.0px;stroke-linecap:butt;stroke-linejoin:miter;stroke-opacity:1\"/>\n",
       "<path class=\"bond-5 atom-2 atom-3\" d=\"M 379.254,344.266 L 363.183,373.645\" style=\"fill:none;fill-rule:evenodd;stroke:#000000;stroke-width:2.0px;stroke-linecap:butt;stroke-linejoin:miter;stroke-opacity:1\"/>\n",
       "<path class=\"bond-6 atom-2 atom-8\" d=\"M 373.665,333.029 L 359.255,309.573\" style=\"fill:none;fill-rule:evenodd;stroke:#000000;stroke-width:2.0px;stroke-linecap:butt;stroke-linejoin:miter;stroke-opacity:1\"/>\n",
       "<path class=\"bond-7 atom-3 atom-4\" d=\"M 350.706,375 L 373.665,416.971\" style=\"fill:none;fill-rule:evenodd;stroke:#000000;stroke-width:2.0px;stroke-linecap:butt;stroke-linejoin:miter;stroke-opacity:1\"/>\n",
       "<path class=\"bond-8 atom-3 atom-11\" d=\"M 350.706,375 L 332.495,375\" style=\"fill:none;fill-rule:evenodd;stroke:#000000;stroke-width:2.0px;stroke-linecap:butt;stroke-linejoin:miter;stroke-opacity:1\"/>\n",
       "<path class=\"bond-8 atom-3 atom-11\" d=\"M 332.495,375 L 314.284,375\" style=\"fill:none;fill-rule:evenodd;stroke:#0000FF;stroke-width:2.0px;stroke-linecap:butt;stroke-linejoin:miter;stroke-opacity:1\"/>\n",
       "<path class=\"bond-9 atom-4 atom-5\" d=\"M 373.665,416.971 L 421.641,416.559\" style=\"fill:none;fill-rule:evenodd;stroke:#000000;stroke-width:2.0px;stroke-linecap:butt;stroke-linejoin:miter;stroke-opacity:1\"/>\n",
       "<path class=\"bond-9 atom-4 atom-5\" d=\"M 380.773,406.614 L 414.356,406.326\" style=\"fill:none;fill-rule:evenodd;stroke:#000000;stroke-width:2.0px;stroke-linecap:butt;stroke-linejoin:miter;stroke-opacity:1\"/>\n",
       "<path class=\"bond-10 atom-4 atom-9\" d=\"M 373.665,416.971 L 359.255,440.427\" style=\"fill:none;fill-rule:evenodd;stroke:#000000;stroke-width:2.0px;stroke-linecap:butt;stroke-linejoin:miter;stroke-opacity:1\"/>\n",
       "<path class=\"bond-11 atom-5 atom-10\" d=\"M 421.641,416.559 L 435.486,440.665\" style=\"fill:none;fill-rule:evenodd;stroke:#000000;stroke-width:2.0px;stroke-linecap:butt;stroke-linejoin:miter;stroke-opacity:1\"/>\n",
       "<path class=\"bond-12 atom-11 atom-12\" d=\"M 295.588,383.344 L 290.165,393.797\" style=\"fill:none;fill-rule:evenodd;stroke:#0000FF;stroke-width:2.0px;stroke-linecap:butt;stroke-linejoin:miter;stroke-opacity:1\"/>\n",
       "<path class=\"bond-12 atom-11 atom-12\" d=\"M 290.165,393.797 L 284.742,404.25\" style=\"fill:none;fill-rule:evenodd;stroke:#FF0000;stroke-width:2.0px;stroke-linecap:butt;stroke-linejoin:miter;stroke-opacity:1\"/>\n",
       "<path class=\"bond-13 atom-11 atom-13\" d=\"M 300.157,364.286 L 294.793,353.946\" style=\"fill:none;fill-rule:evenodd;stroke:#0000FF;stroke-width:2.0px;stroke-linecap:butt;stroke-linejoin:miter;stroke-opacity:1\"/>\n",
       "<path class=\"bond-13 atom-11 atom-13\" d=\"M 294.793,353.946 L 289.429,343.606\" style=\"fill:none;fill-rule:evenodd;stroke:#FF0000;stroke-width:2.0px;stroke-linecap:butt;stroke-linejoin:miter;stroke-opacity:1\"/>\n",
       "<path class=\"bond-13 atom-11 atom-13\" d=\"M 291.018,369.027 L 285.654,358.687\" style=\"fill:none;fill-rule:evenodd;stroke:#0000FF;stroke-width:2.0px;stroke-linecap:butt;stroke-linejoin:miter;stroke-opacity:1\"/>\n",
       "<path class=\"bond-13 atom-11 atom-13\" d=\"M 285.654,358.687 L 280.29,348.347\" style=\"fill:none;fill-rule:evenodd;stroke:#FF0000;stroke-width:2.0px;stroke-linecap:butt;stroke-linejoin:miter;stroke-opacity:1\"/>\n",
       "<path class=\"atom-6\" d=\"M 477.229 367.711 L 479.206 367.711 L 479.206 373.909 L 486.66 373.909 L 486.66 367.711 L 488.636 367.711 L 488.636 382.289 L 486.66 382.289 L 486.66 375.556 L 479.206 375.556 L 479.206 382.289 L 477.229 382.289 L 477.229 367.711 \" fill=\"#000000\"/>\n",
       "<path class=\"atom-7\" d=\"M 434.504 293.825 L 436.48 293.825 L 436.48 300.023 L 443.934 300.023 L 443.934 293.825 L 445.911 293.825 L 445.911 308.403 L 443.934 308.403 L 443.934 301.67 L 436.48 301.67 L 436.48 308.403 L 434.504 308.403 L 434.504 293.825 \" fill=\"#000000\"/>\n",
       "<path class=\"atom-8\" d=\"M 348.503 294.065 L 350.48 294.065 L 350.48 300.263 L 357.934 300.263 L 357.934 294.065 L 359.91 294.065 L 359.91 308.643 L 357.934 308.643 L 357.934 301.91 L 350.48 301.91 L 350.48 308.643 L 348.503 308.643 L 348.503 294.065 \" fill=\"#000000\"/>\n",
       "<path class=\"atom-9\" d=\"M 348.503 441.357 L 350.48 441.357 L 350.48 447.555 L 357.934 447.555 L 357.934 441.357 L 359.91 441.357 L 359.91 455.935 L 357.934 455.935 L 357.934 449.202 L 350.48 449.202 L 350.48 455.935 L 348.503 455.935 L 348.503 441.357 \" fill=\"#000000\"/>\n",
       "<path class=\"atom-10\" d=\"M 434.504 441.597 L 436.48 441.597 L 436.48 447.795 L 443.934 447.795 L 443.934 441.597 L 445.911 441.597 L 445.911 456.175 L 443.934 456.175 L 443.934 449.442 L 436.48 449.442 L 436.48 456.175 L 434.504 456.175 L 434.504 441.597 \" fill=\"#000000\"/>\n",
       "<path class=\"atom-11\" d=\"M 296.694 367.711 L 301.471 375.432 Q 301.944 376.194, 302.706 377.574 Q 303.468 378.953, 303.509 379.036 L 303.509 367.711 L 305.445 367.711 L 305.445 382.289 L 303.447 382.289 L 298.32 373.847 Q 297.723 372.859, 297.085 371.726 Q 296.467 370.594, 296.282 370.244 L 296.282 382.289 L 294.388 382.289 L 294.388 367.711 L 296.694 367.711 \" fill=\"#0000FF\"/>\n",
       "<path class=\"atom-11\" d=\"M 306.668 370.339 L 309.236 370.339 L 309.236 367.634 L 310.378 367.634 L 310.378 370.339 L 313.014 370.339 L 313.014 371.317 L 310.378 371.317 L 310.378 374.035 L 309.236 374.035 L 309.236 371.317 L 306.668 371.317 L 306.668 370.339 \" fill=\"#0000FF\"/>\n",
       "<path class=\"atom-12\" d=\"M 273.8 412.482 Q 273.8 408.981, 275.53 407.025 Q 277.26 405.069, 280.492 405.069 Q 283.725 405.069, 285.455 407.025 Q 287.184 408.981, 287.184 412.482 Q 287.184 416.023, 285.434 418.041 Q 283.684 420.039, 280.492 420.039 Q 277.28 420.039, 275.53 418.041 Q 273.8 416.044, 273.8 412.482 M 280.492 418.391 Q 282.716 418.391, 283.91 416.909 Q 285.125 415.406, 285.125 412.482 Q 285.125 409.62, 283.91 408.178 Q 282.716 406.716, 280.492 406.716 Q 278.269 406.716, 277.054 408.158 Q 275.859 409.599, 275.859 412.482 Q 275.859 415.426, 277.054 416.909 Q 278.269 418.391, 280.492 418.391 \" fill=\"#FF0000\"/>\n",
       "<path class=\"atom-12\" d=\"M 287.864 407.449 L 292.851 407.449 L 292.851 408.536 L 287.864 408.536 L 287.864 407.449 \" fill=\"#FF0000\"/>\n",
       "<path class=\"atom-13\" d=\"M 273.8 337.601 Q 273.8 334.1, 275.53 332.144 Q 277.26 330.188, 280.492 330.188 Q 283.725 330.188, 285.455 332.144 Q 287.184 334.1, 287.184 337.601 Q 287.184 341.142, 285.434 343.16 Q 283.684 345.157, 280.492 345.157 Q 277.28 345.157, 275.53 343.16 Q 273.8 341.163, 273.8 337.601 M 280.492 343.51 Q 282.716 343.51, 283.91 342.028 Q 285.125 340.524, 285.125 337.601 Q 285.125 334.738, 283.91 333.297 Q 282.716 331.835, 280.492 331.835 Q 278.269 331.835, 277.054 333.276 Q 275.859 334.718, 275.859 337.601 Q 275.859 340.545, 277.054 342.028 Q 278.269 343.51, 280.492 343.51 \" fill=\"#FF0000\"/>\n",
       "</svg>"
      ],
      "text/plain": [
       "<IPython.core.display.SVG object>"
      ]
     },
     "execution_count": 7,
     "metadata": {},
     "output_type": "execute_result"
    }
   ],
   "source": [
    "from rdkit.Chem.Draw import IPythonConsole\n",
    "from rdkit.Chem import Draw\n",
    "IPythonConsole.ipython_useSVG=True\n",
    "m1 = g1_pdb_ms.mol_rdkit\n",
    "m2 = g1_pdb_ms_nobp.mol_rdkit\n",
    "m3 = g1_mol2_ms_nobp.mol_rdkit\n",
    "m4 = g1_sdf_ms.mol_rdkit\n",
    "Draw.MolsToGridImage((m1, m2, m3, m4), subImgSize=(250,250), molsPerRow=2)"
   ]
  },
  {
   "cell_type": "markdown",
   "metadata": {},
   "source": [
    "The PDB structure without ``bond_perception`` is not correct."
   ]
  }
 ],
 "metadata": {
  "kernelspec": {
   "display_name": "Python 3 (ipykernel)",
   "language": "python",
   "name": "python3"
  },
  "language_info": {
   "codemirror_mode": {
    "name": "ipython",
    "version": 3
   },
   "file_extension": ".py",
   "mimetype": "text/x-python",
   "name": "python",
   "nbconvert_exporter": "python",
   "pygments_lexer": "ipython3",
   "version": "3.8.10"
  }
 },
 "nbformat": 4,
 "nbformat_minor": 1
}
