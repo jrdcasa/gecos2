{
 "cells": [
  {
   "cell_type": "markdown",
   "metadata": {
    "pycharm": {
     "name": "#%% md\n"
    }
   },
   "source": [
    "## Tutorial: Conformers with rdkit\n",
    "\n",
    "### Isoprene dimer\n",
    "\n",
    "Import `gecos` library and create a variable for the molecule file path"
   ]
  },
  {
   "cell_type": "code",
   "execution_count": 1,
   "metadata": {},
   "outputs": [],
   "source": [
    "import gecos\n",
    "pdbfile=\"/home/jramos/PycharmProjects/GeCos/data/IsoP.pdb\""
   ]
  },
  {
   "cell_type": "markdown",
   "metadata": {
    "pycharm": {
     "name": "#%% md\n"
    }
   },
   "source": [
    "In the first example a pdb file for a dimer of polyisoprene molecule will be used:"
   ]
  },
  {
   "cell_type": "code",
   "execution_count": 2,
   "metadata": {
    "pycharm": {
     "name": "#%%\n"
    }
   },
   "outputs": [
    {
     "data": {
      "application/vnd.jupyter.widget-view+json": {
       "model_id": "7ecb2fda1033447881e9b2076960335d",
       "version_major": 2,
       "version_minor": 0
      },
      "text/plain": []
     },
     "metadata": {},
     "output_type": "display_data"
    },
    {
     "data": {
      "application/vnd.jupyter.widget-view+json": {
       "model_id": "3b5e8ced01d544d68148a9a4db98db8b",
       "version_major": 2,
       "version_minor": 0
      },
      "text/plain": [
       "NGLWidget()"
      ]
     },
     "metadata": {},
     "output_type": "display_data"
    }
   ],
   "source": [
    "import nglview\n",
    "view = nglview.show_structure_file(pdbfile)\n",
    "view.clear_representations()\n",
    "view.add_representation(repr_type='licorice', selection='all')\n",
    "view._remote_call('setSize', target='Widget', args=['','500px'])\n",
    "view"
   ]
  },
  {
   "cell_type": "markdown",
   "metadata": {
    "pycharm": {
     "name": "#%% md\n"
    }
   },
   "source": [
    "Setup molecule to generate the conformers. As the pdb file does not contain information about the bond orders,\n",
    "the bond order flag should be ``True`` for a correct assignation of bonds (see picture below)."
   ]
  },
  {
   "cell_type": "code",
   "execution_count": 3,
   "metadata": {},
   "outputs": [
    {
     "name": "stdout",
     "output_type": "stream",
     "text": [
      "\n",
      "        ***********************************************************************\n",
      "                           Generation of Conformers (GeCoS)\n",
      "                         -----------------------------------\n",
      "                         \n",
      "                                    Version 0.1\n",
      "                         \n",
      "                                  Dr. Javier Ramos\n",
      "                          Macromolecular Physics Department\n",
      "                    Instituto de Estructura de la Materia (IEM-CSIC)\n",
      "                                   Madrid (Spain)\n",
      "                                   \n",
      "                GeCoS is an open-source python library to quickly generate\n",
      "                conformers of small molecules or polymer segments \n",
      "                using RdKit and OpenBabel libraries. Once, the\n",
      "                conformers are generated, QM optimizations and subsequent \n",
      "                clustering can be done.\n",
      "                \n",
      "                This software is distributed under the terms of the\n",
      "                GNU General Public License v3.0 (GNU GPLv3). A copy of \n",
      "                the license (LICENSE.txt) is included with this distribution. \n",
      "                \n",
      "        ***********************************************************************\n",
      "                     \n",
      "        \n",
      "\t\t******** CREATION OF THE GECOS RDKIT OBJECT ********\n",
      "\n",
      "\t\tConformers will be generated with RdKit library (https://www.rdkit.org/docs/GettingStartedInPython.html)\n",
      "\n",
      "\t\tPDB file seed  : /home/jramos/PycharmProjects/GeCos/data/IsoP.pdb\n",
      "\t\tBond Perception: True\n",
      "\n",
      "\n",
      "\tBond_perception is FALSE for PDB file\n",
      "\t\tPDB file does not contain info for bond orders.\n",
      "\n",
      "\n",
      "        ***********************************************************************\n",
      "                           Generation of Conformers (GeCoS)\n",
      "                         -----------------------------------\n",
      "                         \n",
      "                                    Version 0.1\n",
      "                         \n",
      "                                  Dr. Javier Ramos\n",
      "                          Macromolecular Physics Department\n",
      "                    Instituto de Estructura de la Materia (IEM-CSIC)\n",
      "                                   Madrid (Spain)\n",
      "                                   \n",
      "                GeCoS is an open-source python library to quickly generate\n",
      "                conformers of small molecules or polymer segments \n",
      "                using RdKit and OpenBabel libraries. Once, the\n",
      "                conformers are generated, QM optimizations and subsequent \n",
      "                clustering can be done.\n",
      "                \n",
      "                This software is distributed under the terms of the\n",
      "                GNU General Public License v3.0 (GNU GPLv3). A copy of \n",
      "                the license (LICENSE.txt) is included with this distribution. \n",
      "                \n",
      "        ***********************************************************************\n",
      "                     \n",
      "        \n",
      "\t\t******** CREATION OF THE GECOS RDKIT OBJECT ********\n",
      "\n",
      "\t\tConformers will be generated with RdKit library (https://www.rdkit.org/docs/GettingStartedInPython.html)\n",
      "\n",
      "\t\tPDB file seed  : /home/jramos/PycharmProjects/GeCos/data/IsoP.pdb\n",
      "\t\tBond Perception: False\n",
      "\t\t\t WARNING!!!! Bond perception should be TRUE in PDB files\t\t\t WARNING!!!! otherwise conformers can be incorrect.\n",
      "\n"
     ]
    }
   ],
   "source": [
    "g1_pdb_ms = gecos.GecosRdkit(filename=pdbfile, bond_perception=True, logger=None)\n",
    "g1_pdb_ms_nobo = gecos.GecosRdkit(filename=pdbfile, bond_perception=False, logger=None)\n"
   ]
  },
  {
   "cell_type": "code",
   "execution_count": 4,
   "metadata": {},
   "outputs": [
    {
     "data": {
      "image/svg+xml": [
       "<svg xmlns=\"http://www.w3.org/2000/svg\" xmlns:rdkit=\"http://www.rdkit.org/xml\" xmlns:xlink=\"http://www.w3.org/1999/xlink\" version=\"1.1\" baseProfile=\"full\" xml:space=\"preserve\" width=\"750px\" height=\"250px\" viewBox=\"0 0 750 250\">\n",
       "<!-- END OF HEADER -->\n",
       "<rect style=\"opacity:1.0;fill:#FFFFFF;stroke:none\" width=\"750\" height=\"250\" x=\"0\" y=\"0\"> </rect>\n",
       "<rect style=\"opacity:1.0;fill:#FFFFFF;stroke:none\" width=\"750\" height=\"250\" x=\"0\" y=\"0\"> </rect>\n",
       "<rect style=\"opacity:1.0;fill:#FFFFFF;stroke:none\" width=\"750\" height=\"250\" x=\"0\" y=\"0\"> </rect>\n",
       "<path class=\"bond-0 atom-0 atom-3\" d=\"M 134.964,145.537 L 169.637,145.044\" style=\"fill:none;fill-rule:evenodd;stroke:#000000;stroke-width:2.0px;stroke-linecap:butt;stroke-linejoin:miter;stroke-opacity:1\"/>\n",
       "<path class=\"bond-1 atom-0 atom-1\" d=\"M 134.964,145.537 L 129.73,163.436\" style=\"fill:none;fill-rule:evenodd;stroke:#000000;stroke-width:2.0px;stroke-linecap:butt;stroke-linejoin:miter;stroke-opacity:1\"/>\n",
       "<path class=\"bond-2 atom-0 atom-2\" d=\"M 134.964,145.537 L 132.703,136.241\" style=\"fill:none;fill-rule:evenodd;stroke:#000000;stroke-width:2.0px;stroke-linecap:butt;stroke-linejoin:miter;stroke-opacity:1\"/>\n",
       "<path class=\"bond-3 atom-0 atom-25\" d=\"M 134.964,145.537 L 115.036,133.323\" style=\"fill:none;fill-rule:evenodd;stroke:#000000;stroke-width:2.0px;stroke-linecap:butt;stroke-linejoin:miter;stroke-opacity:1\"/>\n",
       "<path class=\"bond-4 atom-3 atom-8\" d=\"M 169.637,145.044 L 186.235,171.723\" style=\"fill:none;fill-rule:evenodd;stroke:#000000;stroke-width:2.0px;stroke-linecap:butt;stroke-linejoin:miter;stroke-opacity:1\"/>\n",
       "<path class=\"bond-4 atom-3 atom-8\" d=\"M 166.155,152.761 L 177.774,171.437\" style=\"fill:none;fill-rule:evenodd;stroke:#000000;stroke-width:2.0px;stroke-linecap:butt;stroke-linejoin:miter;stroke-opacity:1\"/>\n",
       "<path class=\"bond-5 atom-3 atom-4\" d=\"M 169.637,145.044 L 185.485,113.888\" style=\"fill:none;fill-rule:evenodd;stroke:#000000;stroke-width:2.0px;stroke-linecap:butt;stroke-linejoin:miter;stroke-opacity:1\"/>\n",
       "<path class=\"bond-6 atom-4 atom-5\" d=\"M 185.485,113.888 L 205.497,114.309\" style=\"fill:none;fill-rule:evenodd;stroke:#000000;stroke-width:2.0px;stroke-linecap:butt;stroke-linejoin:miter;stroke-opacity:1\"/>\n",
       "<path class=\"bond-7 atom-4 atom-6\" d=\"M 185.485,113.888 L 176.991,100.094\" style=\"fill:none;fill-rule:evenodd;stroke:#000000;stroke-width:2.0px;stroke-linecap:butt;stroke-linejoin:miter;stroke-opacity:1\"/>\n",
       "<path class=\"bond-8 atom-4 atom-7\" d=\"M 185.485,113.888 L 184.055,110.652\" style=\"fill:none;fill-rule:evenodd;stroke:#000000;stroke-width:2.0px;stroke-linecap:butt;stroke-linejoin:miter;stroke-opacity:1\"/>\n",
       "<path class=\"bond-9 atom-8 atom-10\" d=\"M 186.235,171.723 L 220.885,171.231\" style=\"fill:none;fill-rule:evenodd;stroke:#000000;stroke-width:2.0px;stroke-linecap:butt;stroke-linejoin:miter;stroke-opacity:1\"/>\n",
       "<path class=\"bond-10 atom-8 atom-9\" d=\"M 186.235,171.723 L 178.061,187.775\" style=\"fill:none;fill-rule:evenodd;stroke:#000000;stroke-width:2.0px;stroke-linecap:butt;stroke-linejoin:miter;stroke-opacity:1\"/>\n",
       "<path class=\"bond-11 atom-10 atom-11\" d=\"M 220.885,171.231 L 226.137,153.332\" style=\"fill:none;fill-rule:evenodd;stroke:#000000;stroke-width:2.0px;stroke-linecap:butt;stroke-linejoin:miter;stroke-opacity:1\"/>\n",
       "<path class=\"bond-12 atom-10 atom-12\" d=\"M 220.885,171.231 L 223.146,180.527\" style=\"fill:none;fill-rule:evenodd;stroke:#000000;stroke-width:2.0px;stroke-linecap:butt;stroke-linejoin:miter;stroke-opacity:1\"/>\n",
       "<path class=\"bond-13 atom-10 atom-13\" d=\"M 220.885,171.231 L 230.437,177.082\" style=\"fill:none;fill-rule:evenodd;stroke:#000000;stroke-width:2.0px;stroke-linecap:butt;stroke-linejoin:miter;stroke-opacity:1\"/>\n",
       "<path class=\"bond-14 atom-14 atom-18\" d=\"M 29.1152,107.628 L 63.7885,107.136\" style=\"fill:none;fill-rule:evenodd;stroke:#000000;stroke-width:2.0px;stroke-linecap:butt;stroke-linejoin:miter;stroke-opacity:1\"/>\n",
       "<path class=\"bond-15 atom-14 atom-15\" d=\"M 29.1152,107.628 L 23.8812,125.528\" style=\"fill:none;fill-rule:evenodd;stroke:#000000;stroke-width:2.0px;stroke-linecap:butt;stroke-linejoin:miter;stroke-opacity:1\"/>\n",
       "<path class=\"bond-16 atom-14 atom-16\" d=\"M 29.1152,107.628 L 19.5628,101.761\" style=\"fill:none;fill-rule:evenodd;stroke:#000000;stroke-width:2.0px;stroke-linecap:butt;stroke-linejoin:miter;stroke-opacity:1\"/>\n",
       "<path class=\"bond-17 atom-14 atom-17\" d=\"M 29.1152,107.628 L 26.8525,98.3094\" style=\"fill:none;fill-rule:evenodd;stroke:#000000;stroke-width:2.0px;stroke-linecap:butt;stroke-linejoin:miter;stroke-opacity:1\"/>\n",
       "<path class=\"bond-18 atom-18 atom-23\" d=\"M 63.7885,107.136 L 80.3632,133.815\" style=\"fill:none;fill-rule:evenodd;stroke:#000000;stroke-width:2.0px;stroke-linecap:butt;stroke-linejoin:miter;stroke-opacity:1\"/>\n",
       "<path class=\"bond-18 atom-18 atom-23\" d=\"M 60.3006,114.849 L 71.9029,133.524\" style=\"fill:none;fill-rule:evenodd;stroke:#000000;stroke-width:2.0px;stroke-linecap:butt;stroke-linejoin:miter;stroke-opacity:1\"/>\n",
       "<path class=\"bond-19 atom-18 atom-19\" d=\"M 63.7885,107.136 L 79.613,75.9792\" style=\"fill:none;fill-rule:evenodd;stroke:#000000;stroke-width:2.0px;stroke-linecap:butt;stroke-linejoin:miter;stroke-opacity:1\"/>\n",
       "<path class=\"bond-20 atom-19 atom-20\" d=\"M 79.613,75.9792 L 99.6484,76.3811\" style=\"fill:none;fill-rule:evenodd;stroke:#000000;stroke-width:2.0px;stroke-linecap:butt;stroke-linejoin:miter;stroke-opacity:1\"/>\n",
       "<path class=\"bond-21 atom-19 atom-21\" d=\"M 79.613,75.9792 L 71.1359,62.1851\" style=\"fill:none;fill-rule:evenodd;stroke:#000000;stroke-width:2.0px;stroke-linecap:butt;stroke-linejoin:miter;stroke-opacity:1\"/>\n",
       "<path class=\"bond-22 atom-19 atom-22\" d=\"M 79.613,75.9792 L 78.2063,72.744\" style=\"fill:none;fill-rule:evenodd;stroke:#000000;stroke-width:2.0px;stroke-linecap:butt;stroke-linejoin:miter;stroke-opacity:1\"/>\n",
       "<path class=\"bond-23 atom-23 atom-25\" d=\"M 80.3632,133.815 L 115.036,133.323\" style=\"fill:none;fill-rule:evenodd;stroke:#000000;stroke-width:2.0px;stroke-linecap:butt;stroke-linejoin:miter;stroke-opacity:1\"/>\n",
       "<path class=\"bond-24 atom-23 atom-24\" d=\"M 80.3632,133.815 L 72.2066,149.867\" style=\"fill:none;fill-rule:evenodd;stroke:#000000;stroke-width:2.0px;stroke-linecap:butt;stroke-linejoin:miter;stroke-opacity:1\"/>\n",
       "<path class=\"bond-25 atom-25 atom-26\" d=\"M 115.036,133.323 L 120.27,115.423\" style=\"fill:none;fill-rule:evenodd;stroke:#000000;stroke-width:2.0px;stroke-linecap:butt;stroke-linejoin:miter;stroke-opacity:1\"/>\n",
       "<path class=\"bond-26 atom-25 atom-27\" d=\"M 115.036,133.323 L 117.297,142.618\" style=\"fill:none;fill-rule:evenodd;stroke:#000000;stroke-width:2.0px;stroke-linecap:butt;stroke-linejoin:miter;stroke-opacity:1\"/>\n",
       "<path class=\"atom-1\" d=\"M 124.198 164.048 L 125.549 164.048 L 125.549 168.282 L 130.641 168.282 L 130.641 164.048 L 131.991 164.048 L 131.991 174.007 L 130.641 174.007 L 130.641 169.407 L 125.549 169.407 L 125.549 174.007 L 124.198 174.007 L 124.198 164.048 \" fill=\"#000000\"/>\n",
       "<path class=\"atom-2\" d=\"M 127.504 125.905 L 128.854 125.905 L 128.854 130.139 L 133.946 130.139 L 133.946 125.905 L 135.296 125.905 L 135.296 135.864 L 133.946 135.864 L 133.946 131.264 L 128.854 131.264 L 128.854 135.864 L 127.504 135.864 L 127.504 125.905 \" fill=\"#000000\"/>\n",
       "<path class=\"atom-5\" d=\"M 206.111 109.424 L 207.461 109.424 L 207.461 113.658 L 212.553 113.658 L 212.553 109.424 L 213.903 109.424 L 213.903 119.383 L 212.553 119.383 L 212.553 114.783 L 207.461 114.783 L 207.461 119.383 L 206.111 119.383 L 206.111 109.424 \" fill=\"#000000\"/>\n",
       "<path class=\"atom-6\" d=\"M 169.679 89.5672 L 171.029 89.5672 L 171.029 93.8011 L 176.121 93.8011 L 176.121 89.5672 L 177.472 89.5672 L 177.472 99.5261 L 176.121 99.5261 L 176.121 94.9264 L 171.029 94.9264 L 171.029 99.5261 L 169.679 99.5261 L 169.679 89.5672 \" fill=\"#000000\"/>\n",
       "<path class=\"atom-7\" d=\"M 180.158 105.673 L 181.509 105.673 L 181.509 109.907 L 186.601 109.907 L 186.601 105.673 L 187.951 105.673 L 187.951 115.632 L 186.601 115.632 L 186.601 111.032 L 181.509 111.032 L 181.509 115.632 L 180.158 115.632 L 180.158 105.673 \" fill=\"#000000\"/>\n",
       "<path class=\"atom-9\" d=\"M 171.32 188.382 L 172.67 188.382 L 172.67 192.616 L 177.762 192.616 L 177.762 188.382 L 179.113 188.382 L 179.113 198.341 L 177.762 198.341 L 177.762 193.742 L 172.67 193.742 L 172.67 198.341 L 171.32 198.341 L 171.32 188.382 \" fill=\"#000000\"/>\n",
       "<path class=\"atom-11\" d=\"M 223.881 142.761 L 225.231 142.761 L 225.231 146.995 L 230.323 146.995 L 230.323 142.761 L 231.674 142.761 L 231.674 152.72 L 230.323 152.72 L 230.323 148.12 L 225.231 148.12 L 225.231 152.72 L 223.881 152.72 L 223.881 142.761 \" fill=\"#000000\"/>\n",
       "<path class=\"atom-12\" d=\"M 220.552 180.904 L 221.902 180.904 L 221.902 185.138 L 226.994 185.138 L 226.994 180.904 L 228.345 180.904 L 228.345 190.863 L 226.994 190.863 L 226.994 186.263 L 221.902 186.263 L 221.902 190.863 L 220.552 190.863 L 220.552 180.904 \" fill=\"#000000\"/>\n",
       "<path class=\"atom-13\" d=\"M 230.844 174.738 L 232.194 174.738 L 232.194 178.972 L 237.286 178.972 L 237.286 174.738 L 238.636 174.738 L 238.636 184.697 L 237.286 184.697 L 237.286 180.097 L 232.194 180.097 L 232.194 184.697 L 230.844 184.697 L 230.844 174.738 \" fill=\"#000000\"/>\n",
       "<path class=\"atom-15\" d=\"M 18.3499 126.139 L 19.7002 126.139 L 19.7002 130.373 L 24.7922 130.373 L 24.7922 126.139 L 26.1426 126.139 L 26.1426 136.098 L 24.7922 136.098 L 24.7922 131.499 L 19.7002 131.499 L 19.7002 136.098 L 18.3499 136.098 L 18.3499 126.139 \" fill=\"#000000\"/>\n",
       "<path class=\"atom-16\" d=\"M 11.3636 94.1387 L 12.714 94.1387 L 12.714 98.3726 L 17.806 98.3726 L 17.806 94.1387 L 19.1563 94.1387 L 19.1563 104.098 L 17.806 104.098 L 17.806 99.4979 L 12.714 99.4979 L 12.714 104.098 L 11.3636 104.098 L 11.3636 94.1387 \" fill=\"#000000\"/>\n",
       "<path class=\"atom-17\" d=\"M 21.6554 87.973 L 23.0058 87.973 L 23.0058 92.2069 L 28.0978 92.2069 L 28.0978 87.973 L 29.4481 87.973 L 29.4481 97.9319 L 28.0978 97.9319 L 28.0978 93.3322 L 23.0058 93.3322 L 23.0058 97.9319 L 21.6554 97.9319 L 21.6554 87.973 \" fill=\"#000000\"/>\n",
       "<path class=\"atom-20\" d=\"M 100.262 71.4921 L 101.613 71.4921 L 101.613 75.726 L 106.705 75.726 L 106.705 71.4921 L 108.055 71.4921 L 108.055 81.451 L 106.705 81.451 L 106.705 76.8513 L 101.613 76.8513 L 101.613 81.451 L 100.262 81.451 L 100.262 71.4921 \" fill=\"#000000\"/>\n",
       "<path class=\"atom-21\" d=\"M 63.8307 51.6587 L 65.181 51.6587 L 65.181 55.8926 L 70.273 55.8926 L 70.273 51.6587 L 71.6234 51.6587 L 71.6234 61.6176 L 70.273 61.6176 L 70.273 57.0179 L 65.181 57.0179 L 65.181 61.6176 L 63.8307 61.6176 L 63.8307 51.6587 \" fill=\"#000000\"/>\n",
       "<path class=\"atom-22\" d=\"M 74.31 67.7645 L 75.6604 67.7645 L 75.6604 71.9985 L 80.7523 71.9985 L 80.7523 67.7645 L 82.1027 67.7645 L 82.1027 77.7234 L 80.7523 77.7234 L 80.7523 73.1238 L 75.6604 73.1238 L 75.6604 77.7234 L 74.31 77.7234 L 74.31 67.7645 \" fill=\"#000000\"/>\n",
       "<path class=\"atom-24\" d=\"M 65.4717 150.474 L 66.8221 150.474 L 66.8221 154.708 L 71.9141 154.708 L 71.9141 150.474 L 73.2644 150.474 L 73.2644 160.433 L 71.9141 160.433 L 71.9141 155.833 L 66.8221 155.833 L 66.8221 160.433 L 65.4717 160.433 L 65.4717 150.474 \" fill=\"#000000\"/>\n",
       "<path class=\"atom-26\" d=\"M 118.009 104.852 L 119.359 104.852 L 119.359 109.086 L 124.451 109.086 L 124.451 104.852 L 125.802 104.852 L 125.802 114.811 L 124.451 114.811 L 124.451 110.212 L 119.359 110.212 L 119.359 114.811 L 118.009 114.811 L 118.009 104.852 \" fill=\"#000000\"/>\n",
       "<path class=\"atom-27\" d=\"M 114.704 142.995 L 116.054 142.995 L 116.054 147.229 L 121.146 147.229 L 121.146 142.995 L 122.496 142.995 L 122.496 152.954 L 121.146 152.954 L 121.146 148.355 L 116.054 148.355 L 116.054 152.954 L 114.704 152.954 L 114.704 142.995 \" fill=\"#000000\"/>\n",
       "<path class=\"bond-0 atom-0 atom-3\" d=\"M 384.964,145.537 L 419.637,145.044\" style=\"fill:none;fill-rule:evenodd;stroke:#000000;stroke-width:2.0px;stroke-linecap:butt;stroke-linejoin:miter;stroke-opacity:1\"/>\n",
       "<path class=\"bond-1 atom-0 atom-1\" d=\"M 384.964,145.537 L 379.73,163.436\" style=\"fill:none;fill-rule:evenodd;stroke:#000000;stroke-width:2.0px;stroke-linecap:butt;stroke-linejoin:miter;stroke-opacity:1\"/>\n",
       "<path class=\"bond-2 atom-0 atom-2\" d=\"M 384.964,145.537 L 382.703,136.241\" style=\"fill:none;fill-rule:evenodd;stroke:#000000;stroke-width:2.0px;stroke-linecap:butt;stroke-linejoin:miter;stroke-opacity:1\"/>\n",
       "<path class=\"bond-3 atom-0 atom-25\" d=\"M 384.964,145.537 L 365.036,133.323\" style=\"fill:none;fill-rule:evenodd;stroke:#000000;stroke-width:2.0px;stroke-linecap:butt;stroke-linejoin:miter;stroke-opacity:1\"/>\n",
       "<path class=\"bond-4 atom-3 atom-8\" d=\"M 419.637,145.044 L 436.235,171.723\" style=\"fill:none;fill-rule:evenodd;stroke:#000000;stroke-width:2.0px;stroke-linecap:butt;stroke-linejoin:miter;stroke-opacity:1\"/>\n",
       "<path class=\"bond-5 atom-3 atom-4\" d=\"M 419.637,145.044 L 435.485,113.888\" style=\"fill:none;fill-rule:evenodd;stroke:#000000;stroke-width:2.0px;stroke-linecap:butt;stroke-linejoin:miter;stroke-opacity:1\"/>\n",
       "<path class=\"bond-6 atom-4 atom-5\" d=\"M 435.485,113.888 L 455.497,114.309\" style=\"fill:none;fill-rule:evenodd;stroke:#000000;stroke-width:2.0px;stroke-linecap:butt;stroke-linejoin:miter;stroke-opacity:1\"/>\n",
       "<path class=\"bond-7 atom-4 atom-6\" d=\"M 435.485,113.888 L 426.991,100.094\" style=\"fill:none;fill-rule:evenodd;stroke:#000000;stroke-width:2.0px;stroke-linecap:butt;stroke-linejoin:miter;stroke-opacity:1\"/>\n",
       "<path class=\"bond-8 atom-4 atom-7\" d=\"M 435.485,113.888 L 434.055,110.652\" style=\"fill:none;fill-rule:evenodd;stroke:#000000;stroke-width:2.0px;stroke-linecap:butt;stroke-linejoin:miter;stroke-opacity:1\"/>\n",
       "<path class=\"bond-9 atom-8 atom-10\" d=\"M 436.235,171.723 L 470.885,171.231\" style=\"fill:none;fill-rule:evenodd;stroke:#000000;stroke-width:2.0px;stroke-linecap:butt;stroke-linejoin:miter;stroke-opacity:1\"/>\n",
       "<path class=\"bond-10 atom-8 atom-9\" d=\"M 436.235,171.723 L 428.061,187.775\" style=\"fill:none;fill-rule:evenodd;stroke:#000000;stroke-width:2.0px;stroke-linecap:butt;stroke-linejoin:miter;stroke-opacity:1\"/>\n",
       "<path class=\"bond-11 atom-10 atom-11\" d=\"M 470.885,171.231 L 476.137,153.332\" style=\"fill:none;fill-rule:evenodd;stroke:#000000;stroke-width:2.0px;stroke-linecap:butt;stroke-linejoin:miter;stroke-opacity:1\"/>\n",
       "<path class=\"bond-12 atom-10 atom-12\" d=\"M 470.885,171.231 L 473.146,180.527\" style=\"fill:none;fill-rule:evenodd;stroke:#000000;stroke-width:2.0px;stroke-linecap:butt;stroke-linejoin:miter;stroke-opacity:1\"/>\n",
       "<path class=\"bond-13 atom-10 atom-13\" d=\"M 470.885,171.231 L 480.437,177.082\" style=\"fill:none;fill-rule:evenodd;stroke:#000000;stroke-width:2.0px;stroke-linecap:butt;stroke-linejoin:miter;stroke-opacity:1\"/>\n",
       "<path class=\"bond-14 atom-14 atom-18\" d=\"M 279.115,107.628 L 313.788,107.136\" style=\"fill:none;fill-rule:evenodd;stroke:#000000;stroke-width:2.0px;stroke-linecap:butt;stroke-linejoin:miter;stroke-opacity:1\"/>\n",
       "<path class=\"bond-15 atom-14 atom-15\" d=\"M 279.115,107.628 L 273.881,125.528\" style=\"fill:none;fill-rule:evenodd;stroke:#000000;stroke-width:2.0px;stroke-linecap:butt;stroke-linejoin:miter;stroke-opacity:1\"/>\n",
       "<path class=\"bond-16 atom-14 atom-16\" d=\"M 279.115,107.628 L 269.563,101.761\" style=\"fill:none;fill-rule:evenodd;stroke:#000000;stroke-width:2.0px;stroke-linecap:butt;stroke-linejoin:miter;stroke-opacity:1\"/>\n",
       "<path class=\"bond-17 atom-14 atom-17\" d=\"M 279.115,107.628 L 276.853,98.3094\" style=\"fill:none;fill-rule:evenodd;stroke:#000000;stroke-width:2.0px;stroke-linecap:butt;stroke-linejoin:miter;stroke-opacity:1\"/>\n",
       "<path class=\"bond-18 atom-18 atom-23\" d=\"M 313.788,107.136 L 330.363,133.815\" style=\"fill:none;fill-rule:evenodd;stroke:#000000;stroke-width:2.0px;stroke-linecap:butt;stroke-linejoin:miter;stroke-opacity:1\"/>\n",
       "<path class=\"bond-19 atom-18 atom-19\" d=\"M 313.788,107.136 L 329.613,75.9792\" style=\"fill:none;fill-rule:evenodd;stroke:#000000;stroke-width:2.0px;stroke-linecap:butt;stroke-linejoin:miter;stroke-opacity:1\"/>\n",
       "<path class=\"bond-20 atom-19 atom-20\" d=\"M 329.613,75.9792 L 349.648,76.3811\" style=\"fill:none;fill-rule:evenodd;stroke:#000000;stroke-width:2.0px;stroke-linecap:butt;stroke-linejoin:miter;stroke-opacity:1\"/>\n",
       "<path class=\"bond-21 atom-19 atom-21\" d=\"M 329.613,75.9792 L 321.136,62.1851\" style=\"fill:none;fill-rule:evenodd;stroke:#000000;stroke-width:2.0px;stroke-linecap:butt;stroke-linejoin:miter;stroke-opacity:1\"/>\n",
       "<path class=\"bond-22 atom-19 atom-22\" d=\"M 329.613,75.9792 L 328.206,72.744\" style=\"fill:none;fill-rule:evenodd;stroke:#000000;stroke-width:2.0px;stroke-linecap:butt;stroke-linejoin:miter;stroke-opacity:1\"/>\n",
       "<path class=\"bond-23 atom-23 atom-25\" d=\"M 330.363,133.815 L 365.036,133.323\" style=\"fill:none;fill-rule:evenodd;stroke:#000000;stroke-width:2.0px;stroke-linecap:butt;stroke-linejoin:miter;stroke-opacity:1\"/>\n",
       "<path class=\"bond-24 atom-23 atom-24\" d=\"M 330.363,133.815 L 322.207,149.867\" style=\"fill:none;fill-rule:evenodd;stroke:#000000;stroke-width:2.0px;stroke-linecap:butt;stroke-linejoin:miter;stroke-opacity:1\"/>\n",
       "<path class=\"bond-25 atom-25 atom-26\" d=\"M 365.036,133.323 L 370.27,115.423\" style=\"fill:none;fill-rule:evenodd;stroke:#000000;stroke-width:2.0px;stroke-linecap:butt;stroke-linejoin:miter;stroke-opacity:1\"/>\n",
       "<path class=\"bond-26 atom-25 atom-27\" d=\"M 365.036,133.323 L 367.297,142.618\" style=\"fill:none;fill-rule:evenodd;stroke:#000000;stroke-width:2.0px;stroke-linecap:butt;stroke-linejoin:miter;stroke-opacity:1\"/>\n",
       "<path class=\"atom-1\" d=\"M 374.198 164.048 L 375.549 164.048 L 375.549 168.282 L 380.641 168.282 L 380.641 164.048 L 381.991 164.048 L 381.991 174.007 L 380.641 174.007 L 380.641 169.407 L 375.549 169.407 L 375.549 174.007 L 374.198 174.007 L 374.198 164.048 \" fill=\"#000000\"/>\n",
       "<path class=\"atom-2\" d=\"M 377.504 125.905 L 378.854 125.905 L 378.854 130.139 L 383.946 130.139 L 383.946 125.905 L 385.296 125.905 L 385.296 135.864 L 383.946 135.864 L 383.946 131.264 L 378.854 131.264 L 378.854 135.864 L 377.504 135.864 L 377.504 125.905 \" fill=\"#000000\"/>\n",
       "<path class=\"atom-5\" d=\"M 456.111 109.424 L 457.461 109.424 L 457.461 113.658 L 462.553 113.658 L 462.553 109.424 L 463.903 109.424 L 463.903 119.383 L 462.553 119.383 L 462.553 114.783 L 457.461 114.783 L 457.461 119.383 L 456.111 119.383 L 456.111 109.424 \" fill=\"#000000\"/>\n",
       "<path class=\"atom-6\" d=\"M 419.679 89.5672 L 421.029 89.5672 L 421.029 93.8011 L 426.121 93.8011 L 426.121 89.5672 L 427.472 89.5672 L 427.472 99.5261 L 426.121 99.5261 L 426.121 94.9264 L 421.029 94.9264 L 421.029 99.5261 L 419.679 99.5261 L 419.679 89.5672 \" fill=\"#000000\"/>\n",
       "<path class=\"atom-7\" d=\"M 430.158 105.673 L 431.509 105.673 L 431.509 109.907 L 436.601 109.907 L 436.601 105.673 L 437.951 105.673 L 437.951 115.632 L 436.601 115.632 L 436.601 111.032 L 431.509 111.032 L 431.509 115.632 L 430.158 115.632 L 430.158 105.673 \" fill=\"#000000\"/>\n",
       "<path class=\"atom-9\" d=\"M 421.32 188.382 L 422.67 188.382 L 422.67 192.616 L 427.762 192.616 L 427.762 188.382 L 429.113 188.382 L 429.113 198.341 L 427.762 198.341 L 427.762 193.742 L 422.67 193.742 L 422.67 198.341 L 421.32 198.341 L 421.32 188.382 \" fill=\"#000000\"/>\n",
       "<path class=\"atom-11\" d=\"M 473.881 142.761 L 475.231 142.761 L 475.231 146.995 L 480.323 146.995 L 480.323 142.761 L 481.674 142.761 L 481.674 152.72 L 480.323 152.72 L 480.323 148.12 L 475.231 148.12 L 475.231 152.72 L 473.881 152.72 L 473.881 142.761 \" fill=\"#000000\"/>\n",
       "<path class=\"atom-12\" d=\"M 470.552 180.904 L 471.902 180.904 L 471.902 185.138 L 476.994 185.138 L 476.994 180.904 L 478.345 180.904 L 478.345 190.863 L 476.994 190.863 L 476.994 186.263 L 471.902 186.263 L 471.902 190.863 L 470.552 190.863 L 470.552 180.904 \" fill=\"#000000\"/>\n",
       "<path class=\"atom-13\" d=\"M 480.844 174.738 L 482.194 174.738 L 482.194 178.972 L 487.286 178.972 L 487.286 174.738 L 488.636 174.738 L 488.636 184.697 L 487.286 184.697 L 487.286 180.097 L 482.194 180.097 L 482.194 184.697 L 480.844 184.697 L 480.844 174.738 \" fill=\"#000000\"/>\n",
       "<path class=\"atom-15\" d=\"M 268.35 126.139 L 269.7 126.139 L 269.7 130.373 L 274.792 130.373 L 274.792 126.139 L 276.143 126.139 L 276.143 136.098 L 274.792 136.098 L 274.792 131.499 L 269.7 131.499 L 269.7 136.098 L 268.35 136.098 L 268.35 126.139 \" fill=\"#000000\"/>\n",
       "<path class=\"atom-16\" d=\"M 261.364 94.1387 L 262.714 94.1387 L 262.714 98.3726 L 267.806 98.3726 L 267.806 94.1387 L 269.156 94.1387 L 269.156 104.098 L 267.806 104.098 L 267.806 99.4979 L 262.714 99.4979 L 262.714 104.098 L 261.364 104.098 L 261.364 94.1387 \" fill=\"#000000\"/>\n",
       "<path class=\"atom-17\" d=\"M 271.655 87.973 L 273.006 87.973 L 273.006 92.2069 L 278.098 92.2069 L 278.098 87.973 L 279.448 87.973 L 279.448 97.9319 L 278.098 97.9319 L 278.098 93.3322 L 273.006 93.3322 L 273.006 97.9319 L 271.655 97.9319 L 271.655 87.973 \" fill=\"#000000\"/>\n",
       "<path class=\"atom-20\" d=\"M 350.262 71.4921 L 351.613 71.4921 L 351.613 75.726 L 356.705 75.726 L 356.705 71.4921 L 358.055 71.4921 L 358.055 81.451 L 356.705 81.451 L 356.705 76.8513 L 351.613 76.8513 L 351.613 81.451 L 350.262 81.451 L 350.262 71.4921 \" fill=\"#000000\"/>\n",
       "<path class=\"atom-21\" d=\"M 313.831 51.6587 L 315.181 51.6587 L 315.181 55.8926 L 320.273 55.8926 L 320.273 51.6587 L 321.623 51.6587 L 321.623 61.6176 L 320.273 61.6176 L 320.273 57.0179 L 315.181 57.0179 L 315.181 61.6176 L 313.831 61.6176 L 313.831 51.6587 \" fill=\"#000000\"/>\n",
       "<path class=\"atom-22\" d=\"M 324.31 67.7645 L 325.66 67.7645 L 325.66 71.9985 L 330.752 71.9985 L 330.752 67.7645 L 332.103 67.7645 L 332.103 77.7234 L 330.752 77.7234 L 330.752 73.1238 L 325.66 73.1238 L 325.66 77.7234 L 324.31 77.7234 L 324.31 67.7645 \" fill=\"#000000\"/>\n",
       "<path class=\"atom-24\" d=\"M 315.472 150.474 L 316.822 150.474 L 316.822 154.708 L 321.914 154.708 L 321.914 150.474 L 323.264 150.474 L 323.264 160.433 L 321.914 160.433 L 321.914 155.833 L 316.822 155.833 L 316.822 160.433 L 315.472 160.433 L 315.472 150.474 \" fill=\"#000000\"/>\n",
       "<path class=\"atom-26\" d=\"M 368.009 104.852 L 369.359 104.852 L 369.359 109.086 L 374.451 109.086 L 374.451 104.852 L 375.802 104.852 L 375.802 114.811 L 374.451 114.811 L 374.451 110.212 L 369.359 110.212 L 369.359 114.811 L 368.009 114.811 L 368.009 104.852 \" fill=\"#000000\"/>\n",
       "<path class=\"atom-27\" d=\"M 364.704 142.995 L 366.054 142.995 L 366.054 147.229 L 371.146 147.229 L 371.146 142.995 L 372.496 142.995 L 372.496 152.954 L 371.146 152.954 L 371.146 148.355 L 366.054 148.355 L 366.054 152.954 L 364.704 152.954 L 364.704 142.995 \" fill=\"#000000\"/>\n",
       "</svg>"
      ],
      "text/plain": [
       "<IPython.core.display.SVG object>"
      ]
     },
     "execution_count": 4,
     "metadata": {},
     "output_type": "execute_result"
    }
   ],
   "source": [
    "from rdkit.Chem.Draw import IPythonConsole\n",
    "from rdkit.Chem import Draw\n",
    "IPythonConsole.ipython_useSVG=True\n",
    "m1 = g1_pdb_ms.mol_rdkit\n",
    "m2 = g1_pdb_ms_nobo.mol_rdkit\n",
    "Draw.MolsToGridImage((m1,m2), subImgSize=(250,250))"
   ]
  },
  {
   "cell_type": "markdown",
   "metadata": {
    "pycharm": {
     "name": "#%% md\n"
    }
   },
   "source": [
    "As you can see, the molecule on the right has not correctly assigned the double bonds.\n",
    "Now, the conformers will be generated:"
   ]
  },
  {
   "cell_type": "code",
   "execution_count": 5,
   "metadata": {
    "pycharm": {
     "name": "#%%\n"
    }
   },
   "outputs": [
    {
     "name": "stdout",
     "output_type": "stream",
     "text": [
      "\n",
      "\t\t ======== GENERATE CONFORMERS ========\n",
      "\t\t 1. Generating 50 conformers (04-07-2021 12:31:30)\n",
      "\t\t 2. Minimizing 50 conformers. Max_iters = 3000, threshold = 2.0 A (04-07-2021 12:31:30)\n",
      "\t\t\t Using MMFF forcefield\n",
      "Minimizing[########################################] 50/50\n",
      "\t\t 3. Cluster Conformers (04-07-2021 12:31:31)\n",
      "\t\t\tGenerated: 50 conformers and 8 clusters\n",
      "\t\t 4. Get structure of minimum energy for each cluster (04-07-2021 12:31:31)\n",
      "\t\t 5. Write Conformers to PDB (04-07-2021 12:31:31)\n",
      "\t\t 6. Write Conformers to Gaussian16 (04-07-2021 12:31:31)\n"
     ]
    }
   ],
   "source": [
    "g1_pdb_ms.generate_conformers(nconfs=50, minimize_iterations=3000, pattern=\"IsoP\")\n",
    "g1_pdb_ms.write_all_conformers_to_pdb(\"IsoP_conf_all_trj.pdb\")"
   ]
  },
  {
   "cell_type": "markdown",
   "metadata": {
    "pycharm": {
     "name": "#%% md\n"
    }
   },
   "source": [
    "Visualize all generated conformers"
   ]
  },
  {
   "cell_type": "code",
   "execution_count": 6,
   "metadata": {
    "pycharm": {
     "name": "#%%\n"
    }
   },
   "outputs": [
    {
     "data": {
      "application/vnd.jupyter.widget-view+json": {
       "model_id": "6cf494a055e24b57b2c2f66599fbbb6b",
       "version_major": 2,
       "version_minor": 0
      },
      "text/plain": [
       "NGLWidget(max_frame=49)"
      ]
     },
     "metadata": {},
     "output_type": "display_data"
    }
   ],
   "source": [
    "import nglview as nv\n",
    "import MDAnalysis as mda\n",
    "u = mda.Universe(\"IsoP_conf_all_trj.pdb\")\n",
    "mol = u.select_atoms('all')\n",
    "t = nv.MDAnalysisTrajectory(mol)\n",
    "w = nv.NGLWidget(t)\n",
    "w"
   ]
  },
  {
   "cell_type": "markdown",
   "metadata": {
    "pycharm": {
     "name": "#%% md\n"
    }
   },
   "source": [
    "Visualize the lowest-energy conformers for each cluster"
   ]
  },
  {
   "cell_type": "code",
   "execution_count": 7,
   "metadata": {
    "pycharm": {
     "name": "#%%\n"
    }
   },
   "outputs": [
    {
     "data": {
      "application/vnd.jupyter.widget-view+json": {
       "model_id": "7c92dec76fa643c0a15247476fecc5cb",
       "version_major": 2,
       "version_minor": 0
      },
      "text/plain": [
       "NGLWidget(max_frame=7)"
      ]
     },
     "metadata": {},
     "output_type": "display_data"
    }
   ],
   "source": [
    "u = mda.Universe(\"IsoP_conf_min_trj.pdb\")\n",
    "mol = u.select_atoms('all')\n",
    "t = nv.MDAnalysisTrajectory(mol)\n",
    "w = nv.NGLWidget(t)\n",
    "w"
   ]
  },
  {
   "cell_type": "markdown",
   "metadata": {
    "pycharm": {
     "name": "#%% md\n"
    }
   },
   "source": [
    "Several input files for Gaussian16 are generated. These conformers corresponds to the lowest-energy\n",
    "conformer in each cluster. Furthermore, two pdb trajectories have been created, containing all conformers and only\n",
    "the lowest-energy ones."
   ]
  },
  {
   "cell_type": "markdown",
   "metadata": {},
   "source": [
    "### PET dimer"
   ]
  },
  {
   "cell_type": "code",
   "execution_count": 8,
   "metadata": {
    "pycharm": {
     "name": "#%%\n"
    }
   },
   "outputs": [
    {
     "data": {
      "application/vnd.jupyter.widget-view+json": {
       "model_id": "8933fa7f441d42bbacf26283d5dced72",
       "version_major": 2,
       "version_minor": 0
      },
      "text/plain": [
       "NGLWidget()"
      ]
     },
     "metadata": {},
     "output_type": "display_data"
    }
   ],
   "source": [
    "mol2file=\"/home/jramos/PycharmProjects/GeCos/data/PET2.mol2\"\n",
    "view = nglview.show_structure_file(mol2file)\n",
    "view.clear_representations()\n",
    "view.add_representation(repr_type='licorice', selection='all')\n",
    "view._remote_call('setSize', target='Widget', args=['','500px'])\n",
    "view"
   ]
  },
  {
   "cell_type": "code",
   "execution_count": 9,
   "metadata": {
    "pycharm": {
     "name": "#%%\n"
    }
   },
   "outputs": [
    {
     "name": "stdout",
     "output_type": "stream",
     "text": [
      "\n",
      "        ***********************************************************************\n",
      "                           Generation of Conformers (GeCoS)\n",
      "                         -----------------------------------\n",
      "                         \n",
      "                                    Version 0.1\n",
      "                         \n",
      "                                  Dr. Javier Ramos\n",
      "                          Macromolecular Physics Department\n",
      "                    Instituto de Estructura de la Materia (IEM-CSIC)\n",
      "                                   Madrid (Spain)\n",
      "                                   \n",
      "                GeCoS is an open-source python library to quickly generate\n",
      "                conformers of small molecules or polymer segments \n",
      "                using RdKit and OpenBabel libraries. Once, the\n",
      "                conformers are generated, QM optimizations and subsequent \n",
      "                clustering can be done.\n",
      "                \n",
      "                This software is distributed under the terms of the\n",
      "                GNU General Public License v3.0 (GNU GPLv3). A copy of \n",
      "                the license (LICENSE.txt) is included with this distribution. \n",
      "                \n",
      "        ***********************************************************************\n",
      "                     \n",
      "        \n",
      "\t\t******** CREATION OF THE GECOS RDKIT OBJECT ********\n",
      "\n",
      "\t\tConformers will be generated with RdKit library (https://www.rdkit.org/docs/GettingStartedInPython.html)\n",
      "\n",
      "\t\tPDB file seed  : /home/jramos/PycharmProjects/GeCos/data/PET2.mol2\n",
      "\t\tBond Perception: False\n",
      "\n"
     ]
    }
   ],
   "source": [
    "g1_mol2_ms = gecos.GecosRdkit(filename=mol2file, bond_perception=False, logger=None)"
   ]
  },
  {
   "cell_type": "code",
   "execution_count": 10,
   "metadata": {
    "pycharm": {
     "name": "#%%\n"
    }
   },
   "outputs": [
    {
     "data": {
      "image/svg+xml": [
       "<svg xmlns=\"http://www.w3.org/2000/svg\" xmlns:rdkit=\"http://www.rdkit.org/xml\" xmlns:xlink=\"http://www.w3.org/1999/xlink\" version=\"1.1\" baseProfile=\"full\" xml:space=\"preserve\" width=\"750px\" height=\"250px\" viewBox=\"0 0 750 250\">\n",
       "<!-- END OF HEADER -->\n",
       "<rect style=\"opacity:1.0;fill:#FFFFFF;stroke:none\" width=\"750\" height=\"250\" x=\"0\" y=\"0\"> </rect>\n",
       "<rect style=\"opacity:1.0;fill:#FFFFFF;stroke:none\" width=\"750\" height=\"250\" x=\"0\" y=\"0\"> </rect>\n",
       "<rect style=\"opacity:1.0;fill:#FFFFFF;stroke:none\" width=\"750\" height=\"250\" x=\"0\" y=\"0\"> </rect>\n",
       "<path class=\"bond-4 atom-0 atom-15\" d=\"M 39.8346,171.061 L 30.3444,178.606\" style=\"fill:none;fill-rule:evenodd;stroke:#000000;stroke-width:2.0px;stroke-linecap:butt;stroke-linejoin:miter;stroke-opacity:1\"/>\n",
       "<path class=\"bond-4 atom-0 atom-15\" d=\"M 30.3444,178.606 L 20.8542,186.151\" style=\"fill:none;fill-rule:evenodd;stroke:#FF0000;stroke-width:2.0px;stroke-linecap:butt;stroke-linejoin:miter;stroke-opacity:1\"/>\n",
       "<path class=\"bond-4 atom-0 atom-15\" d=\"M 44.4543,176.872 L 34.9641,184.417\" style=\"fill:none;fill-rule:evenodd;stroke:#000000;stroke-width:2.0px;stroke-linecap:butt;stroke-linejoin:miter;stroke-opacity:1\"/>\n",
       "<path class=\"bond-4 atom-0 atom-15\" d=\"M 34.9641,184.417 L 25.4739,191.962\" style=\"fill:none;fill-rule:evenodd;stroke:#FF0000;stroke-width:2.0px;stroke-linecap:butt;stroke-linejoin:miter;stroke-opacity:1\"/>\n",
       "<path class=\"bond-5 atom-0 atom-5\" d=\"M 42.1445,173.967 L 59.3641,177.045\" style=\"fill:none;fill-rule:evenodd;stroke:#000000;stroke-width:2.0px;stroke-linecap:butt;stroke-linejoin:miter;stroke-opacity:1\"/>\n",
       "<path class=\"bond-6 atom-0 atom-14\" d=\"M 42.1445,173.967 L 45.3378,165.579\" style=\"fill:none;fill-rule:evenodd;stroke:#000000;stroke-width:2.0px;stroke-linecap:butt;stroke-linejoin:miter;stroke-opacity:1\"/>\n",
       "<path class=\"bond-6 atom-0 atom-14\" d=\"M 45.3378,165.579 L 48.5311,157.191\" style=\"fill:none;fill-rule:evenodd;stroke:#FF0000;stroke-width:2.0px;stroke-linecap:butt;stroke-linejoin:miter;stroke-opacity:1\"/>\n",
       "<path class=\"bond-7 atom-1 atom-10\" d=\"M 104.429,159.162 L 95.1842,182.721\" style=\"fill:none;fill-rule:evenodd;stroke:#000000;stroke-width:2.0px;stroke-linecap:butt;stroke-linejoin:miter;stroke-opacity:1\"/>\n",
       "<path class=\"bond-7 atom-1 atom-10\" d=\"M 98.8958,161.069 L 92.4246,177.561\" style=\"fill:none;fill-rule:evenodd;stroke:#000000;stroke-width:2.0px;stroke-linecap:butt;stroke-linejoin:miter;stroke-opacity:1\"/>\n",
       "<path class=\"bond-8 atom-1 atom-3\" d=\"M 104.429,159.162 L 86.202,155.97\" style=\"fill:none;fill-rule:evenodd;stroke:#000000;stroke-width:2.0px;stroke-linecap:butt;stroke-linejoin:miter;stroke-opacity:1\"/>\n",
       "<path class=\"bond-9 atom-1 atom-2\" d=\"M 104.429,159.162 L 118.035,148.557\" style=\"fill:none;fill-rule:evenodd;stroke:#000000;stroke-width:2.0px;stroke-linecap:butt;stroke-linejoin:miter;stroke-opacity:1\"/>\n",
       "<path class=\"bond-10 atom-3 atom-5\" d=\"M 86.202,155.97 L 59.3641,177.045\" style=\"fill:none;fill-rule:evenodd;stroke:#000000;stroke-width:2.0px;stroke-linecap:butt;stroke-linejoin:miter;stroke-opacity:1\"/>\n",
       "<path class=\"bond-10 atom-3 atom-5\" d=\"M 86.761,164.97 L 67.9745,179.722\" style=\"fill:none;fill-rule:evenodd;stroke:#000000;stroke-width:2.0px;stroke-linecap:butt;stroke-linejoin:miter;stroke-opacity:1\"/>\n",
       "<path class=\"bond-11 atom-3 atom-4\" d=\"M 86.202,155.97 L 90.0032,145.362\" style=\"fill:none;fill-rule:evenodd;stroke:#000000;stroke-width:2.0px;stroke-linecap:butt;stroke-linejoin:miter;stroke-opacity:1\"/>\n",
       "<path class=\"bond-12 atom-5 atom-6\" d=\"M 59.3641,177.045 L 49.9711,200.579\" style=\"fill:none;fill-rule:evenodd;stroke:#000000;stroke-width:2.0px;stroke-linecap:butt;stroke-linejoin:miter;stroke-opacity:1\"/>\n",
       "<path class=\"bond-13 atom-6 atom-8\" d=\"M 49.9711,200.579 L 67.3566,202.794\" style=\"fill:none;fill-rule:evenodd;stroke:#000000;stroke-width:2.0px;stroke-linecap:butt;stroke-linejoin:miter;stroke-opacity:1\"/>\n",
       "<path class=\"bond-13 atom-6 atom-8\" d=\"M 53.1418,196.493 L 65.3116,198.044\" style=\"fill:none;fill-rule:evenodd;stroke:#000000;stroke-width:2.0px;stroke-linecap:butt;stroke-linejoin:miter;stroke-opacity:1\"/>\n",
       "<path class=\"bond-14 atom-6 atom-7\" d=\"M 49.9711,200.579 L 36.3873,211.077\" style=\"fill:none;fill-rule:evenodd;stroke:#000000;stroke-width:2.0px;stroke-linecap:butt;stroke-linejoin:miter;stroke-opacity:1\"/>\n",
       "<path class=\"bond-15 atom-8 atom-10\" d=\"M 67.3566,202.794 L 95.1842,182.721\" style=\"fill:none;fill-rule:evenodd;stroke:#000000;stroke-width:2.0px;stroke-linecap:butt;stroke-linejoin:miter;stroke-opacity:1\"/>\n",
       "<path class=\"bond-16 atom-8 atom-9\" d=\"M 67.3566,202.794 L 62.9187,212.664\" style=\"fill:none;fill-rule:evenodd;stroke:#000000;stroke-width:2.0px;stroke-linecap:butt;stroke-linejoin:miter;stroke-opacity:1\"/>\n",
       "<path class=\"bond-17 atom-10 atom-12\" d=\"M 95.1842,182.721 L 111.81,185.094\" style=\"fill:none;fill-rule:evenodd;stroke:#000000;stroke-width:2.0px;stroke-linecap:butt;stroke-linejoin:miter;stroke-opacity:1\"/>\n",
       "<path class=\"bond-18 atom-11 atom-12\" d=\"M 99.7034,189.611 L 105.96,188.447\" style=\"fill:none;fill-rule:evenodd;stroke:#FF0000;stroke-width:2.0px;stroke-linecap:butt;stroke-linejoin:miter;stroke-opacity:1\"/>\n",
       "<path class=\"bond-18 atom-11 atom-12\" d=\"M 105.96,188.447 L 112.217,187.284\" style=\"fill:none;fill-rule:evenodd;stroke:#000000;stroke-width:2.0px;stroke-linecap:butt;stroke-linejoin:miter;stroke-opacity:1\"/>\n",
       "<path class=\"bond-18 atom-11 atom-12\" d=\"M 98.8892,185.232 L 105.146,184.068\" style=\"fill:none;fill-rule:evenodd;stroke:#FF0000;stroke-width:2.0px;stroke-linecap:butt;stroke-linejoin:miter;stroke-opacity:1\"/>\n",
       "<path class=\"bond-18 atom-11 atom-12\" d=\"M 105.146,184.068 L 111.403,182.905\" style=\"fill:none;fill-rule:evenodd;stroke:#000000;stroke-width:2.0px;stroke-linecap:butt;stroke-linejoin:miter;stroke-opacity:1\"/>\n",
       "<path class=\"bond-19 atom-12 atom-13\" d=\"M 111.81,185.094 L 125.412,185.146\" style=\"fill:none;fill-rule:evenodd;stroke:#000000;stroke-width:2.0px;stroke-linecap:butt;stroke-linejoin:miter;stroke-opacity:1\"/>\n",
       "<path class=\"bond-19 atom-12 atom-13\" d=\"M 125.412,185.146 L 139.014,185.197\" style=\"fill:none;fill-rule:evenodd;stroke:#FF0000;stroke-width:2.0px;stroke-linecap:butt;stroke-linejoin:miter;stroke-opacity:1\"/>\n",
       "<path class=\"bond-20 atom-13 atom-16\" d=\"M 150.088,185.795 L 159.342,186.78\" style=\"fill:none;fill-rule:evenodd;stroke:#FF0000;stroke-width:2.0px;stroke-linecap:butt;stroke-linejoin:miter;stroke-opacity:1\"/>\n",
       "<path class=\"bond-20 atom-13 atom-16\" d=\"M 159.342,186.78 L 168.596,187.764\" style=\"fill:none;fill-rule:evenodd;stroke:#000000;stroke-width:2.0px;stroke-linecap:butt;stroke-linejoin:miter;stroke-opacity:1\"/>\n",
       "<path class=\"bond-46 atom-14 atom-42\" d=\"M 54.2792,157.029 L 57.0741,161.861\" style=\"fill:none;fill-rule:evenodd;stroke:#FF0000;stroke-width:2.0px;stroke-linecap:butt;stroke-linejoin:miter;stroke-opacity:1\"/>\n",
       "<path class=\"bond-46 atom-14 atom-42\" d=\"M 57.0741,161.861 L 59.8689,166.692\" style=\"fill:none;fill-rule:evenodd;stroke:#000000;stroke-width:2.0px;stroke-linecap:butt;stroke-linejoin:miter;stroke-opacity:1\"/>\n",
       "<path class=\"bond-1 atom-16 atom-17\" d=\"M 168.596,187.764 L 176.372,172.77\" style=\"fill:none;fill-rule:evenodd;stroke:#000000;stroke-width:2.0px;stroke-linecap:butt;stroke-linejoin:miter;stroke-opacity:1\"/>\n",
       "<path class=\"bond-2 atom-16 atom-19\" d=\"M 168.596,187.764 L 192.487,212.284\" style=\"fill:none;fill-rule:evenodd;stroke:#000000;stroke-width:2.0px;stroke-linecap:butt;stroke-linejoin:miter;stroke-opacity:1\"/>\n",
       "<path class=\"bond-21 atom-16 atom-18\" d=\"M 168.596,187.764 L 163.862,190.762\" style=\"fill:none;fill-rule:evenodd;stroke:#000000;stroke-width:2.0px;stroke-linecap:butt;stroke-linejoin:miter;stroke-opacity:1\"/>\n",
       "<path class=\"bond-0 atom-19 atom-21\" d=\"M 192.487,212.284 L 184.999,227.537\" style=\"fill:none;fill-rule:evenodd;stroke:#000000;stroke-width:2.0px;stroke-linecap:butt;stroke-linejoin:miter;stroke-opacity:1\"/>\n",
       "<path class=\"bond-3 atom-19 atom-20\" d=\"M 192.487,212.284 L 197.022,209.624\" style=\"fill:none;fill-rule:evenodd;stroke:#000000;stroke-width:2.0px;stroke-linecap:butt;stroke-linejoin:miter;stroke-opacity:1\"/>\n",
       "<path class=\"bond-22 atom-22 atom-19\" d=\"M 205.349,212.726 L 192.487,212.284\" style=\"fill:none;fill-rule:evenodd;stroke:#000000;stroke-width:2.0px;stroke-linecap:butt;stroke-linejoin:miter;stroke-opacity:1\"/>\n",
       "<path class=\"bond-27 atom-23 atom-38\" d=\"M 200.318,57.0629 L 213.145,60.0662\" style=\"fill:none;fill-rule:evenodd;stroke:#000000;stroke-width:2.0px;stroke-linecap:butt;stroke-linejoin:miter;stroke-opacity:1\"/>\n",
       "<path class=\"bond-27 atom-23 atom-38\" d=\"M 213.145,60.0662 L 225.972,63.0694\" style=\"fill:none;fill-rule:evenodd;stroke:#FF0000;stroke-width:2.0px;stroke-linecap:butt;stroke-linejoin:miter;stroke-opacity:1\"/>\n",
       "<path class=\"bond-27 atom-23 atom-38\" d=\"M 202.011,49.8351 L 214.838,52.8383\" style=\"fill:none;fill-rule:evenodd;stroke:#000000;stroke-width:2.0px;stroke-linecap:butt;stroke-linejoin:miter;stroke-opacity:1\"/>\n",
       "<path class=\"bond-27 atom-23 atom-38\" d=\"M 214.838,52.8383 L 227.664,55.8416\" style=\"fill:none;fill-rule:evenodd;stroke:#FF0000;stroke-width:2.0px;stroke-linecap:butt;stroke-linejoin:miter;stroke-opacity:1\"/>\n",
       "<path class=\"bond-28 atom-23 atom-28\" d=\"M 201.165,53.449 L 176.67,77.7802\" style=\"fill:none;fill-rule:evenodd;stroke:#000000;stroke-width:2.0px;stroke-linecap:butt;stroke-linejoin:miter;stroke-opacity:1\"/>\n",
       "<path class=\"bond-29 atom-23 atom-37\" d=\"M 201.165,53.449 L 197.665,41.4534\" style=\"fill:none;fill-rule:evenodd;stroke:#000000;stroke-width:2.0px;stroke-linecap:butt;stroke-linejoin:miter;stroke-opacity:1\"/>\n",
       "<path class=\"bond-29 atom-23 atom-37\" d=\"M 197.665,41.4534 L 194.166,29.4579\" style=\"fill:none;fill-rule:evenodd;stroke:#FF0000;stroke-width:2.0px;stroke-linecap:butt;stroke-linejoin:miter;stroke-opacity:1\"/>\n",
       "<path class=\"bond-30 atom-24 atom-33\" d=\"M 118.343,93.05 L 126.615,125.856\" style=\"fill:none;fill-rule:evenodd;stroke:#000000;stroke-width:2.0px;stroke-linecap:butt;stroke-linejoin:miter;stroke-opacity:1\"/>\n",
       "<path class=\"bond-30 atom-24 atom-33\" d=\"M 126.781,96.1559 L 132.572,119.12\" style=\"fill:none;fill-rule:evenodd;stroke:#000000;stroke-width:2.0px;stroke-linecap:butt;stroke-linejoin:miter;stroke-opacity:1\"/>\n",
       "<path class=\"bond-31 atom-24 atom-26\" d=\"M 118.343,93.05 L 143.277,68.986\" style=\"fill:none;fill-rule:evenodd;stroke:#000000;stroke-width:2.0px;stroke-linecap:butt;stroke-linejoin:miter;stroke-opacity:1\"/>\n",
       "<path class=\"bond-32 atom-24 atom-25\" d=\"M 118.343,93.05 L 100.512,88.1243\" style=\"fill:none;fill-rule:evenodd;stroke:#000000;stroke-width:2.0px;stroke-linecap:butt;stroke-linejoin:miter;stroke-opacity:1\"/>\n",
       "<path class=\"bond-33 atom-26 atom-28\" d=\"M 143.277,68.986 L 176.67,77.7802\" style=\"fill:none;fill-rule:evenodd;stroke:#000000;stroke-width:2.0px;stroke-linecap:butt;stroke-linejoin:miter;stroke-opacity:1\"/>\n",
       "<path class=\"bond-33 atom-26 atom-28\" d=\"M 146.396,77.4837 L 169.771,83.6396\" style=\"fill:none;fill-rule:evenodd;stroke:#000000;stroke-width:2.0px;stroke-linecap:butt;stroke-linejoin:miter;stroke-opacity:1\"/>\n",
       "<path class=\"bond-34 atom-26 atom-27\" d=\"M 143.277,68.986 L 139.201,52.4125\" style=\"fill:none;fill-rule:evenodd;stroke:#000000;stroke-width:2.0px;stroke-linecap:butt;stroke-linejoin:miter;stroke-opacity:1\"/>\n",
       "<path class=\"bond-35 atom-28 atom-29\" d=\"M 176.67,77.7802 L 185.039,110.567\" style=\"fill:none;fill-rule:evenodd;stroke:#000000;stroke-width:2.0px;stroke-linecap:butt;stroke-linejoin:miter;stroke-opacity:1\"/>\n",
       "<path class=\"bond-36 atom-29 atom-31\" d=\"M 185.039,110.567 L 159.98,134.309\" style=\"fill:none;fill-rule:evenodd;stroke:#000000;stroke-width:2.0px;stroke-linecap:butt;stroke-linejoin:miter;stroke-opacity:1\"/>\n",
       "<path class=\"bond-36 atom-29 atom-31\" d=\"M 176.174,108.739 L 158.633,125.359\" style=\"fill:none;fill-rule:evenodd;stroke:#000000;stroke-width:2.0px;stroke-linecap:butt;stroke-linejoin:miter;stroke-opacity:1\"/>\n",
       "<path class=\"bond-37 atom-29 atom-30\" d=\"M 185.039,110.567 L 202.963,115.186\" style=\"fill:none;fill-rule:evenodd;stroke:#000000;stroke-width:2.0px;stroke-linecap:butt;stroke-linejoin:miter;stroke-opacity:1\"/>\n",
       "<path class=\"bond-38 atom-31 atom-33\" d=\"M 159.98,134.309 L 126.615,125.856\" style=\"fill:none;fill-rule:evenodd;stroke:#000000;stroke-width:2.0px;stroke-linecap:butt;stroke-linejoin:miter;stroke-opacity:1\"/>\n",
       "<path class=\"bond-39 atom-31 atom-32\" d=\"M 159.98,134.309 L 164.276,150.552\" style=\"fill:none;fill-rule:evenodd;stroke:#000000;stroke-width:2.0px;stroke-linecap:butt;stroke-linejoin:miter;stroke-opacity:1\"/>\n",
       "<path class=\"bond-40 atom-33 atom-35\" d=\"M 126.615,125.856 L 101.887,150.17\" style=\"fill:none;fill-rule:evenodd;stroke:#000000;stroke-width:2.0px;stroke-linecap:butt;stroke-linejoin:miter;stroke-opacity:1\"/>\n",
       "<path class=\"bond-41 atom-34 atom-35\" d=\"M 106.345,164.175 L 105.216,156.999\" style=\"fill:none;fill-rule:evenodd;stroke:#FF0000;stroke-width:2.0px;stroke-linecap:butt;stroke-linejoin:miter;stroke-opacity:1\"/>\n",
       "<path class=\"bond-41 atom-34 atom-35\" d=\"M 105.216,156.999 L 104.087,149.824\" style=\"fill:none;fill-rule:evenodd;stroke:#000000;stroke-width:2.0px;stroke-linecap:butt;stroke-linejoin:miter;stroke-opacity:1\"/>\n",
       "<path class=\"bond-41 atom-34 atom-35\" d=\"M 101.946,164.867 L 100.817,157.692\" style=\"fill:none;fill-rule:evenodd;stroke:#FF0000;stroke-width:2.0px;stroke-linecap:butt;stroke-linejoin:miter;stroke-opacity:1\"/>\n",
       "<path class=\"bond-41 atom-34 atom-35\" d=\"M 100.817,157.692 L 99.6875,150.516\" style=\"fill:none;fill-rule:evenodd;stroke:#000000;stroke-width:2.0px;stroke-linecap:butt;stroke-linejoin:miter;stroke-opacity:1\"/>\n",
       "<path class=\"bond-42 atom-35 atom-36\" d=\"M 101.887,150.17 L 91.743,151.787\" style=\"fill:none;fill-rule:evenodd;stroke:#000000;stroke-width:2.0px;stroke-linecap:butt;stroke-linejoin:miter;stroke-opacity:1\"/>\n",
       "<path class=\"bond-42 atom-35 atom-36\" d=\"M 91.743,151.787 L 81.5985,153.404\" style=\"fill:none;fill-rule:evenodd;stroke:#FF0000;stroke-width:2.0px;stroke-linecap:butt;stroke-linejoin:miter;stroke-opacity:1\"/>\n",
       "<path class=\"bond-43 atom-36 atom-39\" d=\"M 73.2173,148.601 L 71.3769,145.003\" style=\"fill:none;fill-rule:evenodd;stroke:#FF0000;stroke-width:2.0px;stroke-linecap:butt;stroke-linejoin:miter;stroke-opacity:1\"/>\n",
       "<path class=\"bond-43 atom-36 atom-39\" d=\"M 71.3769,145.003 L 69.5366,141.406\" style=\"fill:none;fill-rule:evenodd;stroke:#000000;stroke-width:2.0px;stroke-linecap:butt;stroke-linejoin:miter;stroke-opacity:1\"/>\n",
       "<path class=\"bond-45 atom-45 atom-37\" d=\"M 196.692,19.9175 L 194.515,21.5545\" style=\"fill:none;fill-rule:evenodd;stroke:#000000;stroke-width:2.0px;stroke-linecap:butt;stroke-linejoin:miter;stroke-opacity:1\"/>\n",
       "<path class=\"bond-45 atom-45 atom-37\" d=\"M 194.515,21.5545 L 192.338,23.1915\" style=\"fill:none;fill-rule:evenodd;stroke:#FF0000;stroke-width:2.0px;stroke-linecap:butt;stroke-linejoin:miter;stroke-opacity:1\"/>\n",
       "<path class=\"bond-24 atom-39 atom-40\" d=\"M 69.5366,141.406 L 56.5128,130.147\" style=\"fill:none;fill-rule:evenodd;stroke:#000000;stroke-width:2.0px;stroke-linecap:butt;stroke-linejoin:miter;stroke-opacity:1\"/>\n",
       "<path class=\"bond-25 atom-39 atom-42\" d=\"M 69.5366,141.406 L 59.8689,166.692\" style=\"fill:none;fill-rule:evenodd;stroke:#000000;stroke-width:2.0px;stroke-linecap:butt;stroke-linejoin:miter;stroke-opacity:1\"/>\n",
       "<path class=\"bond-44 atom-39 atom-41\" d=\"M 69.5366,141.406 L 83.741,132.99\" style=\"fill:none;fill-rule:evenodd;stroke:#000000;stroke-width:2.0px;stroke-linecap:butt;stroke-linejoin:miter;stroke-opacity:1\"/>\n",
       "<path class=\"bond-23 atom-42 atom-44\" d=\"M 59.8689,166.692 L 73.0542,177.709\" style=\"fill:none;fill-rule:evenodd;stroke:#000000;stroke-width:2.0px;stroke-linecap:butt;stroke-linejoin:miter;stroke-opacity:1\"/>\n",
       "<path class=\"bond-26 atom-42 atom-43\" d=\"M 59.8689,166.692 L 45.9604,175.506\" style=\"fill:none;fill-rule:evenodd;stroke:#000000;stroke-width:2.0px;stroke-linecap:butt;stroke-linejoin:miter;stroke-opacity:1\"/>\n",
       "<path class=\"atom-2\" d=\"M 118.615 139.644 L 120.04 139.644 L 120.04 144.113 L 125.414 144.113 L 125.414 139.644 L 126.84 139.644 L 126.84 150.155 L 125.414 150.155 L 125.414 145.3 L 120.04 145.3 L 120.04 150.155 L 118.615 150.155 L 118.615 139.644 \" fill=\"#000000\"/>\n",
       "<path class=\"atom-4\" d=\"M 87.9291 134.418 L 89.3544 134.418 L 89.3544 138.887 L 94.7289 138.887 L 94.7289 134.418 L 96.1542 134.418 L 96.1542 144.929 L 94.7289 144.929 L 94.7289 140.074 L 89.3544 140.074 L 89.3544 144.929 L 87.9291 144.929 L 87.9291 134.418 \" fill=\"#000000\"/>\n",
       "<path class=\"atom-7\" d=\"M 27.5849 209.445 L 29.0101 209.445 L 29.0101 213.914 L 34.3846 213.914 L 34.3846 209.445 L 35.8099 209.445 L 35.8099 219.957 L 34.3846 219.957 L 34.3846 215.102 L 29.0101 215.102 L 29.0101 219.957 L 27.5849 219.957 L 27.5849 209.445 \" fill=\"#000000\"/>\n",
       "<path class=\"atom-9\" d=\"M 56.2513 213.09 L 57.6766 213.09 L 57.6766 217.559 L 63.0511 217.559 L 63.0511 213.09 L 64.4763 213.09 L 64.4763 223.602 L 63.0511 223.602 L 63.0511 218.747 L 57.6766 218.747 L 57.6766 223.602 L 56.2513 223.602 L 56.2513 213.09 \" fill=\"#000000\"/>\n",
       "<path class=\"atom-11\" d=\"M 89.1936 188.432 Q 89.1936 185.908, 90.4407 184.498 Q 91.6878 183.088, 94.0187 183.088 Q 96.3497 183.088, 97.5968 184.498 Q 98.8439 185.908, 98.8439 188.432 Q 98.8439 190.986, 97.5819 192.441 Q 96.32 193.881, 94.0187 193.881 Q 91.7026 193.881, 90.4407 192.441 Q 89.1936 191.001, 89.1936 188.432 M 94.0187 192.693 Q 95.6222 192.693, 96.4833 191.624 Q 97.3592 190.541, 97.3592 188.432 Q 97.3592 186.369, 96.4833 185.329 Q 95.6222 184.275, 94.0187 184.275 Q 92.4153 184.275, 91.5393 185.315 Q 90.6782 186.354, 90.6782 188.432 Q 90.6782 190.555, 91.5393 191.624 Q 92.4153 192.693, 94.0187 192.693 \" fill=\"#FF0000\"/>\n",
       "<path class=\"atom-13\" d=\"M 139.836 185.248 Q 139.836 182.724, 141.083 181.313 Q 142.33 179.903, 144.661 179.903 Q 146.992 179.903, 148.239 181.313 Q 149.486 182.724, 149.486 185.248 Q 149.486 187.801, 148.224 189.256 Q 146.962 190.696, 144.661 190.696 Q 142.345 190.696, 141.083 189.256 Q 139.836 187.816, 139.836 185.248 M 144.661 189.509 Q 146.264 189.509, 147.125 188.44 Q 148.001 187.356, 148.001 185.248 Q 148.001 183.184, 147.125 182.145 Q 146.264 181.091, 144.661 181.091 Q 143.057 181.091, 142.181 182.13 Q 141.32 183.169, 141.32 185.248 Q 141.32 187.371, 142.181 188.44 Q 143.057 189.509, 144.661 189.509 \" fill=\"#FF0000\"/>\n",
       "<path class=\"atom-14\" d=\"M 46.0244 151.13 Q 46.0244 148.606, 47.2715 147.196 Q 48.5186 145.785, 50.8496 145.785 Q 53.1805 145.785, 54.4276 147.196 Q 55.6747 148.606, 55.6747 151.13 Q 55.6747 153.684, 54.4128 155.139 Q 53.1508 156.579, 50.8496 156.579 Q 48.5335 156.579, 47.2715 155.139 Q 46.0244 153.699, 46.0244 151.13 M 50.8496 155.391 Q 52.453 155.391, 53.3141 154.322 Q 54.1901 153.238, 54.1901 151.13 Q 54.1901 149.066, 53.3141 148.027 Q 52.453 146.973, 50.8496 146.973 Q 49.2461 146.973, 48.3702 148.012 Q 47.5091 149.052, 47.5091 151.13 Q 47.5091 153.253, 48.3702 154.322 Q 49.2461 155.391, 50.8496 155.391 \" fill=\"#FF0000\"/>\n",
       "<path class=\"atom-15\" d=\"M 12.7283 193.547 Q 12.7283 191.023, 13.9754 189.613 Q 15.2225 188.202, 17.5535 188.202 Q 19.8844 188.202, 21.1315 189.613 Q 22.3786 191.023, 22.3786 193.547 Q 22.3786 196.101, 21.1167 197.556 Q 19.8547 198.996, 17.5535 198.996 Q 15.2374 198.996, 13.9754 197.556 Q 12.7283 196.116, 12.7283 193.547 M 17.5535 197.808 Q 19.1569 197.808, 20.018 196.739 Q 20.894 195.655, 20.894 193.547 Q 20.894 191.483, 20.018 190.444 Q 19.1569 189.39, 17.5535 189.39 Q 15.95 189.39, 15.0741 190.429 Q 14.213 191.469, 14.213 193.547 Q 14.213 195.67, 15.0741 196.739 Q 15.95 197.808, 17.5535 197.808 \" fill=\"#FF0000\"/>\n",
       "<path class=\"atom-17\" d=\"M 175.289 161.671 L 176.715 161.671 L 176.715 166.14 L 182.089 166.14 L 182.089 161.671 L 183.514 161.671 L 183.514 172.183 L 182.089 172.183 L 182.089 167.328 L 176.715 167.328 L 176.715 172.183 L 175.289 172.183 L 175.289 161.671 \" fill=\"#000000\"/>\n",
       "<path class=\"atom-18\" d=\"M 155.368 188.281 L 156.793 188.281 L 156.793 192.75 L 162.167 192.75 L 162.167 188.281 L 163.593 188.281 L 163.593 198.793 L 162.167 198.793 L 162.167 193.938 L 156.793 193.938 L 156.793 198.793 L 155.368 198.793 L 155.368 188.281 \" fill=\"#000000\"/>\n",
       "<path class=\"atom-20\" d=\"M 197.28 201.804 L 198.705 201.804 L 198.705 206.273 L 204.08 206.273 L 204.08 201.804 L 205.505 201.804 L 205.505 212.316 L 204.08 212.316 L 204.08 207.461 L 198.705 207.461 L 198.705 212.316 L 197.28 212.316 L 197.28 201.804 \" fill=\"#000000\"/>\n",
       "<path class=\"atom-21\" d=\"M 178.019 228.125 L 179.444 228.125 L 179.444 232.594 L 184.818 232.594 L 184.818 228.125 L 186.244 228.125 L 186.244 238.636 L 184.818 238.636 L 184.818 233.782 L 179.444 233.782 L 179.444 238.636 L 178.019 238.636 L 178.019 228.125 \" fill=\"#000000\"/>\n",
       "<path class=\"atom-22\" d=\"M 205.784 207.627 L 207.21 207.627 L 207.21 212.095 L 212.584 212.095 L 212.584 207.627 L 214.009 207.627 L 214.009 218.138 L 212.584 218.138 L 212.584 213.283 L 207.21 213.283 L 207.21 218.138 L 205.784 218.138 L 205.784 207.627 \" fill=\"#000000\"/>\n",
       "<path class=\"atom-25\" d=\"M 91.7026 81.571 L 93.1279 81.571 L 93.1279 86.0399 L 98.5024 86.0399 L 98.5024 81.571 L 99.9277 81.571 L 99.9277 92.0825 L 98.5024 92.0825 L 98.5024 87.2276 L 93.1279 87.2276 L 93.1279 92.0825 L 91.7026 92.0825 L 91.7026 81.571 \" fill=\"#000000\"/>\n",
       "<path class=\"atom-27\" d=\"M 133.654 41.3242 L 135.08 41.3242 L 135.08 45.793 L 140.454 45.793 L 140.454 41.3242 L 141.879 41.3242 L 141.879 51.8356 L 140.454 51.8356 L 140.454 46.9808 L 135.08 46.9808 L 135.08 51.8356 L 133.654 51.8356 L 133.654 41.3242 \" fill=\"#000000\"/>\n",
       "<path class=\"atom-30\" d=\"M 203.548 111.141 L 204.973 111.141 L 204.973 115.609 L 210.347 115.609 L 210.347 111.141 L 211.773 111.141 L 211.773 121.652 L 210.347 121.652 L 210.347 116.797 L 204.973 116.797 L 204.973 121.652 L 203.548 121.652 L 203.548 111.141 \" fill=\"#000000\"/>\n",
       "<path class=\"atom-32\" d=\"M 161.705 151.123 L 163.13 151.123 L 163.13 155.592 L 168.504 155.592 L 168.504 151.123 L 169.93 151.123 L 169.93 161.634 L 168.504 161.634 L 168.504 156.779 L 163.13 156.779 L 163.13 161.634 L 161.705 161.634 L 161.705 151.123 \" fill=\"#000000\"/>\n",
       "<path class=\"atom-34\" d=\"M 100.237 170.376 Q 100.237 167.852, 101.484 166.442 Q 102.731 165.032, 105.062 165.032 Q 107.393 165.032, 108.64 166.442 Q 109.887 167.852, 109.887 170.376 Q 109.887 172.93, 108.625 174.385 Q 107.363 175.825, 105.062 175.825 Q 102.746 175.825, 101.484 174.385 Q 100.237 172.945, 100.237 170.376 M 105.062 174.637 Q 106.666 174.637, 107.527 173.568 Q 108.403 172.485, 108.403 170.376 Q 108.403 168.313, 107.527 167.273 Q 106.666 166.219, 105.062 166.219 Q 103.459 166.219, 102.583 167.259 Q 101.722 168.298, 101.722 170.376 Q 101.722 172.499, 102.583 173.568 Q 103.459 174.637, 105.062 174.637 \" fill=\"#FF0000\"/>\n",
       "<path class=\"atom-36\" d=\"M 71.2959 154.307 Q 71.2959 151.783, 72.543 150.373 Q 73.7901 148.963, 76.1211 148.963 Q 78.452 148.963, 79.6991 150.373 Q 80.9462 151.783, 80.9462 154.307 Q 80.9462 156.861, 79.6843 158.316 Q 78.4223 159.756, 76.1211 159.756 Q 73.805 159.756, 72.543 158.316 Q 71.2959 156.876, 71.2959 154.307 M 76.1211 158.568 Q 77.7245 158.568, 78.5856 157.499 Q 79.4616 156.416, 79.4616 154.307 Q 79.4616 152.244, 78.5856 151.204 Q 77.7245 150.15, 76.1211 150.15 Q 74.5176 150.15, 73.6417 151.19 Q 72.7806 152.229, 72.7806 154.307 Q 72.7806 156.43, 73.6417 157.499 Q 74.5176 158.568, 76.1211 158.568 \" fill=\"#FF0000\"/>\n",
       "<path class=\"atom-37\" d=\"M 187.513 23.2212 Q 187.513 20.6972, 188.76 19.2868 Q 190.007 17.8764, 192.338 17.8764 Q 194.669 17.8764, 195.916 19.2868 Q 197.163 20.6972, 197.163 23.2212 Q 197.163 25.7748, 195.901 27.2298 Q 194.64 28.6699, 192.338 28.6699 Q 190.022 28.6699, 188.76 27.2298 Q 187.513 25.7896, 187.513 23.2212 M 192.338 27.4822 Q 193.942 27.4822, 194.803 26.4132 Q 195.679 25.3294, 195.679 23.2212 Q 195.679 21.1575, 194.803 20.1182 Q 193.942 19.0641, 192.338 19.0641 Q 190.735 19.0641, 189.859 20.1034 Q 188.998 21.1426, 188.998 23.2212 Q 188.998 25.3442, 189.859 26.4132 Q 190.735 27.4822, 192.338 27.4822 \" fill=\"#FF0000\"/>\n",
       "<path class=\"atom-38\" d=\"M 227.621 60.803 Q 227.621 58.2791, 228.868 56.8687 Q 230.116 55.4582, 232.447 55.4582 Q 234.777 55.4582, 236.025 56.8687 Q 237.272 58.2791, 237.272 60.803 Q 237.272 63.3567, 236.01 64.8116 Q 234.748 66.2518, 232.447 66.2518 Q 230.13 66.2518, 228.868 64.8116 Q 227.621 63.3715, 227.621 60.803 M 232.447 65.064 Q 234.05 65.064, 234.911 63.9951 Q 235.787 62.9113, 235.787 60.803 Q 235.787 58.7393, 234.911 57.7001 Q 234.05 56.646, 232.447 56.646 Q 230.843 56.646, 229.967 57.6852 Q 229.106 58.7245, 229.106 60.803 Q 229.106 62.9261, 229.967 63.9951 Q 230.843 65.064, 232.447 65.064 \" fill=\"#FF0000\"/>\n",
       "<path class=\"atom-40\" d=\"M 47.7021 120.831 L 49.1274 120.831 L 49.1274 125.299 L 54.5019 125.299 L 54.5019 120.831 L 55.9271 120.831 L 55.9271 131.342 L 54.5019 131.342 L 54.5019 126.487 L 49.1274 126.487 L 49.1274 131.342 L 47.7021 131.342 L 47.7021 120.831 \" fill=\"#000000\"/>\n",
       "<path class=\"atom-41\" d=\"M 84.2892 124.973 L 85.7145 124.973 L 85.7145 129.442 L 91.089 129.442 L 91.089 124.973 L 92.5143 124.973 L 92.5143 135.484 L 91.089 135.484 L 91.089 130.629 L 85.7145 130.629 L 85.7145 135.484 L 84.2892 135.484 L 84.2892 124.973 \" fill=\"#000000\"/>\n",
       "<path class=\"atom-43\" d=\"M 37.1857 173.205 L 38.611 173.205 L 38.611 177.673 L 43.9855 177.673 L 43.9855 173.205 L 45.4107 173.205 L 45.4107 183.716 L 43.9855 183.716 L 43.9855 178.861 L 38.611 178.861 L 38.611 183.716 L 37.1857 183.716 L 37.1857 173.205 \" fill=\"#000000\"/>\n",
       "<path class=\"atom-44\" d=\"M 73.6367 176.377 L 75.062 176.377 L 75.062 180.846 L 80.4365 180.846 L 80.4365 176.377 L 81.8618 176.377 L 81.8618 186.888 L 80.4365 186.888 L 80.4365 182.033 L 75.062 182.033 L 75.062 186.888 L 73.6367 186.888 L 73.6367 176.377 \" fill=\"#000000\"/>\n",
       "<path class=\"atom-45\" d=\"M 196.965 11.3636 L 198.391 11.3636 L 198.391 15.8325 L 203.765 15.8325 L 203.765 11.3636 L 205.191 11.3636 L 205.191 21.8751 L 203.765 21.8751 L 203.765 17.0202 L 198.391 17.0202 L 198.391 21.8751 L 196.965 21.8751 L 196.965 11.3636 \" fill=\"#000000\"/>\n",
       "<path class=\"bond-4 atom-0 atom-15\" d=\"M 289.835,171.061 L 280.344,178.606\" style=\"fill:none;fill-rule:evenodd;stroke:#000000;stroke-width:2.0px;stroke-linecap:butt;stroke-linejoin:miter;stroke-opacity:1\"/>\n",
       "<path class=\"bond-4 atom-0 atom-15\" d=\"M 280.344,178.606 L 270.854,186.151\" style=\"fill:none;fill-rule:evenodd;stroke:#FF0000;stroke-width:2.0px;stroke-linecap:butt;stroke-linejoin:miter;stroke-opacity:1\"/>\n",
       "<path class=\"bond-4 atom-0 atom-15\" d=\"M 294.454,176.872 L 284.964,184.417\" style=\"fill:none;fill-rule:evenodd;stroke:#000000;stroke-width:2.0px;stroke-linecap:butt;stroke-linejoin:miter;stroke-opacity:1\"/>\n",
       "<path class=\"bond-4 atom-0 atom-15\" d=\"M 284.964,184.417 L 275.474,191.962\" style=\"fill:none;fill-rule:evenodd;stroke:#FF0000;stroke-width:2.0px;stroke-linecap:butt;stroke-linejoin:miter;stroke-opacity:1\"/>\n",
       "<path class=\"bond-5 atom-0 atom-5\" d=\"M 292.144,173.967 L 309.364,177.045\" style=\"fill:none;fill-rule:evenodd;stroke:#000000;stroke-width:2.0px;stroke-linecap:butt;stroke-linejoin:miter;stroke-opacity:1\"/>\n",
       "<path class=\"bond-6 atom-0 atom-14\" d=\"M 292.144,173.967 L 295.338,165.579\" style=\"fill:none;fill-rule:evenodd;stroke:#000000;stroke-width:2.0px;stroke-linecap:butt;stroke-linejoin:miter;stroke-opacity:1\"/>\n",
       "<path class=\"bond-6 atom-0 atom-14\" d=\"M 295.338,165.579 L 298.531,157.191\" style=\"fill:none;fill-rule:evenodd;stroke:#FF0000;stroke-width:2.0px;stroke-linecap:butt;stroke-linejoin:miter;stroke-opacity:1\"/>\n",
       "<path class=\"bond-7 atom-1 atom-10\" d=\"M 354.429,159.162 L 345.184,182.721\" style=\"fill:none;fill-rule:evenodd;stroke:#000000;stroke-width:2.0px;stroke-linecap:butt;stroke-linejoin:miter;stroke-opacity:1\"/>\n",
       "<path class=\"bond-7 atom-1 atom-10\" d=\"M 348.896,161.069 L 342.425,177.561\" style=\"fill:none;fill-rule:evenodd;stroke:#000000;stroke-width:2.0px;stroke-linecap:butt;stroke-linejoin:miter;stroke-opacity:1\"/>\n",
       "<path class=\"bond-8 atom-1 atom-3\" d=\"M 354.429,159.162 L 336.202,155.97\" style=\"fill:none;fill-rule:evenodd;stroke:#000000;stroke-width:2.0px;stroke-linecap:butt;stroke-linejoin:miter;stroke-opacity:1\"/>\n",
       "<path class=\"bond-9 atom-1 atom-2\" d=\"M 354.429,159.162 L 368.035,148.557\" style=\"fill:none;fill-rule:evenodd;stroke:#000000;stroke-width:2.0px;stroke-linecap:butt;stroke-linejoin:miter;stroke-opacity:1\"/>\n",
       "<path class=\"bond-10 atom-3 atom-5\" d=\"M 336.202,155.97 L 309.364,177.045\" style=\"fill:none;fill-rule:evenodd;stroke:#000000;stroke-width:2.0px;stroke-linecap:butt;stroke-linejoin:miter;stroke-opacity:1\"/>\n",
       "<path class=\"bond-10 atom-3 atom-5\" d=\"M 336.761,164.97 L 317.974,179.722\" style=\"fill:none;fill-rule:evenodd;stroke:#000000;stroke-width:2.0px;stroke-linecap:butt;stroke-linejoin:miter;stroke-opacity:1\"/>\n",
       "<path class=\"bond-11 atom-3 atom-4\" d=\"M 336.202,155.97 L 340.003,145.362\" style=\"fill:none;fill-rule:evenodd;stroke:#000000;stroke-width:2.0px;stroke-linecap:butt;stroke-linejoin:miter;stroke-opacity:1\"/>\n",
       "<path class=\"bond-12 atom-5 atom-6\" d=\"M 309.364,177.045 L 299.971,200.579\" style=\"fill:none;fill-rule:evenodd;stroke:#000000;stroke-width:2.0px;stroke-linecap:butt;stroke-linejoin:miter;stroke-opacity:1\"/>\n",
       "<path class=\"bond-13 atom-6 atom-8\" d=\"M 299.971,200.579 L 317.357,202.794\" style=\"fill:none;fill-rule:evenodd;stroke:#000000;stroke-width:2.0px;stroke-linecap:butt;stroke-linejoin:miter;stroke-opacity:1\"/>\n",
       "<path class=\"bond-13 atom-6 atom-8\" d=\"M 303.142,196.493 L 315.312,198.044\" style=\"fill:none;fill-rule:evenodd;stroke:#000000;stroke-width:2.0px;stroke-linecap:butt;stroke-linejoin:miter;stroke-opacity:1\"/>\n",
       "<path class=\"bond-14 atom-6 atom-7\" d=\"M 299.971,200.579 L 286.387,211.077\" style=\"fill:none;fill-rule:evenodd;stroke:#000000;stroke-width:2.0px;stroke-linecap:butt;stroke-linejoin:miter;stroke-opacity:1\"/>\n",
       "<path class=\"bond-15 atom-8 atom-10\" d=\"M 317.357,202.794 L 345.184,182.721\" style=\"fill:none;fill-rule:evenodd;stroke:#000000;stroke-width:2.0px;stroke-linecap:butt;stroke-linejoin:miter;stroke-opacity:1\"/>\n",
       "<path class=\"bond-16 atom-8 atom-9\" d=\"M 317.357,202.794 L 312.919,212.664\" style=\"fill:none;fill-rule:evenodd;stroke:#000000;stroke-width:2.0px;stroke-linecap:butt;stroke-linejoin:miter;stroke-opacity:1\"/>\n",
       "<path class=\"bond-17 atom-10 atom-12\" d=\"M 345.184,182.721 L 361.81,185.094\" style=\"fill:none;fill-rule:evenodd;stroke:#000000;stroke-width:2.0px;stroke-linecap:butt;stroke-linejoin:miter;stroke-opacity:1\"/>\n",
       "<path class=\"bond-18 atom-11 atom-12\" d=\"M 349.703,189.611 L 355.96,188.447\" style=\"fill:none;fill-rule:evenodd;stroke:#FF0000;stroke-width:2.0px;stroke-linecap:butt;stroke-linejoin:miter;stroke-opacity:1\"/>\n",
       "<path class=\"bond-18 atom-11 atom-12\" d=\"M 355.96,188.447 L 362.217,187.284\" style=\"fill:none;fill-rule:evenodd;stroke:#000000;stroke-width:2.0px;stroke-linecap:butt;stroke-linejoin:miter;stroke-opacity:1\"/>\n",
       "<path class=\"bond-18 atom-11 atom-12\" d=\"M 348.889,185.232 L 355.146,184.068\" style=\"fill:none;fill-rule:evenodd;stroke:#FF0000;stroke-width:2.0px;stroke-linecap:butt;stroke-linejoin:miter;stroke-opacity:1\"/>\n",
       "<path class=\"bond-18 atom-11 atom-12\" d=\"M 355.146,184.068 L 361.403,182.905\" style=\"fill:none;fill-rule:evenodd;stroke:#000000;stroke-width:2.0px;stroke-linecap:butt;stroke-linejoin:miter;stroke-opacity:1\"/>\n",
       "<path class=\"bond-19 atom-12 atom-13\" d=\"M 361.81,185.094 L 375.412,185.146\" style=\"fill:none;fill-rule:evenodd;stroke:#000000;stroke-width:2.0px;stroke-linecap:butt;stroke-linejoin:miter;stroke-opacity:1\"/>\n",
       "<path class=\"bond-19 atom-12 atom-13\" d=\"M 375.412,185.146 L 389.014,185.197\" style=\"fill:none;fill-rule:evenodd;stroke:#FF0000;stroke-width:2.0px;stroke-linecap:butt;stroke-linejoin:miter;stroke-opacity:1\"/>\n",
       "<path class=\"bond-20 atom-13 atom-16\" d=\"M 400.088,185.795 L 409.342,186.78\" style=\"fill:none;fill-rule:evenodd;stroke:#FF0000;stroke-width:2.0px;stroke-linecap:butt;stroke-linejoin:miter;stroke-opacity:1\"/>\n",
       "<path class=\"bond-20 atom-13 atom-16\" d=\"M 409.342,186.78 L 418.596,187.764\" style=\"fill:none;fill-rule:evenodd;stroke:#000000;stroke-width:2.0px;stroke-linecap:butt;stroke-linejoin:miter;stroke-opacity:1\"/>\n",
       "<path class=\"bond-46 atom-14 atom-42\" d=\"M 304.279,157.029 L 307.074,161.861\" style=\"fill:none;fill-rule:evenodd;stroke:#FF0000;stroke-width:2.0px;stroke-linecap:butt;stroke-linejoin:miter;stroke-opacity:1\"/>\n",
       "<path class=\"bond-46 atom-14 atom-42\" d=\"M 307.074,161.861 L 309.869,166.692\" style=\"fill:none;fill-rule:evenodd;stroke:#000000;stroke-width:2.0px;stroke-linecap:butt;stroke-linejoin:miter;stroke-opacity:1\"/>\n",
       "<path class=\"bond-1 atom-16 atom-17\" d=\"M 418.596,187.764 L 426.372,172.77\" style=\"fill:none;fill-rule:evenodd;stroke:#000000;stroke-width:2.0px;stroke-linecap:butt;stroke-linejoin:miter;stroke-opacity:1\"/>\n",
       "<path class=\"bond-2 atom-16 atom-19\" d=\"M 418.596,187.764 L 442.487,212.284\" style=\"fill:none;fill-rule:evenodd;stroke:#000000;stroke-width:2.0px;stroke-linecap:butt;stroke-linejoin:miter;stroke-opacity:1\"/>\n",
       "<path class=\"bond-21 atom-16 atom-18\" d=\"M 418.596,187.764 L 413.862,190.762\" style=\"fill:none;fill-rule:evenodd;stroke:#000000;stroke-width:2.0px;stroke-linecap:butt;stroke-linejoin:miter;stroke-opacity:1\"/>\n",
       "<path class=\"bond-0 atom-19 atom-21\" d=\"M 442.487,212.284 L 434.999,227.537\" style=\"fill:none;fill-rule:evenodd;stroke:#000000;stroke-width:2.0px;stroke-linecap:butt;stroke-linejoin:miter;stroke-opacity:1\"/>\n",
       "<path class=\"bond-3 atom-19 atom-20\" d=\"M 442.487,212.284 L 447.022,209.624\" style=\"fill:none;fill-rule:evenodd;stroke:#000000;stroke-width:2.0px;stroke-linecap:butt;stroke-linejoin:miter;stroke-opacity:1\"/>\n",
       "<path class=\"bond-22 atom-22 atom-19\" d=\"M 455.349,212.726 L 442.487,212.284\" style=\"fill:none;fill-rule:evenodd;stroke:#000000;stroke-width:2.0px;stroke-linecap:butt;stroke-linejoin:miter;stroke-opacity:1\"/>\n",
       "<path class=\"bond-27 atom-23 atom-38\" d=\"M 450.318,57.0629 L 463.145,60.0662\" style=\"fill:none;fill-rule:evenodd;stroke:#000000;stroke-width:2.0px;stroke-linecap:butt;stroke-linejoin:miter;stroke-opacity:1\"/>\n",
       "<path class=\"bond-27 atom-23 atom-38\" d=\"M 463.145,60.0662 L 475.972,63.0694\" style=\"fill:none;fill-rule:evenodd;stroke:#FF0000;stroke-width:2.0px;stroke-linecap:butt;stroke-linejoin:miter;stroke-opacity:1\"/>\n",
       "<path class=\"bond-27 atom-23 atom-38\" d=\"M 452.011,49.8351 L 464.838,52.8383\" style=\"fill:none;fill-rule:evenodd;stroke:#000000;stroke-width:2.0px;stroke-linecap:butt;stroke-linejoin:miter;stroke-opacity:1\"/>\n",
       "<path class=\"bond-27 atom-23 atom-38\" d=\"M 464.838,52.8383 L 477.664,55.8416\" style=\"fill:none;fill-rule:evenodd;stroke:#FF0000;stroke-width:2.0px;stroke-linecap:butt;stroke-linejoin:miter;stroke-opacity:1\"/>\n",
       "<path class=\"bond-28 atom-23 atom-28\" d=\"M 451.165,53.449 L 426.67,77.7802\" style=\"fill:none;fill-rule:evenodd;stroke:#000000;stroke-width:2.0px;stroke-linecap:butt;stroke-linejoin:miter;stroke-opacity:1\"/>\n",
       "<path class=\"bond-29 atom-23 atom-37\" d=\"M 451.165,53.449 L 447.665,41.4534\" style=\"fill:none;fill-rule:evenodd;stroke:#000000;stroke-width:2.0px;stroke-linecap:butt;stroke-linejoin:miter;stroke-opacity:1\"/>\n",
       "<path class=\"bond-29 atom-23 atom-37\" d=\"M 447.665,41.4534 L 444.166,29.4579\" style=\"fill:none;fill-rule:evenodd;stroke:#FF0000;stroke-width:2.0px;stroke-linecap:butt;stroke-linejoin:miter;stroke-opacity:1\"/>\n",
       "<path class=\"bond-30 atom-24 atom-33\" d=\"M 368.343,93.05 L 376.615,125.856\" style=\"fill:none;fill-rule:evenodd;stroke:#000000;stroke-width:2.0px;stroke-linecap:butt;stroke-linejoin:miter;stroke-opacity:1\"/>\n",
       "<path class=\"bond-30 atom-24 atom-33\" d=\"M 376.781,96.1559 L 382.572,119.12\" style=\"fill:none;fill-rule:evenodd;stroke:#000000;stroke-width:2.0px;stroke-linecap:butt;stroke-linejoin:miter;stroke-opacity:1\"/>\n",
       "<path class=\"bond-31 atom-24 atom-26\" d=\"M 368.343,93.05 L 393.277,68.986\" style=\"fill:none;fill-rule:evenodd;stroke:#000000;stroke-width:2.0px;stroke-linecap:butt;stroke-linejoin:miter;stroke-opacity:1\"/>\n",
       "<path class=\"bond-32 atom-24 atom-25\" d=\"M 368.343,93.05 L 350.512,88.1243\" style=\"fill:none;fill-rule:evenodd;stroke:#000000;stroke-width:2.0px;stroke-linecap:butt;stroke-linejoin:miter;stroke-opacity:1\"/>\n",
       "<path class=\"bond-33 atom-26 atom-28\" d=\"M 393.277,68.986 L 426.67,77.7802\" style=\"fill:none;fill-rule:evenodd;stroke:#000000;stroke-width:2.0px;stroke-linecap:butt;stroke-linejoin:miter;stroke-opacity:1\"/>\n",
       "<path class=\"bond-33 atom-26 atom-28\" d=\"M 396.396,77.4837 L 419.771,83.6396\" style=\"fill:none;fill-rule:evenodd;stroke:#000000;stroke-width:2.0px;stroke-linecap:butt;stroke-linejoin:miter;stroke-opacity:1\"/>\n",
       "<path class=\"bond-34 atom-26 atom-27\" d=\"M 393.277,68.986 L 389.201,52.4125\" style=\"fill:none;fill-rule:evenodd;stroke:#000000;stroke-width:2.0px;stroke-linecap:butt;stroke-linejoin:miter;stroke-opacity:1\"/>\n",
       "<path class=\"bond-35 atom-28 atom-29\" d=\"M 426.67,77.7802 L 435.039,110.567\" style=\"fill:none;fill-rule:evenodd;stroke:#000000;stroke-width:2.0px;stroke-linecap:butt;stroke-linejoin:miter;stroke-opacity:1\"/>\n",
       "<path class=\"bond-36 atom-29 atom-31\" d=\"M 435.039,110.567 L 409.98,134.309\" style=\"fill:none;fill-rule:evenodd;stroke:#000000;stroke-width:2.0px;stroke-linecap:butt;stroke-linejoin:miter;stroke-opacity:1\"/>\n",
       "<path class=\"bond-36 atom-29 atom-31\" d=\"M 426.174,108.739 L 408.633,125.359\" style=\"fill:none;fill-rule:evenodd;stroke:#000000;stroke-width:2.0px;stroke-linecap:butt;stroke-linejoin:miter;stroke-opacity:1\"/>\n",
       "<path class=\"bond-37 atom-29 atom-30\" d=\"M 435.039,110.567 L 452.963,115.186\" style=\"fill:none;fill-rule:evenodd;stroke:#000000;stroke-width:2.0px;stroke-linecap:butt;stroke-linejoin:miter;stroke-opacity:1\"/>\n",
       "<path class=\"bond-38 atom-31 atom-33\" d=\"M 409.98,134.309 L 376.615,125.856\" style=\"fill:none;fill-rule:evenodd;stroke:#000000;stroke-width:2.0px;stroke-linecap:butt;stroke-linejoin:miter;stroke-opacity:1\"/>\n",
       "<path class=\"bond-39 atom-31 atom-32\" d=\"M 409.98,134.309 L 414.276,150.552\" style=\"fill:none;fill-rule:evenodd;stroke:#000000;stroke-width:2.0px;stroke-linecap:butt;stroke-linejoin:miter;stroke-opacity:1\"/>\n",
       "<path class=\"bond-40 atom-33 atom-35\" d=\"M 376.615,125.856 L 351.887,150.17\" style=\"fill:none;fill-rule:evenodd;stroke:#000000;stroke-width:2.0px;stroke-linecap:butt;stroke-linejoin:miter;stroke-opacity:1\"/>\n",
       "<path class=\"bond-41 atom-34 atom-35\" d=\"M 356.345,164.175 L 355.216,156.999\" style=\"fill:none;fill-rule:evenodd;stroke:#FF0000;stroke-width:2.0px;stroke-linecap:butt;stroke-linejoin:miter;stroke-opacity:1\"/>\n",
       "<path class=\"bond-41 atom-34 atom-35\" d=\"M 355.216,156.999 L 354.087,149.824\" style=\"fill:none;fill-rule:evenodd;stroke:#000000;stroke-width:2.0px;stroke-linecap:butt;stroke-linejoin:miter;stroke-opacity:1\"/>\n",
       "<path class=\"bond-41 atom-34 atom-35\" d=\"M 351.946,164.867 L 350.817,157.692\" style=\"fill:none;fill-rule:evenodd;stroke:#FF0000;stroke-width:2.0px;stroke-linecap:butt;stroke-linejoin:miter;stroke-opacity:1\"/>\n",
       "<path class=\"bond-41 atom-34 atom-35\" d=\"M 350.817,157.692 L 349.688,150.516\" style=\"fill:none;fill-rule:evenodd;stroke:#000000;stroke-width:2.0px;stroke-linecap:butt;stroke-linejoin:miter;stroke-opacity:1\"/>\n",
       "<path class=\"bond-42 atom-35 atom-36\" d=\"M 351.887,150.17 L 341.743,151.787\" style=\"fill:none;fill-rule:evenodd;stroke:#000000;stroke-width:2.0px;stroke-linecap:butt;stroke-linejoin:miter;stroke-opacity:1\"/>\n",
       "<path class=\"bond-42 atom-35 atom-36\" d=\"M 341.743,151.787 L 331.599,153.404\" style=\"fill:none;fill-rule:evenodd;stroke:#FF0000;stroke-width:2.0px;stroke-linecap:butt;stroke-linejoin:miter;stroke-opacity:1\"/>\n",
       "<path class=\"bond-43 atom-36 atom-39\" d=\"M 323.217,148.601 L 321.377,145.003\" style=\"fill:none;fill-rule:evenodd;stroke:#FF0000;stroke-width:2.0px;stroke-linecap:butt;stroke-linejoin:miter;stroke-opacity:1\"/>\n",
       "<path class=\"bond-43 atom-36 atom-39\" d=\"M 321.377,145.003 L 319.537,141.406\" style=\"fill:none;fill-rule:evenodd;stroke:#000000;stroke-width:2.0px;stroke-linecap:butt;stroke-linejoin:miter;stroke-opacity:1\"/>\n",
       "<path class=\"bond-45 atom-45 atom-37\" d=\"M 446.692,19.9175 L 444.515,21.5545\" style=\"fill:none;fill-rule:evenodd;stroke:#000000;stroke-width:2.0px;stroke-linecap:butt;stroke-linejoin:miter;stroke-opacity:1\"/>\n",
       "<path class=\"bond-45 atom-45 atom-37\" d=\"M 444.515,21.5545 L 442.338,23.1915\" style=\"fill:none;fill-rule:evenodd;stroke:#FF0000;stroke-width:2.0px;stroke-linecap:butt;stroke-linejoin:miter;stroke-opacity:1\"/>\n",
       "<path class=\"bond-24 atom-39 atom-40\" d=\"M 319.537,141.406 L 306.513,130.147\" style=\"fill:none;fill-rule:evenodd;stroke:#000000;stroke-width:2.0px;stroke-linecap:butt;stroke-linejoin:miter;stroke-opacity:1\"/>\n",
       "<path class=\"bond-25 atom-39 atom-42\" d=\"M 319.537,141.406 L 309.869,166.692\" style=\"fill:none;fill-rule:evenodd;stroke:#000000;stroke-width:2.0px;stroke-linecap:butt;stroke-linejoin:miter;stroke-opacity:1\"/>\n",
       "<path class=\"bond-44 atom-39 atom-41\" d=\"M 319.537,141.406 L 333.741,132.99\" style=\"fill:none;fill-rule:evenodd;stroke:#000000;stroke-width:2.0px;stroke-linecap:butt;stroke-linejoin:miter;stroke-opacity:1\"/>\n",
       "<path class=\"bond-23 atom-42 atom-44\" d=\"M 309.869,166.692 L 323.054,177.709\" style=\"fill:none;fill-rule:evenodd;stroke:#000000;stroke-width:2.0px;stroke-linecap:butt;stroke-linejoin:miter;stroke-opacity:1\"/>\n",
       "<path class=\"bond-26 atom-42 atom-43\" d=\"M 309.869,166.692 L 295.96,175.506\" style=\"fill:none;fill-rule:evenodd;stroke:#000000;stroke-width:2.0px;stroke-linecap:butt;stroke-linejoin:miter;stroke-opacity:1\"/>\n",
       "<path class=\"atom-2\" d=\"M 368.615 139.644 L 370.04 139.644 L 370.04 144.113 L 375.414 144.113 L 375.414 139.644 L 376.84 139.644 L 376.84 150.155 L 375.414 150.155 L 375.414 145.3 L 370.04 145.3 L 370.04 150.155 L 368.615 150.155 L 368.615 139.644 \" fill=\"#000000\"/>\n",
       "<path class=\"atom-4\" d=\"M 337.929 134.418 L 339.354 134.418 L 339.354 138.887 L 344.729 138.887 L 344.729 134.418 L 346.154 134.418 L 346.154 144.929 L 344.729 144.929 L 344.729 140.074 L 339.354 140.074 L 339.354 144.929 L 337.929 144.929 L 337.929 134.418 \" fill=\"#000000\"/>\n",
       "<path class=\"atom-7\" d=\"M 277.585 209.445 L 279.01 209.445 L 279.01 213.914 L 284.385 213.914 L 284.385 209.445 L 285.81 209.445 L 285.81 219.957 L 284.385 219.957 L 284.385 215.102 L 279.01 215.102 L 279.01 219.957 L 277.585 219.957 L 277.585 209.445 \" fill=\"#000000\"/>\n",
       "<path class=\"atom-9\" d=\"M 306.251 213.09 L 307.677 213.09 L 307.677 217.559 L 313.051 217.559 L 313.051 213.09 L 314.476 213.09 L 314.476 223.602 L 313.051 223.602 L 313.051 218.747 L 307.677 218.747 L 307.677 223.602 L 306.251 223.602 L 306.251 213.09 \" fill=\"#000000\"/>\n",
       "<path class=\"atom-11\" d=\"M 339.194 188.432 Q 339.194 185.908, 340.441 184.498 Q 341.688 183.088, 344.019 183.088 Q 346.35 183.088, 347.597 184.498 Q 348.844 185.908, 348.844 188.432 Q 348.844 190.986, 347.582 192.441 Q 346.32 193.881, 344.019 193.881 Q 341.703 193.881, 340.441 192.441 Q 339.194 191.001, 339.194 188.432 M 344.019 192.693 Q 345.622 192.693, 346.483 191.624 Q 347.359 190.541, 347.359 188.432 Q 347.359 186.369, 346.483 185.329 Q 345.622 184.275, 344.019 184.275 Q 342.415 184.275, 341.539 185.315 Q 340.678 186.354, 340.678 188.432 Q 340.678 190.555, 341.539 191.624 Q 342.415 192.693, 344.019 192.693 \" fill=\"#FF0000\"/>\n",
       "<path class=\"atom-13\" d=\"M 389.836 185.248 Q 389.836 182.724, 391.083 181.313 Q 392.33 179.903, 394.661 179.903 Q 396.992 179.903, 398.239 181.313 Q 399.486 182.724, 399.486 185.248 Q 399.486 187.801, 398.224 189.256 Q 396.962 190.696, 394.661 190.696 Q 392.345 190.696, 391.083 189.256 Q 389.836 187.816, 389.836 185.248 M 394.661 189.509 Q 396.264 189.509, 397.125 188.44 Q 398.001 187.356, 398.001 185.248 Q 398.001 183.184, 397.125 182.145 Q 396.264 181.091, 394.661 181.091 Q 393.057 181.091, 392.181 182.13 Q 391.32 183.169, 391.32 185.248 Q 391.32 187.371, 392.181 188.44 Q 393.057 189.509, 394.661 189.509 \" fill=\"#FF0000\"/>\n",
       "<path class=\"atom-14\" d=\"M 296.024 151.13 Q 296.024 148.606, 297.272 147.196 Q 298.519 145.785, 300.85 145.785 Q 303.181 145.785, 304.428 147.196 Q 305.675 148.606, 305.675 151.13 Q 305.675 153.684, 304.413 155.139 Q 303.151 156.579, 300.85 156.579 Q 298.533 156.579, 297.272 155.139 Q 296.024 153.699, 296.024 151.13 M 300.85 155.391 Q 302.453 155.391, 303.314 154.322 Q 304.19 153.238, 304.19 151.13 Q 304.19 149.066, 303.314 148.027 Q 302.453 146.973, 300.85 146.973 Q 299.246 146.973, 298.37 148.012 Q 297.509 149.052, 297.509 151.13 Q 297.509 153.253, 298.37 154.322 Q 299.246 155.391, 300.85 155.391 \" fill=\"#FF0000\"/>\n",
       "<path class=\"atom-15\" d=\"M 262.728 193.547 Q 262.728 191.023, 263.975 189.613 Q 265.223 188.202, 267.553 188.202 Q 269.884 188.202, 271.132 189.613 Q 272.379 191.023, 272.379 193.547 Q 272.379 196.101, 271.117 197.556 Q 269.855 198.996, 267.553 198.996 Q 265.237 198.996, 263.975 197.556 Q 262.728 196.116, 262.728 193.547 M 267.553 197.808 Q 269.157 197.808, 270.018 196.739 Q 270.894 195.655, 270.894 193.547 Q 270.894 191.483, 270.018 190.444 Q 269.157 189.39, 267.553 189.39 Q 265.95 189.39, 265.074 190.429 Q 264.213 191.469, 264.213 193.547 Q 264.213 195.67, 265.074 196.739 Q 265.95 197.808, 267.553 197.808 \" fill=\"#FF0000\"/>\n",
       "<path class=\"atom-17\" d=\"M 425.289 161.671 L 426.715 161.671 L 426.715 166.14 L 432.089 166.14 L 432.089 161.671 L 433.514 161.671 L 433.514 172.183 L 432.089 172.183 L 432.089 167.328 L 426.715 167.328 L 426.715 172.183 L 425.289 172.183 L 425.289 161.671 \" fill=\"#000000\"/>\n",
       "<path class=\"atom-18\" d=\"M 405.368 188.281 L 406.793 188.281 L 406.793 192.75 L 412.167 192.75 L 412.167 188.281 L 413.593 188.281 L 413.593 198.793 L 412.167 198.793 L 412.167 193.938 L 406.793 193.938 L 406.793 198.793 L 405.368 198.793 L 405.368 188.281 \" fill=\"#000000\"/>\n",
       "<path class=\"atom-20\" d=\"M 447.28 201.804 L 448.705 201.804 L 448.705 206.273 L 454.08 206.273 L 454.08 201.804 L 455.505 201.804 L 455.505 212.316 L 454.08 212.316 L 454.08 207.461 L 448.705 207.461 L 448.705 212.316 L 447.28 212.316 L 447.28 201.804 \" fill=\"#000000\"/>\n",
       "<path class=\"atom-21\" d=\"M 428.019 228.125 L 429.444 228.125 L 429.444 232.594 L 434.818 232.594 L 434.818 228.125 L 436.244 228.125 L 436.244 238.636 L 434.818 238.636 L 434.818 233.782 L 429.444 233.782 L 429.444 238.636 L 428.019 238.636 L 428.019 228.125 \" fill=\"#000000\"/>\n",
       "<path class=\"atom-22\" d=\"M 455.784 207.627 L 457.21 207.627 L 457.21 212.095 L 462.584 212.095 L 462.584 207.627 L 464.009 207.627 L 464.009 218.138 L 462.584 218.138 L 462.584 213.283 L 457.21 213.283 L 457.21 218.138 L 455.784 218.138 L 455.784 207.627 \" fill=\"#000000\"/>\n",
       "<path class=\"atom-25\" d=\"M 341.703 81.571 L 343.128 81.571 L 343.128 86.0399 L 348.502 86.0399 L 348.502 81.571 L 349.928 81.571 L 349.928 92.0825 L 348.502 92.0825 L 348.502 87.2276 L 343.128 87.2276 L 343.128 92.0825 L 341.703 92.0825 L 341.703 81.571 \" fill=\"#000000\"/>\n",
       "<path class=\"atom-27\" d=\"M 383.654 41.3242 L 385.08 41.3242 L 385.08 45.793 L 390.454 45.793 L 390.454 41.3242 L 391.879 41.3242 L 391.879 51.8356 L 390.454 51.8356 L 390.454 46.9808 L 385.08 46.9808 L 385.08 51.8356 L 383.654 51.8356 L 383.654 41.3242 \" fill=\"#000000\"/>\n",
       "<path class=\"atom-30\" d=\"M 453.548 111.141 L 454.973 111.141 L 454.973 115.609 L 460.347 115.609 L 460.347 111.141 L 461.773 111.141 L 461.773 121.652 L 460.347 121.652 L 460.347 116.797 L 454.973 116.797 L 454.973 121.652 L 453.548 121.652 L 453.548 111.141 \" fill=\"#000000\"/>\n",
       "<path class=\"atom-32\" d=\"M 411.705 151.123 L 413.13 151.123 L 413.13 155.592 L 418.504 155.592 L 418.504 151.123 L 419.93 151.123 L 419.93 161.634 L 418.504 161.634 L 418.504 156.779 L 413.13 156.779 L 413.13 161.634 L 411.705 161.634 L 411.705 151.123 \" fill=\"#000000\"/>\n",
       "<path class=\"atom-34\" d=\"M 350.237 170.376 Q 350.237 167.852, 351.484 166.442 Q 352.731 165.032, 355.062 165.032 Q 357.393 165.032, 358.64 166.442 Q 359.887 167.852, 359.887 170.376 Q 359.887 172.93, 358.625 174.385 Q 357.363 175.825, 355.062 175.825 Q 352.746 175.825, 351.484 174.385 Q 350.237 172.945, 350.237 170.376 M 355.062 174.637 Q 356.666 174.637, 357.527 173.568 Q 358.403 172.485, 358.403 170.376 Q 358.403 168.313, 357.527 167.273 Q 356.666 166.219, 355.062 166.219 Q 353.459 166.219, 352.583 167.259 Q 351.722 168.298, 351.722 170.376 Q 351.722 172.499, 352.583 173.568 Q 353.459 174.637, 355.062 174.637 \" fill=\"#FF0000\"/>\n",
       "<path class=\"atom-36\" d=\"M 321.296 154.307 Q 321.296 151.783, 322.543 150.373 Q 323.79 148.963, 326.121 148.963 Q 328.452 148.963, 329.699 150.373 Q 330.946 151.783, 330.946 154.307 Q 330.946 156.861, 329.684 158.316 Q 328.422 159.756, 326.121 159.756 Q 323.805 159.756, 322.543 158.316 Q 321.296 156.876, 321.296 154.307 M 326.121 158.568 Q 327.725 158.568, 328.586 157.499 Q 329.462 156.416, 329.462 154.307 Q 329.462 152.244, 328.586 151.204 Q 327.725 150.15, 326.121 150.15 Q 324.518 150.15, 323.642 151.19 Q 322.781 152.229, 322.781 154.307 Q 322.781 156.43, 323.642 157.499 Q 324.518 158.568, 326.121 158.568 \" fill=\"#FF0000\"/>\n",
       "<path class=\"atom-37\" d=\"M 437.513 23.2212 Q 437.513 20.6972, 438.76 19.2868 Q 440.007 17.8764, 442.338 17.8764 Q 444.669 17.8764, 445.916 19.2868 Q 447.163 20.6972, 447.163 23.2212 Q 447.163 25.7748, 445.901 27.2298 Q 444.64 28.6699, 442.338 28.6699 Q 440.022 28.6699, 438.76 27.2298 Q 437.513 25.7896, 437.513 23.2212 M 442.338 27.4822 Q 443.942 27.4822, 444.803 26.4132 Q 445.679 25.3294, 445.679 23.2212 Q 445.679 21.1575, 444.803 20.1182 Q 443.942 19.0641, 442.338 19.0641 Q 440.735 19.0641, 439.859 20.1034 Q 438.998 21.1426, 438.998 23.2212 Q 438.998 25.3442, 439.859 26.4132 Q 440.735 27.4822, 442.338 27.4822 \" fill=\"#FF0000\"/>\n",
       "<path class=\"atom-38\" d=\"M 477.621 60.803 Q 477.621 58.2791, 478.868 56.8687 Q 480.116 55.4582, 482.447 55.4582 Q 484.777 55.4582, 486.025 56.8687 Q 487.272 58.2791, 487.272 60.803 Q 487.272 63.3567, 486.01 64.8116 Q 484.748 66.2518, 482.447 66.2518 Q 480.13 66.2518, 478.868 64.8116 Q 477.621 63.3715, 477.621 60.803 M 482.447 65.064 Q 484.05 65.064, 484.911 63.9951 Q 485.787 62.9113, 485.787 60.803 Q 485.787 58.7393, 484.911 57.7001 Q 484.05 56.646, 482.447 56.646 Q 480.843 56.646, 479.967 57.6852 Q 479.106 58.7245, 479.106 60.803 Q 479.106 62.9261, 479.967 63.9951 Q 480.843 65.064, 482.447 65.064 \" fill=\"#FF0000\"/>\n",
       "<path class=\"atom-40\" d=\"M 297.702 120.831 L 299.127 120.831 L 299.127 125.299 L 304.502 125.299 L 304.502 120.831 L 305.927 120.831 L 305.927 131.342 L 304.502 131.342 L 304.502 126.487 L 299.127 126.487 L 299.127 131.342 L 297.702 131.342 L 297.702 120.831 \" fill=\"#000000\"/>\n",
       "<path class=\"atom-41\" d=\"M 334.289 124.973 L 335.714 124.973 L 335.714 129.442 L 341.089 129.442 L 341.089 124.973 L 342.514 124.973 L 342.514 135.484 L 341.089 135.484 L 341.089 130.629 L 335.714 130.629 L 335.714 135.484 L 334.289 135.484 L 334.289 124.973 \" fill=\"#000000\"/>\n",
       "<path class=\"atom-43\" d=\"M 287.186 173.205 L 288.611 173.205 L 288.611 177.673 L 293.985 177.673 L 293.985 173.205 L 295.411 173.205 L 295.411 183.716 L 293.985 183.716 L 293.985 178.861 L 288.611 178.861 L 288.611 183.716 L 287.186 183.716 L 287.186 173.205 \" fill=\"#000000\"/>\n",
       "<path class=\"atom-44\" d=\"M 323.637 176.377 L 325.062 176.377 L 325.062 180.846 L 330.437 180.846 L 330.437 176.377 L 331.862 176.377 L 331.862 186.888 L 330.437 186.888 L 330.437 182.033 L 325.062 182.033 L 325.062 186.888 L 323.637 186.888 L 323.637 176.377 \" fill=\"#000000\"/>\n",
       "<path class=\"atom-45\" d=\"M 446.965 11.3636 L 448.391 11.3636 L 448.391 15.8325 L 453.765 15.8325 L 453.765 11.3636 L 455.191 11.3636 L 455.191 21.8751 L 453.765 21.8751 L 453.765 17.0202 L 448.391 17.0202 L 448.391 21.8751 L 446.965 21.8751 L 446.965 11.3636 \" fill=\"#000000\"/>\n",
       "</svg>"
      ],
      "text/plain": [
       "<IPython.core.display.SVG object>"
      ]
     },
     "execution_count": 10,
     "metadata": {},
     "output_type": "execute_result"
    }
   ],
   "source": [
    "IPythonConsole.ipython_useSVG=True\n",
    "m1 = g1_mol2_ms.mol_rdkit\n",
    "Draw.MolsToGridImage((m1, m1), subImgSize=(250,250))"
   ]
  },
  {
   "cell_type": "code",
   "execution_count": 11,
   "metadata": {
    "pycharm": {
     "name": "#%%\n"
    }
   },
   "outputs": [
    {
     "name": "stdout",
     "output_type": "stream",
     "text": [
      "\n",
      "\t\t ======== GENERATE CONFORMERS ========\n",
      "\t\t 1. Generating 50 conformers (04-07-2021 12:31:34)\n",
      "\t\t 2. Minimizing 50 conformers. Max_iters = 3000, threshold = 2.0 A (04-07-2021 12:31:35)\n",
      "\t\t\t Using MMFF forcefield\n",
      "Minimizing[########################################] 50/50\n",
      "\t\t 3. Cluster Conformers (04-07-2021 12:31:38)\n",
      "\t\t\tGenerated: 50 conformers and 9 clusters\n",
      "\t\t 4. Get structure of minimum energy for each cluster (04-07-2021 12:31:38)\n",
      "\t\t 5. Write Conformers to PDB (04-07-2021 12:31:38)\n",
      "\t\t 6. Write Conformers to Gaussian16 (04-07-2021 12:31:38)\n"
     ]
    }
   ],
   "source": [
    "g1_mol2_ms.generate_conformers(nconfs=50, minimize_iterations=3000, pattern=\"PET2\")\n",
    "g1_mol2_ms.write_all_conformers_to_pdb(\"PET2_conf_all_trj.pdb\")"
   ]
  },
  {
   "cell_type": "code",
   "execution_count": 12,
   "metadata": {
    "pycharm": {
     "name": "#%%\n"
    }
   },
   "outputs": [
    {
     "data": {
      "application/vnd.jupyter.widget-view+json": {
       "model_id": "f8a8c4b5f2894f509490cdbe69bdfd26",
       "version_major": 2,
       "version_minor": 0
      },
      "text/plain": [
       "NGLWidget(max_frame=49)"
      ]
     },
     "metadata": {},
     "output_type": "display_data"
    }
   ],
   "source": [
    "import nglview as nv\n",
    "import MDAnalysis as mda\n",
    "u = mda.Universe(\"PET2_conf_all_trj.pdb\")\n",
    "mol = u.select_atoms('all')\n",
    "t = nv.MDAnalysisTrajectory(mol)\n",
    "w = nv.NGLWidget(t)\n",
    "w"
   ]
  },
  {
   "cell_type": "code",
   "execution_count": 13,
   "metadata": {
    "pycharm": {
     "name": "#%%\n"
    }
   },
   "outputs": [
    {
     "data": {
      "application/vnd.jupyter.widget-view+json": {
       "model_id": "6179f9c825e64428a3f537fd562a5cda",
       "version_major": 2,
       "version_minor": 0
      },
      "text/plain": [
       "NGLWidget(max_frame=8)"
      ]
     },
     "metadata": {},
     "output_type": "display_data"
    }
   ],
   "source": [
    "u = mda.Universe(\"PET2_conf_min_trj.pdb\")\n",
    "mol = u.select_atoms('all')\n",
    "t = nv.MDAnalysisTrajectory(mol)\n",
    "w = nv.NGLWidget(t)\n",
    "w\n"
   ]
  },
  {
   "cell_type": "code",
   "execution_count": null,
   "metadata": {
    "pycharm": {
     "name": "#%%\n"
    }
   },
   "outputs": [],
   "source": []
  },
  {
   "cell_type": "code",
   "execution_count": null,
   "metadata": {
    "pycharm": {
     "name": "#%%\n"
    }
   },
   "outputs": [],
   "source": []
  },
  {
   "cell_type": "code",
   "execution_count": null,
   "metadata": {},
   "outputs": [],
   "source": []
  },
  {
   "cell_type": "code",
   "execution_count": null,
   "metadata": {},
   "outputs": [],
   "source": []
  }
 ],
 "metadata": {
  "kernelspec": {
   "display_name": "Python 3 (ipykernel)",
   "language": "python",
   "name": "python3"
  },
  "language_info": {
   "codemirror_mode": {
    "name": "ipython",
    "version": 3
   },
   "file_extension": ".py",
   "mimetype": "text/x-python",
   "name": "python",
   "nbconvert_exporter": "python",
   "pygments_lexer": "ipython3",
   "version": "3.8.10"
  }
 },
 "nbformat": 4,
 "nbformat_minor": 1
}
